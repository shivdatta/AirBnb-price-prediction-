{
 "cells": [
  {
   "cell_type": "markdown",
   "metadata": {},
   "source": [
    "# Regression"
   ]
  },
  {
   "cell_type": "markdown",
   "metadata": {},
   "source": [
    "# AIRBNB Price Prediction in NYC"
   ]
  },
  {
   "cell_type": "markdown",
   "metadata": {},
   "source": [
    "In this project we take data of Airbnb listings in the NYC,US and try to predict the price of stay in that listing.\n",
    "\n",
    "The data includes 4852 listings and 29 columns - including log_price, what we are trying to predict."
   ]
  },
  {
   "cell_type": "code",
   "execution_count": 1,
   "metadata": {},
   "outputs": [],
   "source": [
    "import numpy as np\n",
    "import pandas as pd\n",
    "import seaborn as sns\n",
    "from sklearn.preprocessing import MinMaxScaler\n",
    "from sklearn.model_selection import train_test_split\n",
    "from sklearn.svm import SVC\n",
    "from sklearn.linear_model import LogisticRegression\n",
    "from sklearn.tree import DecisionTreeClassifier\n",
    "from sklearn.tree import DecisionTreeRegressor\n",
    "from sklearn.metrics import recall_score\n",
    "from sklearn.ensemble import VotingClassifier\n",
    "from sklearn import model_selection \n",
    "from sklearn.metrics import mean_squared_error\n",
    "from sklearn.model_selection import cross_val_score\n",
    "from sklearn.ensemble import BaggingClassifier\n",
    "from sklearn.ensemble import BaggingRegressor\n",
    "from sklearn.model_selection import GridSearchCV\n",
    "from sklearn.ensemble import GradientBoostingClassifier\n",
    "from sklearn.ensemble import GradientBoostingRegressor\n",
    "from sklearn.model_selection import GridSearchCV, ParameterGrid\n",
    "import warnings\n",
    "warnings.filterwarnings('ignore')"
   ]
  },
  {
   "cell_type": "code",
   "execution_count": 2,
   "metadata": {},
   "outputs": [],
   "source": [
    "NYC_data = pd.read_csv('NYC_AirBNB .csv')"
   ]
  },
  {
   "cell_type": "code",
   "execution_count": 3,
   "metadata": {},
   "outputs": [
    {
     "name": "stdout",
     "output_type": "stream",
     "text": [
      "<class 'pandas.core.frame.DataFrame'>\n",
      "RangeIndex: 4852 entries, 0 to 4851\n",
      "Data columns (total 30 columns):\n",
      "Unnamed: 0                4852 non-null int64\n",
      "id                        4852 non-null int64\n",
      "log_price                 4852 non-null float64\n",
      "property_type             4852 non-null object\n",
      "room_type                 4852 non-null object\n",
      "amenities                 4852 non-null object\n",
      "accommodates              4852 non-null int64\n",
      "bathrooms                 4838 non-null float64\n",
      "bed_type                  4852 non-null object\n",
      "cancellation_policy       4852 non-null object\n",
      "cleaning_fee              4852 non-null object\n",
      "city                      4852 non-null object\n",
      "description               4852 non-null object\n",
      "first_review              3833 non-null object\n",
      "host_has_profile_pic      4814 non-null object\n",
      "host_identity_verified    4814 non-null object\n",
      "host_response_rate        3348 non-null object\n",
      "host_since                4814 non-null object\n",
      "instant_bookable          4852 non-null object\n",
      "last_review               3837 non-null object\n",
      "latitude                  4852 non-null float64\n",
      "longitude                 4852 non-null float64\n",
      "name                      4852 non-null object\n",
      "neighbourhood             4852 non-null object\n",
      "number_of_reviews         4852 non-null int64\n",
      "review_scores_rating      3759 non-null float64\n",
      "thumbnail_url             4494 non-null object\n",
      "zipcode                   4789 non-null object\n",
      "bedrooms                  4850 non-null float64\n",
      "beds                      4840 non-null float64\n",
      "dtypes: float64(7), int64(4), object(19)\n",
      "memory usage: 1.1+ MB\n"
     ]
    }
   ],
   "source": [
    "NYC_data.info()"
   ]
  },
  {
   "cell_type": "code",
   "execution_count": 4,
   "metadata": {},
   "outputs": [
    {
     "data": {
      "text/html": [
       "<div>\n",
       "<style scoped>\n",
       "    .dataframe tbody tr th:only-of-type {\n",
       "        vertical-align: middle;\n",
       "    }\n",
       "\n",
       "    .dataframe tbody tr th {\n",
       "        vertical-align: top;\n",
       "    }\n",
       "\n",
       "    .dataframe thead th {\n",
       "        text-align: right;\n",
       "    }\n",
       "</style>\n",
       "<table border=\"1\" class=\"dataframe\">\n",
       "  <thead>\n",
       "    <tr style=\"text-align: right;\">\n",
       "      <th></th>\n",
       "      <th>Unnamed: 0</th>\n",
       "      <th>id</th>\n",
       "      <th>log_price</th>\n",
       "      <th>property_type</th>\n",
       "      <th>room_type</th>\n",
       "      <th>amenities</th>\n",
       "      <th>accommodates</th>\n",
       "      <th>bathrooms</th>\n",
       "      <th>bed_type</th>\n",
       "      <th>cancellation_policy</th>\n",
       "      <th>...</th>\n",
       "      <th>latitude</th>\n",
       "      <th>longitude</th>\n",
       "      <th>name</th>\n",
       "      <th>neighbourhood</th>\n",
       "      <th>number_of_reviews</th>\n",
       "      <th>review_scores_rating</th>\n",
       "      <th>thumbnail_url</th>\n",
       "      <th>zipcode</th>\n",
       "      <th>bedrooms</th>\n",
       "      <th>beds</th>\n",
       "    </tr>\n",
       "  </thead>\n",
       "  <tbody>\n",
       "    <tr>\n",
       "      <td>0</td>\n",
       "      <td>16553</td>\n",
       "      <td>44472</td>\n",
       "      <td>4.382027</td>\n",
       "      <td>Condominium</td>\n",
       "      <td>Private room</td>\n",
       "      <td>{TV,\"Cable TV\",Internet,\"Wireless Internet\",\"A...</td>\n",
       "      <td>1</td>\n",
       "      <td>1.0</td>\n",
       "      <td>Real Bed</td>\n",
       "      <td>flexible</td>\n",
       "      <td>...</td>\n",
       "      <td>40.762239</td>\n",
       "      <td>-73.981589</td>\n",
       "      <td>Luxury  bedroom in Times Square</td>\n",
       "      <td>Times Square/Theatre District</td>\n",
       "      <td>1</td>\n",
       "      <td>NaN</td>\n",
       "      <td>https://a0.muscache.com/im/pictures/101584608/...</td>\n",
       "      <td>10019</td>\n",
       "      <td>1.0</td>\n",
       "      <td>1.0</td>\n",
       "    </tr>\n",
       "    <tr>\n",
       "      <td>1</td>\n",
       "      <td>12555</td>\n",
       "      <td>7007348</td>\n",
       "      <td>5.075174</td>\n",
       "      <td>Apartment</td>\n",
       "      <td>Entire home/apt</td>\n",
       "      <td>{TV,Internet,\"Wireless Internet\",\"Air conditio...</td>\n",
       "      <td>3</td>\n",
       "      <td>1.0</td>\n",
       "      <td>Real Bed</td>\n",
       "      <td>strict</td>\n",
       "      <td>...</td>\n",
       "      <td>40.677892</td>\n",
       "      <td>-73.992054</td>\n",
       "      <td>Stylish and bright one bedroom</td>\n",
       "      <td>Gowanus</td>\n",
       "      <td>17</td>\n",
       "      <td>98.0</td>\n",
       "      <td>https://a0.muscache.com/im/pictures/cc7d769d-9...</td>\n",
       "      <td>11231</td>\n",
       "      <td>1.0</td>\n",
       "      <td>2.0</td>\n",
       "    </tr>\n",
       "    <tr>\n",
       "      <td>2</td>\n",
       "      <td>15012</td>\n",
       "      <td>10283574</td>\n",
       "      <td>4.852030</td>\n",
       "      <td>Apartment</td>\n",
       "      <td>Entire home/apt</td>\n",
       "      <td>{\"Wireless Internet\",\"Air conditioning\",Kitche...</td>\n",
       "      <td>2</td>\n",
       "      <td>1.0</td>\n",
       "      <td>Real Bed</td>\n",
       "      <td>moderate</td>\n",
       "      <td>...</td>\n",
       "      <td>40.741380</td>\n",
       "      <td>-73.998753</td>\n",
       "      <td>Sunny Chelsea Studio</td>\n",
       "      <td>Chelsea</td>\n",
       "      <td>6</td>\n",
       "      <td>93.0</td>\n",
       "      <td>https://a0.muscache.com/im/pictures/2a690ce6-2...</td>\n",
       "      <td>NaN</td>\n",
       "      <td>0.0</td>\n",
       "      <td>2.0</td>\n",
       "    </tr>\n",
       "    <tr>\n",
       "      <td>3</td>\n",
       "      <td>21502</td>\n",
       "      <td>1754527</td>\n",
       "      <td>5.010635</td>\n",
       "      <td>Apartment</td>\n",
       "      <td>Entire home/apt</td>\n",
       "      <td>{TV,Internet,\"Wireless Internet\",\"Air conditio...</td>\n",
       "      <td>4</td>\n",
       "      <td>1.0</td>\n",
       "      <td>Real Bed</td>\n",
       "      <td>strict</td>\n",
       "      <td>...</td>\n",
       "      <td>40.800331</td>\n",
       "      <td>-73.965090</td>\n",
       "      <td>BEAUTIFUL 1BR APT ON THE UPPER WEST</td>\n",
       "      <td>Upper West Side</td>\n",
       "      <td>49</td>\n",
       "      <td>96.0</td>\n",
       "      <td>NaN</td>\n",
       "      <td>10025</td>\n",
       "      <td>1.0</td>\n",
       "      <td>2.0</td>\n",
       "    </tr>\n",
       "    <tr>\n",
       "      <td>4</td>\n",
       "      <td>13431</td>\n",
       "      <td>16823953</td>\n",
       "      <td>4.317488</td>\n",
       "      <td>Apartment</td>\n",
       "      <td>Private room</td>\n",
       "      <td>{TV,\"Wireless Internet\",\"Air conditioning\",Kit...</td>\n",
       "      <td>2</td>\n",
       "      <td>1.0</td>\n",
       "      <td>Real Bed</td>\n",
       "      <td>flexible</td>\n",
       "      <td>...</td>\n",
       "      <td>40.711386</td>\n",
       "      <td>-73.963529</td>\n",
       "      <td>1st floor room in the heart of Williamsburg</td>\n",
       "      <td>Williamsburg</td>\n",
       "      <td>0</td>\n",
       "      <td>NaN</td>\n",
       "      <td>https://a0.muscache.com/im/pictures/bc456a57-b...</td>\n",
       "      <td>11249</td>\n",
       "      <td>1.0</td>\n",
       "      <td>1.0</td>\n",
       "    </tr>\n",
       "  </tbody>\n",
       "</table>\n",
       "<p>5 rows × 30 columns</p>\n",
       "</div>"
      ],
      "text/plain": [
       "   Unnamed: 0        id  log_price property_type        room_type  \\\n",
       "0       16553     44472   4.382027   Condominium     Private room   \n",
       "1       12555   7007348   5.075174     Apartment  Entire home/apt   \n",
       "2       15012  10283574   4.852030     Apartment  Entire home/apt   \n",
       "3       21502   1754527   5.010635     Apartment  Entire home/apt   \n",
       "4       13431  16823953   4.317488     Apartment     Private room   \n",
       "\n",
       "                                           amenities  accommodates  bathrooms  \\\n",
       "0  {TV,\"Cable TV\",Internet,\"Wireless Internet\",\"A...             1        1.0   \n",
       "1  {TV,Internet,\"Wireless Internet\",\"Air conditio...             3        1.0   \n",
       "2  {\"Wireless Internet\",\"Air conditioning\",Kitche...             2        1.0   \n",
       "3  {TV,Internet,\"Wireless Internet\",\"Air conditio...             4        1.0   \n",
       "4  {TV,\"Wireless Internet\",\"Air conditioning\",Kit...             2        1.0   \n",
       "\n",
       "   bed_type cancellation_policy  ...   latitude  longitude  \\\n",
       "0  Real Bed            flexible  ...  40.762239 -73.981589   \n",
       "1  Real Bed              strict  ...  40.677892 -73.992054   \n",
       "2  Real Bed            moderate  ...  40.741380 -73.998753   \n",
       "3  Real Bed              strict  ...  40.800331 -73.965090   \n",
       "4  Real Bed            flexible  ...  40.711386 -73.963529   \n",
       "\n",
       "                                          name                  neighbourhood  \\\n",
       "0              Luxury  bedroom in Times Square  Times Square/Theatre District   \n",
       "1               Stylish and bright one bedroom                        Gowanus   \n",
       "2                         Sunny Chelsea Studio                        Chelsea   \n",
       "3          BEAUTIFUL 1BR APT ON THE UPPER WEST                Upper West Side   \n",
       "4  1st floor room in the heart of Williamsburg                   Williamsburg   \n",
       "\n",
       "  number_of_reviews review_scores_rating  \\\n",
       "0                 1                  NaN   \n",
       "1                17                 98.0   \n",
       "2                 6                 93.0   \n",
       "3                49                 96.0   \n",
       "4                 0                  NaN   \n",
       "\n",
       "                                       thumbnail_url zipcode bedrooms beds  \n",
       "0  https://a0.muscache.com/im/pictures/101584608/...   10019      1.0  1.0  \n",
       "1  https://a0.muscache.com/im/pictures/cc7d769d-9...   11231      1.0  2.0  \n",
       "2  https://a0.muscache.com/im/pictures/2a690ce6-2...     NaN      0.0  2.0  \n",
       "3                                                NaN   10025      1.0  2.0  \n",
       "4  https://a0.muscache.com/im/pictures/bc456a57-b...   11249      1.0  1.0  \n",
       "\n",
       "[5 rows x 30 columns]"
      ]
     },
     "execution_count": 4,
     "metadata": {},
     "output_type": "execute_result"
    }
   ],
   "source": [
    "NYC_data.head()"
   ]
  },
  {
   "cell_type": "code",
   "execution_count": 5,
   "metadata": {},
   "outputs": [],
   "source": [
    "Conversion = {'Condo':['Timeshare','Loft','Guest suite','Condominium','Serviced apartment'],\n",
    "         'Housing':['Vacation home','Townhouse','Casa particular','Villa','In-law'],\n",
    "         'Hotel type 1':['Dorm','Guesthouse','Hostel'],\n",
    "         'Hotel type 2':['Bed & Breakfast','Boutique hotel'],\n",
    "         'Other':['Island','Yurt','Hut','Treehouse',\n",
    "                  'Earth House','Tipi','Train','Parking Space','Lighthouse',\n",
    "                 'Cabin','Camper/RV','Bungalow','Cave','Castle','Chalet','Boat','Tent']\n",
    "        }\n",
    "Conversion_real = {i : k for k, v in Conversion.items() for i in v}\n",
    "NYC_data['property_type'].replace(Conversion_real,inplace =True)"
   ]
  },
  {
   "cell_type": "code",
   "execution_count": 6,
   "metadata": {},
   "outputs": [],
   "source": [
    "#imputing values with mean, median and mode\n",
    "#mode is 1.0\n",
    "NYC_data['bathrooms'].fillna(NYC_data['bathrooms'].mode()[0],inplace=True)\n",
    "#mean is 93.50\n",
    "NYC_data['review_scores_rating'].fillna(NYC_data['review_scores_rating'].mean(),inplace=True)\n",
    "#mode is 1 bedroom\n",
    "NYC_data['bedrooms'].fillna(NYC_data['bedrooms'].mode()[0],inplace=True)\n",
    "#mode is 1 bed\n",
    "NYC_data['beds'].fillna(NYC_data['beds'].mode()[0],inplace=True)"
   ]
  },
  {
   "cell_type": "code",
   "execution_count": 7,
   "metadata": {},
   "outputs": [],
   "source": [
    "#Removing the null values from is_null\n",
    "Remove_null=pd.DataFrame({\"val\":NYC_data['zipcode'].isnull()})\n",
    "NYC_data=NYC_data[Remove_null['val']==False]"
   ]
  },
  {
   "cell_type": "code",
   "execution_count": 8,
   "metadata": {},
   "outputs": [],
   "source": [
    "NYC_data=NYC_data.drop(['Unnamed: 0','amenities','bed_type','city','description','first_review',\n",
    "                        'host_has_profile_pic','host_identity_verified','host_response_rate','host_since'\n",
    "                       ,'last_review','name','neighbourhood','thumbnail_url','zipcode','id'],axis=1)"
   ]
  },
  {
   "cell_type": "code",
   "execution_count": 9,
   "metadata": {},
   "outputs": [
    {
     "data": {
      "text/plain": [
       "log_price               0\n",
       "property_type           0\n",
       "room_type               0\n",
       "accommodates            0\n",
       "bathrooms               0\n",
       "cancellation_policy     0\n",
       "cleaning_fee            0\n",
       "instant_bookable        0\n",
       "latitude                0\n",
       "longitude               0\n",
       "number_of_reviews       0\n",
       "review_scores_rating    0\n",
       "bedrooms                0\n",
       "beds                    0\n",
       "dtype: int64"
      ]
     },
     "execution_count": 9,
     "metadata": {},
     "output_type": "execute_result"
    }
   ],
   "source": [
    "NYC_data.isnull().sum()"
   ]
  },
  {
   "cell_type": "code",
   "execution_count": 10,
   "metadata": {},
   "outputs": [],
   "source": [
    "#categorical=['property_type','room_type','cancellation_policy','instant_bookable']\n",
    "NYC_data=pd.concat((NYC_data,pd.get_dummies(NYC_data['property_type'])),axis=1)\n",
    "NYC_data=pd.concat((NYC_data,pd.get_dummies(NYC_data['room_type'])),axis=1)\n",
    "NYC_data=pd.concat((NYC_data,pd.get_dummies(NYC_data['cancellation_policy'])),axis=1)\n",
    "NYC_data=pd.concat((NYC_data,pd.get_dummies(NYC_data['instant_bookable'])),axis=1)\n",
    "NYC_data=pd.concat((NYC_data,pd.get_dummies(NYC_data['cleaning_fee'])),axis=1)"
   ]
  },
  {
   "cell_type": "code",
   "execution_count": 11,
   "metadata": {},
   "outputs": [],
   "source": [
    "NYC_data=NYC_data.drop(['property_type','room_type','cancellation_policy','instant_bookable','cleaning_fee'],axis=1)"
   ]
  },
  {
   "cell_type": "code",
   "execution_count": 12,
   "metadata": {},
   "outputs": [
    {
     "data": {
      "text/plain": [
       "log_price               0\n",
       "accommodates            0\n",
       "bathrooms               0\n",
       "latitude                0\n",
       "longitude               0\n",
       "number_of_reviews       0\n",
       "review_scores_rating    0\n",
       "bedrooms                0\n",
       "beds                    0\n",
       "Apartment               0\n",
       "Condo                   0\n",
       "Hotel type 1            0\n",
       "Hotel type 2            0\n",
       "House                   0\n",
       "Housing                 0\n",
       "Other                   0\n",
       "Entire home/apt         0\n",
       "Private room            0\n",
       "Shared room             0\n",
       "flexible                0\n",
       "moderate                0\n",
       "strict                  0\n",
       "Instant Booking         0\n",
       "No Instant Booking      0\n",
       "Cleaning Fee Req        0\n",
       "No Cleaning Fee         0\n",
       "dtype: int64"
      ]
     },
     "execution_count": 12,
     "metadata": {},
     "output_type": "execute_result"
    }
   ],
   "source": [
    "NYC_data.isnull().sum()"
   ]
  },
  {
   "cell_type": "code",
   "execution_count": 13,
   "metadata": {},
   "outputs": [
    {
     "data": {
      "text/html": [
       "<div>\n",
       "<style scoped>\n",
       "    .dataframe tbody tr th:only-of-type {\n",
       "        vertical-align: middle;\n",
       "    }\n",
       "\n",
       "    .dataframe tbody tr th {\n",
       "        vertical-align: top;\n",
       "    }\n",
       "\n",
       "    .dataframe thead th {\n",
       "        text-align: right;\n",
       "    }\n",
       "</style>\n",
       "<table border=\"1\" class=\"dataframe\">\n",
       "  <thead>\n",
       "    <tr style=\"text-align: right;\">\n",
       "      <th></th>\n",
       "      <th>log_price</th>\n",
       "    </tr>\n",
       "  </thead>\n",
       "  <tbody>\n",
       "    <tr>\n",
       "      <td>0</td>\n",
       "      <td>4.382027</td>\n",
       "    </tr>\n",
       "    <tr>\n",
       "      <td>1</td>\n",
       "      <td>5.075174</td>\n",
       "    </tr>\n",
       "    <tr>\n",
       "      <td>3</td>\n",
       "      <td>5.010635</td>\n",
       "    </tr>\n",
       "    <tr>\n",
       "      <td>4</td>\n",
       "      <td>4.317488</td>\n",
       "    </tr>\n",
       "    <tr>\n",
       "      <td>5</td>\n",
       "      <td>5.416100</td>\n",
       "    </tr>\n",
       "  </tbody>\n",
       "</table>\n",
       "</div>"
      ],
      "text/plain": [
       "   log_price\n",
       "0   4.382027\n",
       "1   5.075174\n",
       "3   5.010635\n",
       "4   4.317488\n",
       "5   5.416100"
      ]
     },
     "execution_count": 13,
     "metadata": {},
     "output_type": "execute_result"
    }
   ],
   "source": [
    "target = NYC_data['log_price']\n",
    "target_df = pd.DataFrame(target)\n",
    "target_df.head()"
   ]
  },
  {
   "cell_type": "code",
   "execution_count": 14,
   "metadata": {},
   "outputs": [
    {
     "data": {
      "text/html": [
       "<div>\n",
       "<style scoped>\n",
       "    .dataframe tbody tr th:only-of-type {\n",
       "        vertical-align: middle;\n",
       "    }\n",
       "\n",
       "    .dataframe tbody tr th {\n",
       "        vertical-align: top;\n",
       "    }\n",
       "\n",
       "    .dataframe thead th {\n",
       "        text-align: right;\n",
       "    }\n",
       "</style>\n",
       "<table border=\"1\" class=\"dataframe\">\n",
       "  <thead>\n",
       "    <tr style=\"text-align: right;\">\n",
       "      <th></th>\n",
       "      <th>accommodates</th>\n",
       "      <th>bathrooms</th>\n",
       "      <th>latitude</th>\n",
       "      <th>longitude</th>\n",
       "      <th>number_of_reviews</th>\n",
       "      <th>review_scores_rating</th>\n",
       "      <th>bedrooms</th>\n",
       "      <th>beds</th>\n",
       "      <th>Apartment</th>\n",
       "      <th>Condo</th>\n",
       "      <th>...</th>\n",
       "      <th>Entire home/apt</th>\n",
       "      <th>Private room</th>\n",
       "      <th>Shared room</th>\n",
       "      <th>flexible</th>\n",
       "      <th>moderate</th>\n",
       "      <th>strict</th>\n",
       "      <th>Instant Booking</th>\n",
       "      <th>No Instant Booking</th>\n",
       "      <th>Cleaning Fee Req</th>\n",
       "      <th>No Cleaning Fee</th>\n",
       "    </tr>\n",
       "  </thead>\n",
       "  <tbody>\n",
       "    <tr>\n",
       "      <td>0</td>\n",
       "      <td>1</td>\n",
       "      <td>1.0</td>\n",
       "      <td>40.762239</td>\n",
       "      <td>-73.981589</td>\n",
       "      <td>1</td>\n",
       "      <td>93.493216</td>\n",
       "      <td>1.0</td>\n",
       "      <td>1.0</td>\n",
       "      <td>0</td>\n",
       "      <td>1</td>\n",
       "      <td>...</td>\n",
       "      <td>0</td>\n",
       "      <td>1</td>\n",
       "      <td>0</td>\n",
       "      <td>1</td>\n",
       "      <td>0</td>\n",
       "      <td>0</td>\n",
       "      <td>0</td>\n",
       "      <td>1</td>\n",
       "      <td>0</td>\n",
       "      <td>1</td>\n",
       "    </tr>\n",
       "    <tr>\n",
       "      <td>1</td>\n",
       "      <td>3</td>\n",
       "      <td>1.0</td>\n",
       "      <td>40.677892</td>\n",
       "      <td>-73.992054</td>\n",
       "      <td>17</td>\n",
       "      <td>98.000000</td>\n",
       "      <td>1.0</td>\n",
       "      <td>2.0</td>\n",
       "      <td>1</td>\n",
       "      <td>0</td>\n",
       "      <td>...</td>\n",
       "      <td>1</td>\n",
       "      <td>0</td>\n",
       "      <td>0</td>\n",
       "      <td>0</td>\n",
       "      <td>0</td>\n",
       "      <td>1</td>\n",
       "      <td>0</td>\n",
       "      <td>1</td>\n",
       "      <td>1</td>\n",
       "      <td>0</td>\n",
       "    </tr>\n",
       "    <tr>\n",
       "      <td>3</td>\n",
       "      <td>4</td>\n",
       "      <td>1.0</td>\n",
       "      <td>40.800331</td>\n",
       "      <td>-73.965090</td>\n",
       "      <td>49</td>\n",
       "      <td>96.000000</td>\n",
       "      <td>1.0</td>\n",
       "      <td>2.0</td>\n",
       "      <td>1</td>\n",
       "      <td>0</td>\n",
       "      <td>...</td>\n",
       "      <td>1</td>\n",
       "      <td>0</td>\n",
       "      <td>0</td>\n",
       "      <td>0</td>\n",
       "      <td>0</td>\n",
       "      <td>1</td>\n",
       "      <td>0</td>\n",
       "      <td>1</td>\n",
       "      <td>1</td>\n",
       "      <td>0</td>\n",
       "    </tr>\n",
       "    <tr>\n",
       "      <td>4</td>\n",
       "      <td>2</td>\n",
       "      <td>1.0</td>\n",
       "      <td>40.711386</td>\n",
       "      <td>-73.963529</td>\n",
       "      <td>0</td>\n",
       "      <td>93.493216</td>\n",
       "      <td>1.0</td>\n",
       "      <td>1.0</td>\n",
       "      <td>1</td>\n",
       "      <td>0</td>\n",
       "      <td>...</td>\n",
       "      <td>0</td>\n",
       "      <td>1</td>\n",
       "      <td>0</td>\n",
       "      <td>1</td>\n",
       "      <td>0</td>\n",
       "      <td>0</td>\n",
       "      <td>1</td>\n",
       "      <td>0</td>\n",
       "      <td>0</td>\n",
       "      <td>1</td>\n",
       "    </tr>\n",
       "    <tr>\n",
       "      <td>5</td>\n",
       "      <td>5</td>\n",
       "      <td>1.0</td>\n",
       "      <td>40.726874</td>\n",
       "      <td>-73.979947</td>\n",
       "      <td>0</td>\n",
       "      <td>93.493216</td>\n",
       "      <td>2.0</td>\n",
       "      <td>2.0</td>\n",
       "      <td>1</td>\n",
       "      <td>0</td>\n",
       "      <td>...</td>\n",
       "      <td>1</td>\n",
       "      <td>0</td>\n",
       "      <td>0</td>\n",
       "      <td>1</td>\n",
       "      <td>0</td>\n",
       "      <td>0</td>\n",
       "      <td>0</td>\n",
       "      <td>1</td>\n",
       "      <td>1</td>\n",
       "      <td>0</td>\n",
       "    </tr>\n",
       "  </tbody>\n",
       "</table>\n",
       "<p>5 rows × 25 columns</p>\n",
       "</div>"
      ],
      "text/plain": [
       "   accommodates  bathrooms   latitude  longitude  number_of_reviews  \\\n",
       "0             1        1.0  40.762239 -73.981589                  1   \n",
       "1             3        1.0  40.677892 -73.992054                 17   \n",
       "3             4        1.0  40.800331 -73.965090                 49   \n",
       "4             2        1.0  40.711386 -73.963529                  0   \n",
       "5             5        1.0  40.726874 -73.979947                  0   \n",
       "\n",
       "   review_scores_rating  bedrooms  beds  Apartment  Condo  ...  \\\n",
       "0             93.493216       1.0   1.0          0      1  ...   \n",
       "1             98.000000       1.0   2.0          1      0  ...   \n",
       "3             96.000000       1.0   2.0          1      0  ...   \n",
       "4             93.493216       1.0   1.0          1      0  ...   \n",
       "5             93.493216       2.0   2.0          1      0  ...   \n",
       "\n",
       "   Entire home/apt  Private room  Shared room  flexible  moderate  strict  \\\n",
       "0                0             1            0         1         0       0   \n",
       "1                1             0            0         0         0       1   \n",
       "3                1             0            0         0         0       1   \n",
       "4                0             1            0         1         0       0   \n",
       "5                1             0            0         1         0       0   \n",
       "\n",
       "   Instant Booking  No Instant Booking  Cleaning Fee Req  No Cleaning Fee  \n",
       "0                0                   1                 0                1  \n",
       "1                0                   1                 1                0  \n",
       "3                0                   1                 1                0  \n",
       "4                1                   0                 0                1  \n",
       "5                0                   1                 1                0  \n",
       "\n",
       "[5 rows x 25 columns]"
      ]
     },
     "execution_count": 14,
     "metadata": {},
     "output_type": "execute_result"
    }
   ],
   "source": [
    "features_df=NYC_data.drop(['log_price'],axis=1)\n",
    "features_df.head()"
   ]
  },
  {
   "cell_type": "code",
   "execution_count": 15,
   "metadata": {},
   "outputs": [],
   "source": [
    "from sklearn.model_selection import train_test_split\n",
    "X_train_org, X_test_org, y_train, y_test = train_test_split(features_df,target_df, test_size=0.25, random_state = 0)"
   ]
  },
  {
   "cell_type": "code",
   "execution_count": 16,
   "metadata": {},
   "outputs": [],
   "source": [
    "from sklearn.preprocessing import MinMaxScaler\n",
    "\n",
    "scaler = MinMaxScaler()\n",
    "X_train = scaler.fit_transform(X_train_org)\n",
    "X_test = scaler.transform(X_test_org)"
   ]
  },
  {
   "cell_type": "code",
   "execution_count": 17,
   "metadata": {},
   "outputs": [
    {
     "name": "stdout",
     "output_type": "stream",
     "text": [
      "Train dataset dimensionality: (3591, 25)\n",
      "Train dataset dimensionality: (3591, 1)\n"
     ]
    }
   ],
   "source": [
    "X_train = pd.DataFrame(X_train, columns = X_train_org.columns)\n",
    "print('Train dataset dimensionality:' , X_train.shape)\n",
    "print('Train dataset dimensionality:' , y_train.shape)"
   ]
  },
  {
   "cell_type": "markdown",
   "metadata": {},
   "source": [
    "## Bagging\n",
    "Bagging allows training instances to be sampled several times for the same predictor. To perform bagging, we have the hyper parameter 'bootstrap' which is responsible for aggregation and is set to True while building the model."
   ]
  },
  {
   "cell_type": "markdown",
   "metadata": {},
   "source": [
    "### Model 1 - Decision Tree Classifier"
   ]
  },
  {
   "cell_type": "code",
   "execution_count": 18,
   "metadata": {},
   "outputs": [
    {
     "name": "stdout",
     "output_type": "stream",
     "text": [
      "Best parameters: {'max_depth': 6}\n",
      "Best cross-validation score: 0.61\n"
     ]
    }
   ],
   "source": [
    "# Grid search to find the best parameter for the model\n",
    "from sklearn.tree import DecisionTreeRegressor\n",
    "from sklearn.model_selection import GridSearchCV\n",
    "param_grid = {'max_depth': np.arange(1, 10)}\n",
    "grid_search = GridSearchCV(DecisionTreeRegressor(random_state=0), param_grid, cv=5, return_train_score=True)\n",
    "grid_search.fit(X_train, y_train)\n",
    "print(\"Best parameters: {}\".format(grid_search.best_params_))\n",
    "print(\"Best cross-validation score: {:.2f}\".format(grid_search.best_score_))"
   ]
  },
  {
   "cell_type": "code",
   "execution_count": 19,
   "metadata": {},
   "outputs": [
    {
     "name": "stdout",
     "output_type": "stream",
     "text": [
      "Best parameters: {'max_samples': 500, 'n_estimators': 500}\n",
      "Best cross-validation score: 0.67\n"
     ]
    }
   ],
   "source": [
    "# Grid search to find the best parameter for bagging\n",
    "from sklearn.model_selection import GridSearchCV\n",
    "from sklearn.ensemble import BaggingRegressor\n",
    "param_grid = {'n_estimators': [50,100,200,500],\n",
    "              'max_samples': [50,100,200,400,500]}\n",
    "\n",
    "grid_search = GridSearchCV(BaggingRegressor(), param_grid, cv=5, return_train_score=True)\n",
    "grid_search.fit(X_train, y_train)\n",
    "print(\"Best parameters: {}\".format(grid_search.best_params_))\n",
    "print(\"Best cross-validation score: {:.2f}\".format(grid_search.best_score_))"
   ]
  },
  {
   "cell_type": "code",
   "execution_count": 20,
   "metadata": {},
   "outputs": [
    {
     "name": "stdout",
     "output_type": "stream",
     "text": [
      "Score after Bagging on Decision Tree Regressor on Train Set: 0.70\n",
      "Score after Bagging on Decision Tree Regressor on Test Set: 0.65\n"
     ]
    }
   ],
   "source": [
    "# building the bagging model for Decision Tree Regressor using the best parameters\n",
    "from sklearn.ensemble import BaggingRegressor\n",
    "from sklearn.tree import DecisionTreeRegressor\n",
    "\n",
    "dt_reg = DecisionTreeRegressor(max_depth = 6, random_state=0)\n",
    "bag_dt_reg = BaggingRegressor(dt_reg, n_estimators=500, max_samples=500, bootstrap=True, n_jobs=-1, random_state=0)\n",
    "\n",
    "bag_dt_reg.fit(X_train, y_train)\n",
    "y_pred = bag_dt_reg.predict(X_test)\n",
    "\n",
    "print('Score after Bagging on Decision Tree Regressor on Train Set: {:.2f}'.format(bag_dt_reg.score(X_train, y_train)))\n",
    "print('Score after Bagging on Decision Tree Regressor on Test Set: {:.2f}'.format(bag_dt_reg.score(X_test, y_test)))"
   ]
  },
  {
   "cell_type": "markdown",
   "metadata": {},
   "source": [
    "### Model 2 - Ridge Regressor"
   ]
  },
  {
   "cell_type": "code",
   "execution_count": 21,
   "metadata": {},
   "outputs": [
    {
     "name": "stdout",
     "output_type": "stream",
     "text": [
      "Best parameters: {'max_samples': 500, 'n_estimators': 200}\n",
      "Best cross-validation score: 0.67\n"
     ]
    }
   ],
   "source": [
    "# Grid search to find the best parameter for bagging\n",
    "from sklearn.model_selection import GridSearchCV\n",
    "from sklearn.ensemble import BaggingRegressor\n",
    "param_grid = {'n_estimators': [50,100,200,500],\n",
    "              'max_samples': [50,100,200,400,500]}\n",
    "\n",
    "grid_search = GridSearchCV(BaggingRegressor(), param_grid, cv=5, return_train_score=True)\n",
    "grid_search.fit(X_train, y_train)\n",
    "print(\"Best parameters: {}\".format(grid_search.best_params_))\n",
    "print(\"Best cross-validation score: {:.2f}\".format(grid_search.best_score_))"
   ]
  },
  {
   "cell_type": "code",
   "execution_count": 22,
   "metadata": {},
   "outputs": [
    {
     "name": "stdout",
     "output_type": "stream",
     "text": [
      "Best parameters: {'alpha': 0.1}\n",
      "Best cross-validation score: 0.58\n"
     ]
    }
   ],
   "source": [
    "#Grid Search to find best parameter for Ridge Regressor\n",
    "from  sklearn.linear_model import Ridge\n",
    "param_grid = {'alpha':[0.001, 0.01, 0.1, 1, 10, 100, 1000]}\n",
    "grid_search = GridSearchCV(Ridge(), param_grid, cv=5, return_train_score=True)\n",
    "grid_search.fit(X_train, y_train)\n",
    "print(\"Best parameters: {}\".format(grid_search.best_params_))\n",
    "print(\"Best cross-validation score: {:.2f}\".format(grid_search.best_score_))"
   ]
  },
  {
   "cell_type": "code",
   "execution_count": 23,
   "metadata": {},
   "outputs": [
    {
     "name": "stdout",
     "output_type": "stream",
     "text": [
      "Score after Bagging on Ridge Regressor on Train Set: 0.59\n",
      "Score after Bagging on Ridge Regressor on Test Set: 0.56\n"
     ]
    }
   ],
   "source": [
    "from sklearn.ensemble import BaggingRegressor\n",
    "from  sklearn.linear_model import Ridge\n",
    "\n",
    "ridge = Ridge(alpha=0.1)\n",
    "bag_ri_reg = BaggingRegressor(ridge, n_estimators=500, max_samples=500, bootstrap=True, n_jobs=-1, random_state=0)\n",
    "\n",
    "bag_ri_reg.fit(X_train, y_train)\n",
    "y_pred = bag_ri_reg.predict(X_test)\n",
    "\n",
    "print('Score after Bagging on Ridge Regressor on Train Set: {:.2f}'.format(bag_ri_reg.score(X_train, y_train)))\n",
    "print('Score after Bagging on Ridge Regressor on Test Set: {:.2f}'.format(bag_ri_reg.score(X_test, y_test)))"
   ]
  },
  {
   "cell_type": "markdown",
   "metadata": {},
   "source": [
    "## Pasting \n",
    "\n",
    "When sampling is performed without replacement, it is called pasting. To perform pasting, we have the hyper parameter 'bootstrap' which is responsible for aggregation set to False while building the model."
   ]
  },
  {
   "cell_type": "markdown",
   "metadata": {},
   "source": [
    "### Model 1 - KNN Regressor"
   ]
  },
  {
   "cell_type": "code",
   "execution_count": 24,
   "metadata": {},
   "outputs": [
    {
     "name": "stdout",
     "output_type": "stream",
     "text": [
      "Fitting 3 folds for each of 160 candidates, totalling 480 fits\n"
     ]
    },
    {
     "name": "stderr",
     "output_type": "stream",
     "text": [
      "[Parallel(n_jobs=-1)]: Using backend LokyBackend with 8 concurrent workers.\n",
      "[Parallel(n_jobs=-1)]: Done  34 tasks      | elapsed:    4.9s\n",
      "[Parallel(n_jobs=-1)]: Done 184 tasks      | elapsed:   21.7s\n",
      "[Parallel(n_jobs=-1)]: Done 434 tasks      | elapsed:   50.8s\n"
     ]
    },
    {
     "name": "stdout",
     "output_type": "stream",
     "text": [
      "{'algorithm': 'auto', 'n_neighbors': 13, 'p': 1, 'weights': 'distance'}\n"
     ]
    },
    {
     "name": "stderr",
     "output_type": "stream",
     "text": [
      "[Parallel(n_jobs=-1)]: Done 480 out of 480 | elapsed:   56.5s finished\n"
     ]
    }
   ],
   "source": [
    "from sklearn.neighbors import KNeighborsRegressor\n",
    "knn = KNeighborsRegressor()\n",
    "param_grid_knn = {\n",
    "            'n_neighbors' : [*range(1,20,2)],\n",
    "            'p': [1,2],\n",
    "            'weights': ['distance','uniform'],\n",
    "            'algorithm': ['auto', 'ball_tree', 'kd_tree', 'brute']\n",
    "            }\n",
    "\n",
    "CrossValidation_knn = GridSearchCV(estimator =knn, param_grid = param_grid_knn , return_train_score=True, verbose = 1, n_jobs = -1)\n",
    "CrossValidation_knn.fit(X_train, y_train)\n",
    "\n",
    "best_parameters_knn=CrossValidation_knn.best_params_\n",
    "print(best_parameters_knn)"
   ]
  },
  {
   "cell_type": "code",
   "execution_count": 25,
   "metadata": {},
   "outputs": [
    {
     "name": "stdout",
     "output_type": "stream",
     "text": [
      "Best parameters: {'max_samples': 500, 'n_estimators': 500}\n",
      "Best cross-validation score: 0.67\n"
     ]
    }
   ],
   "source": [
    "# Grid search to find the best parameter for bagging\n",
    "from sklearn.model_selection import GridSearchCV\n",
    "from sklearn.ensemble import BaggingRegressor\n",
    "param_grid = {'n_estimators': [50,100,200,500],\n",
    "              'max_samples': [50,100,200,400,500]}\n",
    "\n",
    "grid_search = GridSearchCV(BaggingRegressor(), param_grid, cv=5, return_train_score=True)\n",
    "grid_search.fit(X_train, y_train)\n",
    "print(\"Best parameters: {}\".format(grid_search.best_params_))\n",
    "print(\"Best cross-validation score: {:.2f}\".format(grid_search.best_score_))"
   ]
  },
  {
   "cell_type": "code",
   "execution_count": 26,
   "metadata": {},
   "outputs": [
    {
     "name": "stdout",
     "output_type": "stream",
     "text": [
      "Score after Pasting on KNN Regressor on Train Set: 0.66\n",
      "Score after Pasting on KNN Regressor on Test Set: 0.54\n"
     ]
    }
   ],
   "source": [
    "knn =KNeighborsRegressor(n_neighbors=13,weights='distance',algorithm='auto',p=1)\n",
    "bag_knn_reg = BaggingRegressor(knn, n_estimators=500, max_samples=500, bootstrap=False, n_jobs=-1, random_state=0)\n",
    "\n",
    "bag_knn_reg.fit(X_train, y_train)\n",
    "y_pred = bag_knn_reg.predict(X_test)\n",
    "\n",
    "print('Score after Pasting on KNN Regressor on Train Set: {:.2f}'.format(bag_knn_reg.score(X_train, y_train)))\n",
    "print('Score after Pasting on KNN Regressor on Test Set: {:.2f}'.format(bag_knn_reg.score(X_test, y_test)))"
   ]
  },
  {
   "cell_type": "markdown",
   "metadata": {},
   "source": [
    "### Model 2 - Lasso Regressor"
   ]
  },
  {
   "cell_type": "code",
   "execution_count": 27,
   "metadata": {},
   "outputs": [
    {
     "name": "stdout",
     "output_type": "stream",
     "text": [
      "Best parameters: {'max_samples': 500, 'n_estimators': 500}\n",
      "Best cross-validation score: 0.67\n"
     ]
    }
   ],
   "source": [
    "from sklearn.model_selection import GridSearchCV\n",
    "from sklearn.ensemble import BaggingRegressor\n",
    "param_grid = {'n_estimators': [50,100,200,500],\n",
    "              'max_samples': [50,100,200,400,500]}\n",
    "\n",
    "grid_search = GridSearchCV(BaggingRegressor(), param_grid, cv=5, return_train_score=True)\n",
    "grid_search.fit(X_train, y_train)\n",
    "print(\"Best parameters: {}\".format(grid_search.best_params_))\n",
    "print(\"Best cross-validation score: {:.2f}\".format(grid_search.best_score_))"
   ]
  },
  {
   "cell_type": "code",
   "execution_count": 28,
   "metadata": {},
   "outputs": [
    {
     "name": "stdout",
     "output_type": "stream",
     "text": [
      "Best parameters: {'alpha': 0.001}\n",
      "Best cross-validation score: 0.58\n"
     ]
    }
   ],
   "source": [
    "from  sklearn.linear_model import Lasso\n",
    "param_grid = {'alpha':[0.001, 0.01, 0.1, 1, 10, 100, 1000]}\n",
    "grid_search = GridSearchCV(Lasso(), param_grid, cv=5, return_train_score=True)\n",
    "grid_search.fit(X_train, y_train)\n",
    "print(\"Best parameters: {}\".format(grid_search.best_params_))\n",
    "print(\"Best cross-validation score: {:.2f}\".format(grid_search.best_score_))"
   ]
  },
  {
   "cell_type": "code",
   "execution_count": 29,
   "metadata": {},
   "outputs": [
    {
     "name": "stdout",
     "output_type": "stream",
     "text": [
      "Score after Pasting on Lasso Regressor on Train Set: 0.52\n",
      "Score after Pasting on Lasso Regressor on Test Set: 0.49\n"
     ]
    }
   ],
   "source": [
    "lasso = Lasso(alpha=0.01)\n",
    "bag_lasso_reg = BaggingRegressor(lasso, n_estimators=500, max_samples=500, bootstrap=False, n_jobs=-1, random_state=0)\n",
    "\n",
    "bag_lasso_reg.fit(X_train, y_train)\n",
    "y_pred = bag_lasso_reg.predict(X_test)\n",
    "\n",
    "print('Score after Pasting on Lasso Regressor on Train Set: {:.2f}'.format(bag_lasso_reg.score(X_train, y_train)))\n",
    "print('Score after Pasting on Lasso Regressor on Test Set: {:.2f}'.format(bag_lasso_reg.score(X_test, y_test)))"
   ]
  },
  {
   "cell_type": "markdown",
   "metadata": {},
   "source": [
    "# Adaboosting \n",
    "Adaboost helps you combine multiple “weak classifiers” into a single “strong classifier”."
   ]
  },
  {
   "cell_type": "markdown",
   "metadata": {},
   "source": [
    "### Model 1 - Decison Tree "
   ]
  },
  {
   "cell_type": "code",
   "execution_count": 30,
   "metadata": {},
   "outputs": [
    {
     "name": "stdout",
     "output_type": "stream",
     "text": [
      "Best parameters: {'learning_rate': 0.01, 'n_estimators': 500}\n",
      "Best cross-validation score: 0.58\n"
     ]
    }
   ],
   "source": [
    "# Grid search to find the best adaboost\n",
    "from sklearn.model_selection import GridSearchCV\n",
    "from sklearn.ensemble import AdaBoostRegressor\n",
    "param_grid = {'n_estimators': [50,100,200,500],\n",
    "              'learning_rate': [.01, .05, .1, 1]}\n",
    "\n",
    "grid_search = GridSearchCV(AdaBoostRegressor(random_state = 0), param_grid, cv=5, return_train_score=True)\n",
    "grid_search.fit(X_train, y_train)\n",
    "print(\"Best parameters: {}\".format(grid_search.best_params_))\n",
    "print(\"Best cross-validation score: {:.2f}\".format(grid_search.best_score_))"
   ]
  },
  {
   "cell_type": "code",
   "execution_count": 31,
   "metadata": {},
   "outputs": [
    {
     "name": "stdout",
     "output_type": "stream",
     "text": [
      "Decision tree regressor score on Train Set score: 0.70\n",
      "Decision tree regressor score on Test Set score: 0.60\n"
     ]
    }
   ],
   "source": [
    "from sklearn.tree import DecisionTreeRegressor\n",
    "dt_reg = DecisionTreeRegressor(max_depth = 6, random_state=0)\n",
    "dt_reg.fit(X_train, y_train)\n",
    "y_pred = dt_reg.predict(X_test)\n",
    "\n",
    "print('Decision tree regressor score on Train Set score: {:.2f}'.format(dt_reg.score(X_train, y_train)))\n",
    "print('Decision tree regressor score on Test Set score: {:.2f}'.format(dt_reg.score(X_test, y_test)))"
   ]
  },
  {
   "cell_type": "code",
   "execution_count": 32,
   "metadata": {},
   "outputs": [
    {
     "name": "stdout",
     "output_type": "stream",
     "text": [
      "Decision tree regressor score on Train Set after Adaboost Boosting: 0.73\n",
      "Decision tree regressor score on Test Set after Adaboost Boosting: 0.64\n"
     ]
    }
   ],
   "source": [
    "from sklearn.ensemble import AdaBoostRegressor\n",
    "ada_reg = AdaBoostRegressor(DecisionTreeRegressor(max_depth=6), n_estimators=100,  learning_rate=0.05, random_state=0)\n",
    "ada_reg.fit(X_train, y_train)\n",
    "\n",
    "print('Decision tree regressor score on Train Set after Adaboost Boosting: {:.2f}'.format(ada_reg.score(X_train, y_train)))\n",
    "print('Decision tree regressor score on Test Set after Adaboost Boosting: {:.2f}'.format(ada_reg.score(X_test, y_test)))"
   ]
  },
  {
   "cell_type": "markdown",
   "metadata": {},
   "source": [
    "### Model 2 - KNN Regressor"
   ]
  },
  {
   "cell_type": "code",
   "execution_count": 33,
   "metadata": {},
   "outputs": [
    {
     "name": "stdout",
     "output_type": "stream",
     "text": [
      "Best parameters: {'learning_rate': 0.01, 'n_estimators': 500}\n",
      "Best cross-validation score: 0.58\n"
     ]
    }
   ],
   "source": [
    "# Grid search to find the best adaboost\n",
    "from sklearn.model_selection import GridSearchCV\n",
    "from sklearn.ensemble import AdaBoostRegressor\n",
    "param_grid = {'n_estimators': [50,100,200,500],\n",
    "              'learning_rate': [.01, .05, .1, 1]}\n",
    "\n",
    "grid_search = GridSearchCV(AdaBoostRegressor(random_state = 0), param_grid, cv=5, return_train_score=True)\n",
    "grid_search.fit(X_train, y_train)\n",
    "print(\"Best parameters: {}\".format(grid_search.best_params_))\n",
    "print(\"Best cross-validation score: {:.2f}\".format(grid_search.best_score_))"
   ]
  },
  {
   "cell_type": "code",
   "execution_count": 34,
   "metadata": {},
   "outputs": [
    {
     "name": "stdout",
     "output_type": "stream",
     "text": [
      "KNN regressor score on Train Set score: 0.77\n",
      "KNN regressor score on Test Set score: 0.50\n"
     ]
    }
   ],
   "source": [
    "from sklearn.neighbors import KNeighborsRegressor\n",
    "lreg = KNeighborsRegressor(n_neighbors=3)\n",
    "lreg.fit(X_train,y_train)\n",
    "y_pred = lreg.predict(X_test)\n",
    "print('KNN regressor score on Train Set score: {:.2f}'.format(lreg.score(X_train, y_train)))\n",
    "print('KNN regressor score on Test Set score: {:.2f}'.format(lreg.score(X_test, y_test)))"
   ]
  },
  {
   "cell_type": "code",
   "execution_count": 35,
   "metadata": {},
   "outputs": [
    {
     "name": "stdout",
     "output_type": "stream",
     "text": [
      "KNN regressor score on Train Set after Adaboost Boosting: 0.869\n",
      "KNN regressor score on Test Set after Adaboost Boosting: 0.488\n"
     ]
    }
   ],
   "source": [
    "from sklearn.ensemble import AdaBoostRegressor\n",
    "ada_reg = AdaBoostRegressor(KNeighborsRegressor(n_neighbors=3), n_estimators=100,  learning_rate=0.05, random_state=0)\n",
    "ada_reg.fit(X_train, y_train)\n",
    "y_pred = ada_reg.predict(X_test)\n",
    "print('KNN regressor score on Train Set after Adaboost Boosting: {:.3f}'.format(ada_reg.score(X_train, y_train)))\n",
    "print('KNN regressor score on Test Set after Adaboost Boosting: {:.3f}'.format(ada_reg.score(X_test, y_test)))\n"
   ]
  },
  {
   "cell_type": "markdown",
   "metadata": {},
   "source": [
    "# Gradient Boosting \n",
    "Gradient boosting is a machine learning technique for regression and classification problems, which produces a prediction model in the form of an ensemble of weak prediction models, typically decision trees. "
   ]
  },
  {
   "cell_type": "code",
   "execution_count": 36,
   "metadata": {},
   "outputs": [
    {
     "name": "stdout",
     "output_type": "stream",
     "text": [
      "Best parameters: {'learning_rate': 0.1, 'max_depth': 2, 'n_estimators': 200}\n",
      "Best cross-validation score: 0.67\n"
     ]
    }
   ],
   "source": [
    "# grid search for finding the best parameters for gradient boosting\n",
    "from sklearn.model_selection import GridSearchCV\n",
    "from sklearn.ensemble import GradientBoostingRegressor\n",
    "param_grid = {'n_estimators': [50,100,200,500],\n",
    "              'learning_rate': [.01, .05, .1, 1], 'max_depth': np.arange(1, 6)}\n",
    "\n",
    "grid_search = GridSearchCV(GradientBoostingRegressor(random_state = 0), param_grid, cv=5, return_train_score=True)\n",
    "grid_search.fit(X_train, y_train)\n",
    "print(\"Best parameters: {}\".format(grid_search.best_params_))\n",
    "print(\"Best cross-validation score: {:.2f}\".format(grid_search.best_score_))"
   ]
  },
  {
   "cell_type": "code",
   "execution_count": 37,
   "metadata": {},
   "outputs": [
    {
     "name": "stdout",
     "output_type": "stream",
     "text": [
      "Score after Gradient Boosting on Train Set: 0.723\n",
      "Score after Gradient Boosting on Train Set: 0.662\n"
     ]
    }
   ],
   "source": [
    "# building the model with best parameters\n",
    "gbrt = GradientBoostingRegressor(random_state=0, learning_rate=0.1, max_depth = 2, n_estimators=200)\n",
    "gbrt.fit(X_train, y_train)\n",
    "y_pred = gbrt.predict(X_test)\n",
    "print(\"Score after Gradient Boosting on Train Set: {:.3f}\".format(gbrt.score(X_train, y_train)))\n",
    "print(\"Score after Gradient Boosting on Train Set: {:.3f}\".format(gbrt.score(X_test, y_test)))"
   ]
  },
  {
   "cell_type": "markdown",
   "metadata": {},
   "source": [
    "# PCA"
   ]
  },
  {
   "cell_type": "code",
   "execution_count": 38,
   "metadata": {},
   "outputs": [],
   "source": [
    "from sklearn.decomposition import PCA\n",
    "from sklearn.model_selection import GridSearchCV\n",
    "\n",
    "#use PCA to reduce the size of the feature space while retaining 95% of the explained variance\n",
    "pca_regression = PCA(n_components = .95)\n",
    "\n",
    "#fit the model with X_train and apply the dimensionality reduction on X_train\n",
    "X_train_reg = pca_regression.fit_transform(X_train)\n",
    "\n",
    "#apply the dimesionality reduction on X_test\n",
    "X_test_reg = pca_regression.transform(X_test)"
   ]
  },
  {
   "cell_type": "code",
   "execution_count": 39,
   "metadata": {},
   "outputs": [
    {
     "data": {
      "text/plain": [
       "8"
      ]
     },
     "execution_count": 39,
     "metadata": {},
     "output_type": "execute_result"
    }
   ],
   "source": [
    "#number of component preserved while retaining 95% of the explained variance\n",
    "pca_regression.n_components_"
   ]
  },
  {
   "cell_type": "code",
   "execution_count": 40,
   "metadata": {},
   "outputs": [
    {
     "data": {
      "text/plain": [
       "array([0.27136722, 0.18407177, 0.15301691, 0.13260318, 0.09273389,\n",
       "       0.07741381, 0.02306154, 0.01671507])"
      ]
     },
     "execution_count": 40,
     "metadata": {},
     "output_type": "execute_result"
    }
   ],
   "source": [
    "#list of the variance ration of the 8 components preserved after PCA\n",
    "pca_regression.explained_variance_ratio_"
   ]
  },
  {
   "cell_type": "markdown",
   "metadata": {},
   "source": [
    "### Model 1 - KNN Regressor"
   ]
  },
  {
   "cell_type": "code",
   "execution_count": 41,
   "metadata": {},
   "outputs": [
    {
     "name": "stdout",
     "output_type": "stream",
     "text": [
      "Best parameters: {'n_neighbors': 9}\n",
      "Best cross-validation score: 0.54\n"
     ]
    }
   ],
   "source": [
    "#list the best parameter value for KNN regressor\n",
    "from sklearn.neighbors import KNeighborsRegressor\n",
    "param_grid = {'n_neighbors': range(1,10)}\n",
    "grid_search = GridSearchCV(KNeighborsRegressor(), param_grid, cv=5, return_train_score=True)\n",
    "grid_search.fit(X_train_reg, y_train)\n",
    "print(\"Best parameters: {}\".format(grid_search.best_params_))\n",
    "print(\"Best cross-validation score: {:.2f}\".format(grid_search.best_score_))"
   ]
  },
  {
   "cell_type": "code",
   "execution_count": 42,
   "metadata": {},
   "outputs": [
    {
     "data": {
      "text/plain": [
       "<matplotlib.legend.Legend at 0x257478a1a88>"
      ]
     },
     "execution_count": 42,
     "metadata": {},
     "output_type": "execute_result"
    },
    {
     "data": {
      "image/png": "[encoded data removed]",
      "text/plain": [
       "<Figure size 432x288 with 1 Axes>"
      ]
     },
     "metadata": {
      "needs_background": "light"
     },
     "output_type": "display_data"
    }
   ],
   "source": [
    "#visualizing the train and test accuracy score for KNN Regressor\n",
    "import matplotlib.pyplot as plt\n",
    "results = pd.DataFrame(grid_search.cv_results_)\n",
    "plt.plot(results['param_n_neighbors'],results['mean_test_score'],marker='o',c='r',label='Validation Test score')\n",
    "plt.plot(results['param_n_neighbors'],results['mean_train_score'],marker='*',c='g',label='Validation Train score')\n",
    "plt.title('Number of Neighbors Vs. Mean Train/Validation Accuracy')\n",
    "plt.xlabel('Number of Neighbors in KNN regressor')\n",
    "plt.ylabel('Accuracy')\n",
    "plt.legend()"
   ]
  },
  {
   "cell_type": "code",
   "execution_count": 43,
   "metadata": {},
   "outputs": [
    {
     "name": "stdout",
     "output_type": "stream",
     "text": [
      "Train score on best parameters for KNN Regressor 0.6438299394825808\n",
      "Test score on best parameters for KNN Regressor 0.5320664097763761\n"
     ]
    }
   ],
   "source": [
    "#train and test accuracy score for KNN Regressor after running PCA\n",
    "knn = KNeighborsRegressor(n_neighbors=9)\n",
    "knn.fit(X_train_reg, y_train)\n",
    "print('Train score on best parameters for KNN Regressor {}'.format(knn.score(X_train_reg,y_train)))\n",
    "print('Test score on best parameters for KNN Regressor {}'.format(knn.score(X_test_reg,y_test)))"
   ]
  },
  {
   "cell_type": "markdown",
   "metadata": {},
   "source": [
    "### Model 2 - Linear Regression "
   ]
  },
  {
   "cell_type": "code",
   "execution_count": 44,
   "metadata": {},
   "outputs": [
    {
     "name": "stdout",
     "output_type": "stream",
     "text": [
      "Train Score for Linear Regression model : 0.459\n",
      "Test Score for Linear Regression model : 0.437\n",
      "\n",
      "R-squared score (training): 0.459\n",
      "\n",
      "R-squared score (test): 0.437\n"
     ]
    }
   ],
   "source": [
    "#train and test accuracy score for linear regression after running PCA\n",
    "from sklearn.linear_model import LinearRegression\n",
    "from sklearn.metrics import mean_squared_error, r2_score\n",
    "regressor = LinearRegression()\n",
    "\n",
    "regressor.fit(X_train_reg, y_train)\n",
    "print('Train Score for Linear Regression model : {:.3f}'.format(regressor.score(X_train_reg, y_train)))\n",
    "print('Test Score for Linear Regression model : {:.3f}\\n'.format(regressor.score(X_test_reg, y_test)))\n",
    "print('R-squared score (training): {:.3f}\\n'.format(regressor.score(X_train_reg, y_train)))\n",
    "print('R-squared score (test): {:.3f}'.format(regressor.score(X_test_reg, y_test)))"
   ]
  },
  {
   "cell_type": "markdown",
   "metadata": {},
   "source": [
    "### Model 3 - Ridge Regressor"
   ]
  },
  {
   "cell_type": "code",
   "execution_count": 45,
   "metadata": {},
   "outputs": [
    {
     "name": "stdout",
     "output_type": "stream",
     "text": [
      "Best parameters: {'alpha': 5}\n",
      "Best cross-validation score: 0.45\n"
     ]
    }
   ],
   "source": [
    "#list the best parameter value for ridge regressor\n",
    "from  sklearn.linear_model import Ridge\n",
    "param_grid = {'alpha':[0.001, 0.01, 0.1, 1, 3, 5, 10, 12, 15, 20, 100]}\n",
    "grid_search_ridge = GridSearchCV(Ridge( random_state = 0), param_grid, cv=5, return_train_score=True)\n",
    "grid_search_ridge.fit(X_train_reg, y_train)\n",
    "print(\"Best parameters: {}\".format(grid_search_ridge.best_params_))\n",
    "print(\"Best cross-validation score: {:.2f}\".format(grid_search_ridge.best_score_))"
   ]
  },
  {
   "cell_type": "code",
   "execution_count": 46,
   "metadata": {},
   "outputs": [
    {
     "name": "stdout",
     "output_type": "stream",
     "text": [
      "Train score on best parameters for Ridge regressor 0.459\n",
      "Test score on best parameters for Ridge regressor 0.437\n"
     ]
    }
   ],
   "source": [
    "#train and test accuracy score for ridge regression after running PCA\n",
    "ridge = Ridge(alpha=3)\n",
    "ridge.fit(X_train_reg, y_train)\n",
    "print('Train score on best parameters for Ridge regressor {:.3f}'.format(ridge.score(X_train_reg,y_train)))\n",
    "print('Test score on best parameters for Ridge regressor {:.3f}'.format(ridge.score(X_test_reg,y_test)))"
   ]
  },
  {
   "cell_type": "code",
   "execution_count": 47,
   "metadata": {},
   "outputs": [
    {
     "data": {
      "text/plain": [
       "<matplotlib.legend.Legend at 0x25747948dc8>"
      ]
     },
     "execution_count": 47,
     "metadata": {},
     "output_type": "execute_result"
    },
    {
     "data": {
      "image/png": "[encoded data removed]",
      "text/plain": [
       "<Figure size 432x288 with 1 Axes>"
      ]
     },
     "metadata": {
      "needs_background": "light"
     },
     "output_type": "display_data"
    }
   ],
   "source": [
    "#visualizing the train and test accuracy score for Ridge regression\n",
    "import matplotlib.pyplot as plt\n",
    "results = pd.DataFrame(grid_search_ridge.cv_results_)\n",
    "plt.plot(results['param_alpha'],results['mean_test_score'],marker='o',c='r',label='Validation Test score')\n",
    "plt.plot(results['param_alpha'],results['mean_train_score'],marker='*',c='g',label='Validation Train score')\n",
    "plt.title('Alpha Vs. Mean Train/Validation Accuracy')\n",
    "plt.xlabel(r'$\\alpha$')\n",
    "plt.ylabel('Accuracy')\n",
    "plt.legend()"
   ]
  },
  {
   "cell_type": "markdown",
   "metadata": {},
   "source": [
    "### Model 4 -  Lasso Regressor"
   ]
  },
  {
   "cell_type": "code",
   "execution_count": 48,
   "metadata": {},
   "outputs": [
    {
     "name": "stdout",
     "output_type": "stream",
     "text": [
      "Best parameters: {'alpha': 0.001}\n",
      "Best cross-validation score: 0.45\n"
     ]
    }
   ],
   "source": [
    "#list the best parameter value for lasso regressor\n",
    "from  sklearn.linear_model import Lasso\n",
    "param_grid = {'alpha':[0.001,0.01, 0.1, 1, 3, 5,10, 12,15,20, 100]}\n",
    "grid_search_lasso = GridSearchCV(Lasso(random_state=0), param_grid, cv=5, return_train_score=True)\n",
    "grid_search_lasso.fit(X_train_reg, y_train)\n",
    "print(\"Best parameters: {}\".format(grid_search_lasso.best_params_))\n",
    "print(\"Best cross-validation score: {:.2f}\".format(grid_search_lasso.best_score_))"
   ]
  },
  {
   "cell_type": "code",
   "execution_count": 49,
   "metadata": {},
   "outputs": [
    {
     "name": "stdout",
     "output_type": "stream",
     "text": [
      "Train score on best parameters for Lasso Regressor 0.459\n",
      "Test score on best parameters for lasso Regressor 0.437\n"
     ]
    }
   ],
   "source": [
    "#train and test accuracy score for lasso regression after running PCA\n",
    "results = pd.DataFrame(grid_search_lasso.cv_results_)\n",
    "lasso = Lasso(alpha=0.001)\n",
    "lasso.fit(X_train_reg, y_train)\n",
    "print('Train score on best parameters for Lasso Regressor {:.3f}'.format(lasso.score(X_train_reg,y_train)))\n",
    "print('Test score on best parameters for lasso Regressor {:.3f}'.format(lasso.score(X_test_reg,y_test)))"
   ]
  },
  {
   "cell_type": "code",
   "execution_count": 50,
   "metadata": {},
   "outputs": [
    {
     "data": {
      "text/plain": [
       "<matplotlib.legend.Legend at 0x2574013af08>"
      ]
     },
     "execution_count": 50,
     "metadata": {},
     "output_type": "execute_result"
    },
    {
     "data": {
      "image/png": "[encoded data removed]",
      "text/plain": [
       "<Figure size 432x288 with 1 Axes>"
      ]
     },
     "metadata": {
      "needs_background": "light"
     },
     "output_type": "display_data"
    }
   ],
   "source": [
    "#visualizing the train and test accuracy score for lasso regression\n",
    "import matplotlib.pyplot as plt\n",
    "plt.plot(results['param_alpha'],results['mean_test_score'],marker='o',c='r',label='Validation Test score')\n",
    "plt.plot(results['param_alpha'],results['mean_train_score'],marker='*',c='g',label='Validation Train score')\n",
    "plt.title('Alpha Vs. Mean Train/Validation Accuracy')\n",
    "plt.xlabel(r'$\\alpha$')\n",
    "plt.ylabel('Accuracy')\n",
    "plt.legend()"
   ]
  },
  {
   "cell_type": "markdown",
   "metadata": {},
   "source": [
    "### Model 5 - Support Vector Machine Regressor"
   ]
  },
  {
   "cell_type": "code",
   "execution_count": 51,
   "metadata": {},
   "outputs": [
    {
     "name": "stdout",
     "output_type": "stream",
     "text": [
      "Best parameters: {'C': 10, 'gamma': 100}\n",
      "Best cross-validation score: 0.55\n"
     ]
    }
   ],
   "source": [
    "from sklearn.svm import SVR\n",
    "from sklearn.svm import LinearSVR\n",
    "param_grid = {'C': [0.001, 0.01, 0.1, 1, 10, 100],\n",
    "              'gamma': [0.001, 0.01, 0.1, 1, 10, 100]}\n",
    "\n",
    "grid_search = GridSearchCV(SVR(), param_grid, cv=5, return_train_score=True)\n",
    "grid_search.fit(X_train_reg, y_train)\n",
    "print(\"Best parameters: {}\".format(grid_search.best_params_))\n",
    "print(\"Best cross-validation score: {:.2f}\".format(grid_search.best_score_))"
   ]
  },
  {
   "cell_type": "code",
   "execution_count": 52,
   "metadata": {},
   "outputs": [
    {
     "name": "stdout",
     "output_type": "stream",
     "text": [
      "Train score on best parameters for LinearSVR - 0.4528395868952667\n",
      "Test score on best parameters ffor LinearSVR - 0.4239713131192112\n",
      "Train score on best parameters for SVR kernel - Linear 0.45571051844066124\n",
      "Test score on best parameters for SVR kernel - Linear 0.4259446556263019\n",
      "Train score on best parameters for SVR kernel - rbf 0.7157144247178107\n",
      "Test score on best parameters for SVR kernel - rbf 0.544417917575396\n",
      "Train score on best parameters for SVR kernel - poly 0.477254246397784\n",
      "Test score on best parameters for SVR kernel - poly 0.4398771932689186\n"
     ]
    }
   ],
   "source": [
    "#list of the train and test accuracy score of the kernalized SVM regression model after running PCA\n",
    "clf1 = LinearSVR(C=10).fit(X_train_reg, y_train)\n",
    "clf2 = SVR(kernel='linear', C=10).fit(X_train_reg, y_train)\n",
    "clf3 = SVR(kernel='rbf', gamma=100, C=10).fit(X_train_reg, y_train)\n",
    "clf4 = SVR(kernel='poly', degree=3, C=10).fit(X_train_reg, y_train)\n",
    "print('Train score on best parameters for LinearSVR - {}'.format(clf1.score(X_train_reg,y_train)))\n",
    "print('Test score on best parameters ffor LinearSVR - {}'.format(clf1.score(X_test_reg,y_test)))\n",
    "print('Train score on best parameters for SVR kernel - Linear {}'.format(clf2.score(X_train_reg,y_train)))\n",
    "print('Test score on best parameters for SVR kernel - Linear {}'.format(clf2.score(X_test_reg,y_test)))\n",
    "print('Train score on best parameters for SVR kernel - rbf {}'.format(clf3.score(X_train_reg,y_train)))\n",
    "print('Test score on best parameters for SVR kernel - rbf {}'.format(clf3.score(X_test_reg,y_test)))\n",
    "print('Train score on best parameters for SVR kernel - poly {}'.format(clf4.score(X_train_reg,y_train)))\n",
    "print('Test score on best parameters for SVR kernel - poly {}'.format(clf4.score(X_test_reg,y_test)))"
   ]
  },
  {
   "cell_type": "code",
   "execution_count": 54,
   "metadata": {},
   "outputs": [
    {
     "data": {
      "image/png": "[encoded data removed]",
      "text/plain": [
       "<Figure size 576x288 with 1 Axes>"
      ]
     },
     "metadata": {
      "needs_background": "light"
     },
     "output_type": "display_data"
    }
   ],
   "source": [
    "#visualization of the train and test score of kernalized SVM regression models after applying PCA\n",
    "fig, ax = plt.subplots(figsize=(8,4))\n",
    "width = 0.3\n",
    "plt.xlabel('SVR')\n",
    "plt.ylabel('Accuracy')\n",
    "labels = ['Training LinearSVR','Test LinearSVR','Training SVR kernel - Linear','Test SVR kernel - Linear','Training SVR kernel - rbf',\n",
    "          'Test SVR kernel - rbf','Training SVR kernel - poly','Test SVR kernel - poly']\n",
    "labels1 = ['Training LinearSVR','Test LinearSVR','Training SVR kernel - Linear','Test SVR kernel - Linear','Training SVR kernel - rbf',\n",
    "          'Test SVR kernel - rbf','Training SVR kernel - poly','Test SVR kernel - poly']\n",
    "list_ticks = [0,.3,1,1.3,2,2.3,3,3.3]\n",
    "ax.set_xticks(list_ticks)\n",
    "for j in range(0,4,1) :\n",
    "    ax.set_xticklabels(labels,rotation=90)\n",
    "    ax.set_xticklabels(labels1,rotation=90)\n",
    "accuracies_train=[45.38,45.57,71.57,49.05]\n",
    "accuracies_test=[42.42,42.59,55.01,44.76]\n",
    "for i in range(0,4,1) :\n",
    "    ax.bar(i,accuracies_train[i],width)\n",
    "    ax.bar(i+width,accuracies_test[i],width)\n",
    "plt.grid()"
   ]
  },
  {
   "cell_type": "markdown",
   "metadata": {},
   "source": [
    "### Model 6 - Polynomial Regression "
   ]
  },
  {
   "cell_type": "code",
   "execution_count": 55,
   "metadata": {},
   "outputs": [
    {
     "name": "stdout",
     "output_type": "stream",
     "text": [
      "[0.5509409687032275]\n",
      "[0.5029318211355994]\n"
     ]
    }
   ],
   "source": [
    "from  sklearn.preprocessing  import PolynomialFeatures\n",
    "train_score_list = []\n",
    "test_score_list = []\n",
    "\n",
    "for n in range(1,4):\n",
    "    poly = PolynomialFeatures(n)\n",
    "    X_train_reg_poly = poly.fit_transform(X_train_reg)\n",
    "    X_test_reg_poly = poly.transform(X_test_reg)\n",
    "    regressor.fit(X_train_reg_poly, y_train)\n",
    "    train_score_list.append(regressor.score(X_train_reg_poly, y_train))\n",
    "    test_score_list.append(regressor.score(X_test_reg_poly, y_test))\n",
    "    \n",
    "train = [sum(train_score_list)/len(train_score_list)]\n",
    "test = [sum(test_score_list)/len(test_score_list)]\n",
    "print(train)\n",
    "print(test)"
   ]
  },
  {
   "cell_type": "code",
   "execution_count": 56,
   "metadata": {},
   "outputs": [
    {
     "data": {
      "text/plain": [
       "<matplotlib.legend.Legend at 0x257479e0bc8>"
      ]
     },
     "execution_count": 56,
     "metadata": {},
     "output_type": "execute_result"
    },
    {
     "data": {
      "image/png": "[encoded data removed]",
      "text/plain": [
       "<Figure size 432x288 with 1 Axes>"
      ]
     },
     "metadata": {
      "needs_background": "light"
     },
     "output_type": "display_data"
    }
   ],
   "source": [
    "x_axis = range(1,4)\n",
    "plt.plot(x_axis, train_score_list, c = 'g', label = 'Train Score')\n",
    "plt.plot(x_axis, test_score_list, c = 'b', label = 'Test Score')\n",
    "plt.xlabel('degree')\n",
    "plt.ylabel('accuracy')\n",
    "plt.legend()"
   ]
  },
  {
   "cell_type": "markdown",
   "metadata": {},
   "source": [
    "### Comparing Models before and after PCA"
   ]
  },
  {
   "cell_type": "code",
   "execution_count": 57,
   "metadata": {},
   "outputs": [],
   "source": [
    "#Index Levels\n",
    "outside = ['Before PCA','Before PCA','After PCA','After PCA']\n",
    "inside = ['Training Accuracy','Test Accuracy','Training Accuracy','Test Accuracy']\n",
    "hier_index = list(zip(outside,inside))\n",
    "hier_index = pd.MultiIndex.from_tuples(hier_index)"
   ]
  },
  {
   "cell_type": "code",
   "execution_count": 58,
   "metadata": {},
   "outputs": [],
   "source": [
    "#train and test accuracy score of the models as observed before and after PCA\n",
    "data_class = np.array([(0.5935,0.5900,0.6514,0.5935,0.5894,0.3634,0.8042,0.5825,0.5612),\n",
    "                     (0.5582,0.5581,0.5782,0.5585,0.5567,0.3875,0.5161,0.5425,0.5212),\n",
    "                     (0.4590,0.5509,0.6438,0.4590,0.4560,0.4509,0.7157,0.4557,0.5361),\n",
    "                     (0.4370,0.5029,0.5321,0.4370,0.4340,0.4208,0.544,0.4259,0.4932)])"
   ]
  },
  {
   "cell_type": "code",
   "execution_count": 59,
   "metadata": {},
   "outputs": [],
   "source": [
    "df = pd.DataFrame(data_class,index=hier_index,columns=['Linear Regression','Polynomial Regressor','KNN Regressor',\n",
    "                                                       'Ridge Regressor','Lasso Regressor','Linear SVR','SVM - RBF Kernel','SVM - Linear Kernel','SVM - Poly Kernel'])"
   ]
  },
  {
   "cell_type": "code",
   "execution_count": 61,
   "metadata": {},
   "outputs": [
    {
     "data": {
      "text/html": [
       "<style  type=\"text/css\" >\n",
       "    #T_71f9cd3a_8daf_11ea_8619_10e7c6f2b1bdrow0_col0 {\n",
       "            background-color:  #f2f2f2;\n",
       "            color:  #000000;\n",
       "        }    #T_71f9cd3a_8daf_11ea_8619_10e7c6f2b1bdrow0_col1 {\n",
       "            background-color:  #f2f2f2;\n",
       "            color:  #000000;\n",
       "        }    #T_71f9cd3a_8daf_11ea_8619_10e7c6f2b1bdrow0_col2 {\n",
       "            background-color:  #f2f2f2;\n",
       "            color:  #000000;\n",
       "        }    #T_71f9cd3a_8daf_11ea_8619_10e7c6f2b1bdrow0_col3 {\n",
       "            background-color:  #f2f2f2;\n",
       "            color:  #000000;\n",
       "        }    #T_71f9cd3a_8daf_11ea_8619_10e7c6f2b1bdrow0_col4 {\n",
       "            background-color:  #f2f2f2;\n",
       "            color:  #000000;\n",
       "        }    #T_71f9cd3a_8daf_11ea_8619_10e7c6f2b1bdrow0_col5 {\n",
       "            background-color:  #fbb4ae;\n",
       "            color:  #000000;\n",
       "        }    #T_71f9cd3a_8daf_11ea_8619_10e7c6f2b1bdrow0_col6 {\n",
       "            background-color:  #f2f2f2;\n",
       "            color:  #000000;\n",
       "        }    #T_71f9cd3a_8daf_11ea_8619_10e7c6f2b1bdrow0_col7 {\n",
       "            background-color:  #f2f2f2;\n",
       "            color:  #000000;\n",
       "        }    #T_71f9cd3a_8daf_11ea_8619_10e7c6f2b1bdrow0_col8 {\n",
       "            background-color:  #f2f2f2;\n",
       "            color:  #000000;\n",
       "        }    #T_71f9cd3a_8daf_11ea_8619_10e7c6f2b1bdrow1_col0 {\n",
       "            background-color:  #e5d8bd;\n",
       "            color:  #000000;\n",
       "        }    #T_71f9cd3a_8daf_11ea_8619_10e7c6f2b1bdrow1_col1 {\n",
       "            background-color:  #ffffcc;\n",
       "            color:  #000000;\n",
       "        }    #T_71f9cd3a_8daf_11ea_8619_10e7c6f2b1bdrow1_col2 {\n",
       "            background-color:  #decbe4;\n",
       "            color:  #000000;\n",
       "        }    #T_71f9cd3a_8daf_11ea_8619_10e7c6f2b1bdrow1_col3 {\n",
       "            background-color:  #e5d8bd;\n",
       "            color:  #000000;\n",
       "        }    #T_71f9cd3a_8daf_11ea_8619_10e7c6f2b1bdrow1_col4 {\n",
       "            background-color:  #fddaec;\n",
       "            color:  #000000;\n",
       "        }    #T_71f9cd3a_8daf_11ea_8619_10e7c6f2b1bdrow1_col5 {\n",
       "            background-color:  #ccebc5;\n",
       "            color:  #000000;\n",
       "        }    #T_71f9cd3a_8daf_11ea_8619_10e7c6f2b1bdrow1_col6 {\n",
       "            background-color:  #fbb4ae;\n",
       "            color:  #000000;\n",
       "        }    #T_71f9cd3a_8daf_11ea_8619_10e7c6f2b1bdrow1_col7 {\n",
       "            background-color:  #e5d8bd;\n",
       "            color:  #000000;\n",
       "        }    #T_71f9cd3a_8daf_11ea_8619_10e7c6f2b1bdrow1_col8 {\n",
       "            background-color:  #decbe4;\n",
       "            color:  #000000;\n",
       "        }    #T_71f9cd3a_8daf_11ea_8619_10e7c6f2b1bdrow2_col0 {\n",
       "            background-color:  #b3cde3;\n",
       "            color:  #000000;\n",
       "        }    #T_71f9cd3a_8daf_11ea_8619_10e7c6f2b1bdrow2_col1 {\n",
       "            background-color:  #fed9a6;\n",
       "            color:  #000000;\n",
       "        }    #T_71f9cd3a_8daf_11ea_8619_10e7c6f2b1bdrow2_col2 {\n",
       "            background-color:  #f2f2f2;\n",
       "            color:  #000000;\n",
       "        }    #T_71f9cd3a_8daf_11ea_8619_10e7c6f2b1bdrow2_col3 {\n",
       "            background-color:  #b3cde3;\n",
       "            color:  #000000;\n",
       "        }    #T_71f9cd3a_8daf_11ea_8619_10e7c6f2b1bdrow2_col4 {\n",
       "            background-color:  #b3cde3;\n",
       "            color:  #000000;\n",
       "        }    #T_71f9cd3a_8daf_11ea_8619_10e7c6f2b1bdrow2_col5 {\n",
       "            background-color:  #f2f2f2;\n",
       "            color:  #000000;\n",
       "        }    #T_71f9cd3a_8daf_11ea_8619_10e7c6f2b1bdrow2_col6 {\n",
       "            background-color:  #e5d8bd;\n",
       "            color:  #000000;\n",
       "        }    #T_71f9cd3a_8daf_11ea_8619_10e7c6f2b1bdrow2_col7 {\n",
       "            background-color:  #b3cde3;\n",
       "            color:  #000000;\n",
       "        }    #T_71f9cd3a_8daf_11ea_8619_10e7c6f2b1bdrow2_col8 {\n",
       "            background-color:  #ffffcc;\n",
       "            color:  #000000;\n",
       "        }    #T_71f9cd3a_8daf_11ea_8619_10e7c6f2b1bdrow3_col0 {\n",
       "            background-color:  #fbb4ae;\n",
       "            color:  #000000;\n",
       "        }    #T_71f9cd3a_8daf_11ea_8619_10e7c6f2b1bdrow3_col1 {\n",
       "            background-color:  #fbb4ae;\n",
       "            color:  #000000;\n",
       "        }    #T_71f9cd3a_8daf_11ea_8619_10e7c6f2b1bdrow3_col2 {\n",
       "            background-color:  #fbb4ae;\n",
       "            color:  #000000;\n",
       "        }    #T_71f9cd3a_8daf_11ea_8619_10e7c6f2b1bdrow3_col3 {\n",
       "            background-color:  #fbb4ae;\n",
       "            color:  #000000;\n",
       "        }    #T_71f9cd3a_8daf_11ea_8619_10e7c6f2b1bdrow3_col4 {\n",
       "            background-color:  #fbb4ae;\n",
       "            color:  #000000;\n",
       "        }    #T_71f9cd3a_8daf_11ea_8619_10e7c6f2b1bdrow3_col5 {\n",
       "            background-color:  #ffffcc;\n",
       "            color:  #000000;\n",
       "        }    #T_71f9cd3a_8daf_11ea_8619_10e7c6f2b1bdrow3_col6 {\n",
       "            background-color:  #fbb4ae;\n",
       "            color:  #000000;\n",
       "        }    #T_71f9cd3a_8daf_11ea_8619_10e7c6f2b1bdrow3_col7 {\n",
       "            background-color:  #fbb4ae;\n",
       "            color:  #000000;\n",
       "        }    #T_71f9cd3a_8daf_11ea_8619_10e7c6f2b1bdrow3_col8 {\n",
       "            background-color:  #fbb4ae;\n",
       "            color:  #000000;\n",
       "        }</style><table id=\"T_71f9cd3a_8daf_11ea_8619_10e7c6f2b1bd\" ><thead>    <tr>        <th class=\"blank\" ></th>        <th class=\"blank level0\" ></th>        <th class=\"col_heading level0 col0\" >Linear Regression</th>        <th class=\"col_heading level0 col1\" >Polynomial Regressor</th>        <th class=\"col_heading level0 col2\" >KNN Regressor</th>        <th class=\"col_heading level0 col3\" >Ridge Regressor</th>        <th class=\"col_heading level0 col4\" >Lasso Regressor</th>        <th class=\"col_heading level0 col5\" >Linear SVR</th>        <th class=\"col_heading level0 col6\" >SVM - RBF Kernel</th>        <th class=\"col_heading level0 col7\" >SVM - Linear Kernel</th>        <th class=\"col_heading level0 col8\" >SVM - Poly Kernel</th>    </tr></thead><tbody>\n",
       "                <tr>\n",
       "                        <th id=\"T_71f9cd3a_8daf_11ea_8619_10e7c6f2b1bdlevel0_row0\" class=\"row_heading level0 row0\" rowspan=2>Before PCA</th>\n",
       "                        <th id=\"T_71f9cd3a_8daf_11ea_8619_10e7c6f2b1bdlevel1_row0\" class=\"row_heading level1 row0\" >Training Accuracy</th>\n",
       "                        <td id=\"T_71f9cd3a_8daf_11ea_8619_10e7c6f2b1bdrow0_col0\" class=\"data row0 col0\" >0.5935</td>\n",
       "                        <td id=\"T_71f9cd3a_8daf_11ea_8619_10e7c6f2b1bdrow0_col1\" class=\"data row0 col1\" >0.59</td>\n",
       "                        <td id=\"T_71f9cd3a_8daf_11ea_8619_10e7c6f2b1bdrow0_col2\" class=\"data row0 col2\" >0.6514</td>\n",
       "                        <td id=\"T_71f9cd3a_8daf_11ea_8619_10e7c6f2b1bdrow0_col3\" class=\"data row0 col3\" >0.5935</td>\n",
       "                        <td id=\"T_71f9cd3a_8daf_11ea_8619_10e7c6f2b1bdrow0_col4\" class=\"data row0 col4\" >0.5894</td>\n",
       "                        <td id=\"T_71f9cd3a_8daf_11ea_8619_10e7c6f2b1bdrow0_col5\" class=\"data row0 col5\" >0.3634</td>\n",
       "                        <td id=\"T_71f9cd3a_8daf_11ea_8619_10e7c6f2b1bdrow0_col6\" class=\"data row0 col6\" >0.8042</td>\n",
       "                        <td id=\"T_71f9cd3a_8daf_11ea_8619_10e7c6f2b1bdrow0_col7\" class=\"data row0 col7\" >0.5825</td>\n",
       "                        <td id=\"T_71f9cd3a_8daf_11ea_8619_10e7c6f2b1bdrow0_col8\" class=\"data row0 col8\" >0.5612</td>\n",
       "            </tr>\n",
       "            <tr>\n",
       "                                <th id=\"T_71f9cd3a_8daf_11ea_8619_10e7c6f2b1bdlevel1_row1\" class=\"row_heading level1 row1\" >Test Accuracy</th>\n",
       "                        <td id=\"T_71f9cd3a_8daf_11ea_8619_10e7c6f2b1bdrow1_col0\" class=\"data row1 col0\" >0.5582</td>\n",
       "                        <td id=\"T_71f9cd3a_8daf_11ea_8619_10e7c6f2b1bdrow1_col1\" class=\"data row1 col1\" >0.5581</td>\n",
       "                        <td id=\"T_71f9cd3a_8daf_11ea_8619_10e7c6f2b1bdrow1_col2\" class=\"data row1 col2\" >0.5782</td>\n",
       "                        <td id=\"T_71f9cd3a_8daf_11ea_8619_10e7c6f2b1bdrow1_col3\" class=\"data row1 col3\" >0.5585</td>\n",
       "                        <td id=\"T_71f9cd3a_8daf_11ea_8619_10e7c6f2b1bdrow1_col4\" class=\"data row1 col4\" >0.5567</td>\n",
       "                        <td id=\"T_71f9cd3a_8daf_11ea_8619_10e7c6f2b1bdrow1_col5\" class=\"data row1 col5\" >0.3875</td>\n",
       "                        <td id=\"T_71f9cd3a_8daf_11ea_8619_10e7c6f2b1bdrow1_col6\" class=\"data row1 col6\" >0.5161</td>\n",
       "                        <td id=\"T_71f9cd3a_8daf_11ea_8619_10e7c6f2b1bdrow1_col7\" class=\"data row1 col7\" >0.5425</td>\n",
       "                        <td id=\"T_71f9cd3a_8daf_11ea_8619_10e7c6f2b1bdrow1_col8\" class=\"data row1 col8\" >0.5212</td>\n",
       "            </tr>\n",
       "            <tr>\n",
       "                        <th id=\"T_71f9cd3a_8daf_11ea_8619_10e7c6f2b1bdlevel0_row2\" class=\"row_heading level0 row2\" rowspan=2>After PCA</th>\n",
       "                        <th id=\"T_71f9cd3a_8daf_11ea_8619_10e7c6f2b1bdlevel1_row2\" class=\"row_heading level1 row2\" >Training Accuracy</th>\n",
       "                        <td id=\"T_71f9cd3a_8daf_11ea_8619_10e7c6f2b1bdrow2_col0\" class=\"data row2 col0\" >0.459</td>\n",
       "                        <td id=\"T_71f9cd3a_8daf_11ea_8619_10e7c6f2b1bdrow2_col1\" class=\"data row2 col1\" >0.5509</td>\n",
       "                        <td id=\"T_71f9cd3a_8daf_11ea_8619_10e7c6f2b1bdrow2_col2\" class=\"data row2 col2\" >0.6438</td>\n",
       "                        <td id=\"T_71f9cd3a_8daf_11ea_8619_10e7c6f2b1bdrow2_col3\" class=\"data row2 col3\" >0.459</td>\n",
       "                        <td id=\"T_71f9cd3a_8daf_11ea_8619_10e7c6f2b1bdrow2_col4\" class=\"data row2 col4\" >0.456</td>\n",
       "                        <td id=\"T_71f9cd3a_8daf_11ea_8619_10e7c6f2b1bdrow2_col5\" class=\"data row2 col5\" >0.4509</td>\n",
       "                        <td id=\"T_71f9cd3a_8daf_11ea_8619_10e7c6f2b1bdrow2_col6\" class=\"data row2 col6\" >0.7157</td>\n",
       "                        <td id=\"T_71f9cd3a_8daf_11ea_8619_10e7c6f2b1bdrow2_col7\" class=\"data row2 col7\" >0.4557</td>\n",
       "                        <td id=\"T_71f9cd3a_8daf_11ea_8619_10e7c6f2b1bdrow2_col8\" class=\"data row2 col8\" >0.5361</td>\n",
       "            </tr>\n",
       "            <tr>\n",
       "                                <th id=\"T_71f9cd3a_8daf_11ea_8619_10e7c6f2b1bdlevel1_row3\" class=\"row_heading level1 row3\" >Test Accuracy</th>\n",
       "                        <td id=\"T_71f9cd3a_8daf_11ea_8619_10e7c6f2b1bdrow3_col0\" class=\"data row3 col0\" >0.437</td>\n",
       "                        <td id=\"T_71f9cd3a_8daf_11ea_8619_10e7c6f2b1bdrow3_col1\" class=\"data row3 col1\" >0.5029</td>\n",
       "                        <td id=\"T_71f9cd3a_8daf_11ea_8619_10e7c6f2b1bdrow3_col2\" class=\"data row3 col2\" >0.5321</td>\n",
       "                        <td id=\"T_71f9cd3a_8daf_11ea_8619_10e7c6f2b1bdrow3_col3\" class=\"data row3 col3\" >0.437</td>\n",
       "                        <td id=\"T_71f9cd3a_8daf_11ea_8619_10e7c6f2b1bdrow3_col4\" class=\"data row3 col4\" >0.434</td>\n",
       "                        <td id=\"T_71f9cd3a_8daf_11ea_8619_10e7c6f2b1bdrow3_col5\" class=\"data row3 col5\" >0.4208</td>\n",
       "                        <td id=\"T_71f9cd3a_8daf_11ea_8619_10e7c6f2b1bdrow3_col6\" class=\"data row3 col6\" >0.544</td>\n",
       "                        <td id=\"T_71f9cd3a_8daf_11ea_8619_10e7c6f2b1bdrow3_col7\" class=\"data row3 col7\" >0.4259</td>\n",
       "                        <td id=\"T_71f9cd3a_8daf_11ea_8619_10e7c6f2b1bdrow3_col8\" class=\"data row3 col8\" >0.4932</td>\n",
       "            </tr>\n",
       "    </tbody></table>"
      ],
      "text/plain": [
       "<pandas.io.formats.style.Styler at 0x25747e0cbc8>"
      ]
     },
     "execution_count": 61,
     "metadata": {},
     "output_type": "execute_result"
    }
   ],
   "source": [
    "#visualizing the accuracy score in a table format\n",
    "import seaborn as sns\n",
    "\n",
    "cm = sns.light_palette(\"#2ecc71\", as_cmap=True)\n",
    "\n",
    "s = df.style.background_gradient(cmap='Pastel1')\n",
    "s\n"
   ]
  },
  {
   "cell_type": "markdown",
   "metadata": {},
   "source": [
    "## Conclusion after PCA : \n",
    "In most of the models the training/test accuracy score is better before applying PCA.When working with PCA we have reduced components to 8 which would improve the computational time however there is a compromise in the accuracy which makes it not an ideal choice. So we would go forward with Models with no PCA applied."
   ]
  },
  {
   "cell_type": "markdown",
   "metadata": {},
   "source": [
    "# Deep Learning "
   ]
  },
  {
   "cell_type": "code",
   "execution_count": 62,
   "metadata": {},
   "outputs": [
    {
     "name": "stderr",
     "output_type": "stream",
     "text": [
      "Using TensorFlow backend.\n"
     ]
    }
   ],
   "source": [
    "#install the packages\n",
    "import numpy as np\n",
    "from sklearn.model_selection import GridSearchCV\n",
    "from keras.models import Sequential\n",
    "from keras.layers import Dense\n",
    "from keras.wrappers.scikit_learn import KerasClassifier"
   ]
  },
  {
   "cell_type": "code",
   "execution_count": 63,
   "metadata": {},
   "outputs": [],
   "source": [
    "#set seed for reproducibility\n",
    "seed = 10\n",
    "np.random.seed(10)"
   ]
  },
  {
   "cell_type": "code",
   "execution_count": 64,
   "metadata": {},
   "outputs": [],
   "source": [
    "from sklearn.preprocessing import MinMaxScaler\n",
    "\n",
    "scaler = MinMaxScaler()\n",
    "X_train = scaler.fit_transform(X_train_org)\n",
    "X_test = scaler.transform(X_test_org)"
   ]
  },
  {
   "cell_type": "code",
   "execution_count": 66,
   "metadata": {},
   "outputs": [],
   "source": [
    "model = KerasClassifier(build_fn = create_model, verbose = 0)\n",
    "#grid search to find the best epochs and batch size \n",
    "param_grid = {'batch_size':[10,20,30,40] , 'epochs':[10, 50, 100]}\n",
    "grid_search = GridSearchCV(estimator= model, param_grid = param_grid, cv = 5)"
   ]
  },
  {
   "cell_type": "code",
   "execution_count": 67,
   "metadata": {},
   "outputs": [
    {
     "data": {
      "text/plain": [
       "GridSearchCV(cv=5, error_score='raise-deprecating',\n",
       "             estimator=<keras.wrappers.scikit_learn.KerasClassifier object at 0x000002575840E048>,\n",
       "             iid='warn', n_jobs=None,\n",
       "             param_grid={'batch_size': [10, 20, 30, 40],\n",
       "                         'epochs': [10, 50, 100]},\n",
       "             pre_dispatch='2*n_jobs', refit=True, return_train_score=False,\n",
       "             scoring=None, verbose=0)"
      ]
     },
     "execution_count": 67,
     "metadata": {},
     "output_type": "execute_result"
    }
   ],
   "source": [
    "#fit the grid search on the test dataset\n",
    "grid_search_result = grid_search.fit(X_test, y_test)\n",
    "grid_search_result"
   ]
  },
  {
   "cell_type": "code",
   "execution_count": 68,
   "metadata": {},
   "outputs": [
    {
     "name": "stdout",
     "output_type": "stream",
     "text": [
      "Best parameters: {'batch_size': 10, 'epochs': 10}\n"
     ]
    }
   ],
   "source": [
    "#list the best parameter\n",
    "print(\"Best parameters: {}\".format(grid_search.best_params_))"
   ]
  },
  {
   "cell_type": "code",
   "execution_count": 91,
   "metadata": {},
   "outputs": [],
   "source": [
    "#create model\n",
    "model = Sequential()\n",
    "#the first hidden input layer with 200 neuron nodes \n",
    "model.add(Dense(200, input_dim=25, kernel_initializer='normal', activation='relu'))\n",
    "#the second hidden input layer with 200 neuron nodes creating a funnel shape\n",
    "model.add(Dense(200,kernel_initializer='normal', activation='relu'))\n",
    "#the third hidden input layer with 200 neuron nodes creating a funnel shape\n",
    "model.add(Dense(200, kernel_initializer='normal', activation='relu'))\n",
    "#output layer\n",
    "model.add(Dense(1, kernel_initializer='normal'))"
   ]
  },
  {
   "cell_type": "code",
   "execution_count": 98,
   "metadata": {},
   "outputs": [],
   "source": [
    "#Compile model\n",
    "model.compile(loss='mse', optimizer='adam' , metrics = ['mse'])"
   ]
  },
  {
   "cell_type": "code",
   "execution_count": 99,
   "metadata": {},
   "outputs": [
    {
     "name": "stdout",
     "output_type": "stream",
     "text": [
      "Epoch 1/100\n",
      "3591/3591 [==============================] - 1s 317us/step - loss: 0.1227 - mse: 0.1227\n",
      "Epoch 2/100\n",
      "3591/3591 [==============================] - 1s 284us/step - loss: 0.1200 - mse: 0.1200\n",
      "Epoch 3/100\n",
      "3591/3591 [==============================] - 1s 270us/step - loss: 0.1186 - mse: 0.1186\n",
      "Epoch 4/100\n",
      "3591/3591 [==============================] - 1s 285us/step - loss: 0.1205 - mse: 0.1205\n",
      "Epoch 5/100\n",
      "3591/3591 [==============================] - 1s 304us/step - loss: 0.1169 - mse: 0.1169\n",
      "Epoch 6/100\n",
      "3591/3591 [==============================] - 1s 273us/step - loss: 0.1182 - mse: 0.1182\n",
      "Epoch 7/100\n",
      "3591/3591 [==============================] - 1s 241us/step - loss: 0.1188 - mse: 0.1188\n",
      "Epoch 8/100\n",
      "3591/3591 [==============================] - 1s 267us/step - loss: 0.1168 - mse: 0.1168\n",
      "Epoch 9/100\n",
      "3591/3591 [==============================] - 1s 221us/step - loss: 0.1174 - mse: 0.1174\n",
      "Epoch 10/100\n",
      "3591/3591 [==============================] - 1s 239us/step - loss: 0.1228 - mse: 0.1228\n",
      "Epoch 11/100\n",
      "3591/3591 [==============================] - 1s 291us/step - loss: 0.1192 - mse: 0.1192\n",
      "Epoch 12/100\n",
      "3591/3591 [==============================] - 1s 247us/step - loss: 0.1169 - mse: 0.1169\n",
      "Epoch 13/100\n",
      "3591/3591 [==============================] - 1s 265us/step - loss: 0.1154 - mse: 0.1154\n",
      "Epoch 14/100\n",
      "3591/3591 [==============================] - 1s 258us/step - loss: 0.1187 - mse: 0.1187\n",
      "Epoch 15/100\n",
      "3591/3591 [==============================] - 1s 215us/step - loss: 0.1189 - mse: 0.1189\n",
      "Epoch 16/100\n",
      "3591/3591 [==============================] - 1s 226us/step - loss: 0.1168 - mse: 0.1168\n",
      "Epoch 17/100\n",
      "3591/3591 [==============================] - 1s 233us/step - loss: 0.1150 - mse: 0.1150\n",
      "Epoch 18/100\n",
      "3591/3591 [==============================] - 1s 237us/step - loss: 0.1156 - mse: 0.1156\n",
      "Epoch 19/100\n",
      "3591/3591 [==============================] - 1s 202us/step - loss: 0.1186 - mse: 0.1186\n",
      "Epoch 20/100\n",
      "3591/3591 [==============================] - 1s 218us/step - loss: 0.1135 - mse: 0.1135\n",
      "Epoch 21/100\n",
      "3591/3591 [==============================] - 1s 225us/step - loss: 0.1150 - mse: 0.1150\n",
      "Epoch 22/100\n",
      "3591/3591 [==============================] - 1s 257us/step - loss: 0.1120 - mse: 0.1120\n",
      "Epoch 23/100\n",
      "3591/3591 [==============================] - 1s 198us/step - loss: 0.1152 - mse: 0.1152\n",
      "Epoch 24/100\n",
      "3591/3591 [==============================] - 1s 194us/step - loss: 0.1145 - mse: 0.1145\n",
      "Epoch 25/100\n",
      "3591/3591 [==============================] - 1s 185us/step - loss: 0.1176 - mse: 0.1176\n",
      "Epoch 26/100\n",
      "3591/3591 [==============================] - 1s 214us/step - loss: 0.1147 - mse: 0.1147\n",
      "Epoch 27/100\n",
      "3591/3591 [==============================] - 1s 187us/step - loss: 0.1154 - mse: 0.1154\n",
      "Epoch 28/100\n",
      "3591/3591 [==============================] - 1s 233us/step - loss: 0.1136 - mse: 0.1136\n",
      "Epoch 29/100\n",
      "3591/3591 [==============================] - 1s 295us/step - loss: 0.1126 - mse: 0.1126\n",
      "Epoch 30/100\n",
      "3591/3591 [==============================] - 1s 179us/step - loss: 0.1117 - mse: 0.1117\n",
      "Epoch 31/100\n",
      "3591/3591 [==============================] - 1s 190us/step - loss: 0.1122 - mse: 0.1122\n",
      "Epoch 32/100\n",
      "3591/3591 [==============================] - 1s 263us/step - loss: 0.1105 - mse: 0.1105\n",
      "Epoch 33/100\n",
      "3591/3591 [==============================] - 1s 174us/step - loss: 0.1108 - mse: 0.1108\n",
      "Epoch 34/100\n",
      "3591/3591 [==============================] - 1s 244us/step - loss: 0.1117 - mse: 0.1117\n",
      "Epoch 35/100\n",
      "3591/3591 [==============================] - 1s 256us/step - loss: 0.1158 - mse: 0.1158\n",
      "Epoch 36/100\n",
      "3591/3591 [==============================] - 1s 213us/step - loss: 0.1118 - mse: 0.1118\n",
      "Epoch 37/100\n",
      "3591/3591 [==============================] - 1s 211us/step - loss: 0.1114 - mse: 0.1114\n",
      "Epoch 38/100\n",
      "3591/3591 [==============================] - 1s 222us/step - loss: 0.1105 - mse: 0.1105\n",
      "Epoch 39/100\n",
      "3591/3591 [==============================] - 1s 234us/step - loss: 0.1110 - mse: 0.1110\n",
      "Epoch 40/100\n",
      "3591/3591 [==============================] - 1s 177us/step - loss: 0.1100 - mse: 0.1100\n",
      "Epoch 41/100\n",
      "3591/3591 [==============================] - 1s 188us/step - loss: 0.1105 - mse: 0.1105\n",
      "Epoch 42/100\n",
      "3591/3591 [==============================] - 1s 222us/step - loss: 0.1101 - mse: 0.1101\n",
      "Epoch 43/100\n",
      "3591/3591 [==============================] - 1s 171us/step - loss: 0.1126 - mse: 0.1126\n",
      "Epoch 44/100\n",
      "3591/3591 [==============================] - 1s 208us/step - loss: 0.1110 - mse: 0.1110\n",
      "Epoch 45/100\n",
      "3591/3591 [==============================] - 1s 268us/step - loss: 0.1095 - mse: 0.1095\n",
      "Epoch 46/100\n",
      "3591/3591 [==============================] - 1s 261us/step - loss: 0.1091 - mse: 0.1091\n",
      "Epoch 47/100\n",
      "3591/3591 [==============================] - 1s 170us/step - loss: 0.1090 - mse: 0.1090\n",
      "Epoch 48/100\n",
      "3591/3591 [==============================] - 1s 177us/step - loss: 0.1083 - mse: 0.1083\n",
      "Epoch 49/100\n",
      "3591/3591 [==============================] - 1s 169us/step - loss: 0.1080 - mse: 0.1080\n",
      "Epoch 50/100\n",
      "3591/3591 [==============================] - 1s 196us/step - loss: 0.1089 - mse: 0.1089\n",
      "Epoch 51/100\n",
      "3591/3591 [==============================] - 1s 216us/step - loss: 0.1096 - mse: 0.1096\n",
      "Epoch 52/100\n",
      "3591/3591 [==============================] - 1s 239us/step - loss: 0.1086 - mse: 0.1086\n",
      "Epoch 53/100\n",
      "3591/3591 [==============================] - 1s 180us/step - loss: 0.1098 - mse: 0.1098\n",
      "Epoch 54/100\n",
      "3591/3591 [==============================] - 1s 177us/step - loss: 0.1108 - mse: 0.1108\n",
      "Epoch 55/100\n",
      "3591/3591 [==============================] - 1s 291us/step - loss: 0.1054 - mse: 0.1054\n",
      "Epoch 56/100\n",
      "3591/3591 [==============================] - 1s 183us/step - loss: 0.1069 - mse: 0.1069\n",
      "Epoch 57/100\n",
      "3591/3591 [==============================] - 1s 209us/step - loss: 0.1075 - mse: 0.1075\n",
      "Epoch 58/100\n",
      "3591/3591 [==============================] - 1s 197us/step - loss: 0.1060 - mse: 0.1060\n",
      "Epoch 59/100\n",
      "3591/3591 [==============================] - 1s 199us/step - loss: 0.1064 - mse: 0.1064\n",
      "Epoch 60/100\n",
      "3591/3591 [==============================] - 1s 188us/step - loss: 0.1074 - mse: 0.1074\n",
      "Epoch 61/100\n",
      "3591/3591 [==============================] - 1s 269us/step - loss: 0.1070 - mse: 0.1070\n",
      "Epoch 62/100\n",
      "3591/3591 [==============================] - 1s 194us/step - loss: 0.1056 - mse: 0.1056\n",
      "Epoch 63/100\n",
      "3591/3591 [==============================] - 1s 200us/step - loss: 0.1071 - mse: 0.1071\n",
      "Epoch 64/100\n",
      "3591/3591 [==============================] - 1s 215us/step - loss: 0.1062 - mse: 0.1062\n",
      "Epoch 65/100\n",
      "3591/3591 [==============================] - 1s 278us/step - loss: 0.1061 - mse: 0.1061\n",
      "Epoch 66/100\n",
      "3591/3591 [==============================] - 1s 252us/step - loss: 0.1045 - mse: 0.1045\n",
      "Epoch 67/100\n",
      "3591/3591 [==============================] - 1s 208us/step - loss: 0.1048 - mse: 0.1048\n",
      "Epoch 68/100\n",
      "3591/3591 [==============================] - 1s 232us/step - loss: 0.1056 - mse: 0.1056\n",
      "Epoch 69/100\n",
      "3591/3591 [==============================] - 1s 223us/step - loss: 0.1056 - mse: 0.1056\n",
      "Epoch 70/100\n",
      "3591/3591 [==============================] - 1s 281us/step - loss: 0.1062 - mse: 0.1062\n",
      "Epoch 71/100\n",
      "3591/3591 [==============================] - 1s 187us/step - loss: 0.1063 - mse: 0.1063\n",
      "Epoch 72/100\n",
      "3591/3591 [==============================] - 1s 218us/step - loss: 0.1046 - mse: 0.1046\n",
      "Epoch 73/100\n",
      "3591/3591 [==============================] - 1s 296us/step - loss: 0.1049 - mse: 0.1049\n",
      "Epoch 74/100\n",
      "3591/3591 [==============================] - 1s 275us/step - loss: 0.1047 - mse: 0.1047\n",
      "Epoch 75/100\n",
      "3591/3591 [==============================] - 1s 299us/step - loss: 0.1043 - mse: 0.1043\n",
      "Epoch 76/100\n",
      "3591/3591 [==============================] - 1s 289us/step - loss: 0.1026 - mse: 0.1026\n",
      "Epoch 77/100\n",
      "3591/3591 [==============================] - 1s 280us/step - loss: 0.1039 - mse: 0.1039\n",
      "Epoch 78/100\n",
      "3591/3591 [==============================] - 1s 271us/step - loss: 0.1051 - mse: 0.1051\n",
      "Epoch 79/100\n",
      "3591/3591 [==============================] - 1s 263us/step - loss: 0.1042 - mse: 0.1042\n",
      "Epoch 80/100\n",
      "3591/3591 [==============================] - 1s 187us/step - loss: 0.1019 - mse: 0.1019\n",
      "Epoch 81/100\n",
      "3591/3591 [==============================] - 1s 168us/step - loss: 0.1060 - mse: 0.1060\n",
      "Epoch 82/100\n",
      "3591/3591 [==============================] - 1s 195us/step - loss: 0.1048 - mse: 0.1048\n",
      "Epoch 83/100\n",
      "3591/3591 [==============================] - 1s 241us/step - loss: 0.1012 - mse: 0.1012\n",
      "Epoch 84/100\n",
      "3591/3591 [==============================] - 1s 265us/step - loss: 0.1076 - mse: 0.1076\n",
      "Epoch 85/100\n",
      "3591/3591 [==============================] - 1s 167us/step - loss: 0.1042 - mse: 0.1042\n",
      "Epoch 86/100\n",
      "3591/3591 [==============================] - 1s 178us/step - loss: 0.1014 - mse: 0.1014\n",
      "Epoch 87/100\n",
      "3591/3591 [==============================] - 1s 212us/step - loss: 0.1033 - mse: 0.1033\n",
      "Epoch 88/100\n",
      "3591/3591 [==============================] - 1s 187us/step - loss: 0.1043 - mse: 0.1043\n",
      "Epoch 89/100\n",
      "3591/3591 [==============================] - 1s 232us/step - loss: 0.1011 - mse: 0.1011\n",
      "Epoch 90/100\n",
      "3591/3591 [==============================] - 1s 159us/step - loss: 0.1025 - mse: 0.1025\n",
      "Epoch 91/100\n",
      "3591/3591 [==============================] - 1s 183us/step - loss: 0.1011 - mse: 0.1011\n",
      "Epoch 92/100\n",
      "3591/3591 [==============================] - 1s 194us/step - loss: 0.1009 - mse: 0.1009\n",
      "Epoch 93/100\n",
      "3591/3591 [==============================] - 1s 174us/step - loss: 0.1024 - mse: 0.1024\n",
      "Epoch 94/100\n",
      "3591/3591 [==============================] - 1s 178us/step - loss: 0.1019 - mse: 0.1019\n",
      "Epoch 95/100\n",
      "3591/3591 [==============================] - 1s 168us/step - loss: 0.1020 - mse: 0.1020\n",
      "Epoch 96/100\n",
      "3591/3591 [==============================] - 1s 209us/step - loss: 0.1035 - mse: 0.1035\n",
      "Epoch 97/100\n",
      "3591/3591 [==============================] - 1s 207us/step - loss: 0.0995 - mse: 0.0995\n",
      "Epoch 98/100\n",
      "3591/3591 [==============================] - 1s 187us/step - loss: 0.1023 - mse: 0.1023\n",
      "Epoch 99/100\n",
      "3591/3591 [==============================] - 1s 192us/step - loss: 0.0984 - mse: 0.0984\n",
      "Epoch 100/100\n",
      "3591/3591 [==============================] - 1s 217us/step - loss: 0.1018 - mse: 0.1018\n"
     ]
    },
    {
     "data": {
      "text/plain": [
       "<keras.callbacks.callbacks.History at 0x2576268f3c8>"
      ]
     },
     "execution_count": 99,
     "metadata": {},
     "output_type": "execute_result"
    }
   ],
   "source": [
    "#fit the best paramter value obtained from grid search on the train dataset\n",
    "model.fit(X_train, y_train, epochs = 100, batch_size = 10)"
   ]
  },
  {
   "cell_type": "code",
   "execution_count": 100,
   "metadata": {},
   "outputs": [
    {
     "name": "stdout",
     "output_type": "stream",
     "text": [
      "1198/1198 [==============================] - 0s 51us/step\n"
     ]
    },
    {
     "data": {
      "text/plain": [
       "[0.18642983074379285, 0.18642984330654144]"
      ]
     },
     "execution_count": 100,
     "metadata": {},
     "output_type": "execute_result"
    }
   ],
   "source": [
    "#evaluate the score of the model \n",
    "model.evaluate(X_test, y_test)"
   ]
  },
  {
   "cell_type": "code",
   "execution_count": 101,
   "metadata": {},
   "outputs": [
    {
     "name": "stdout",
     "output_type": "stream",
     "text": [
      "Train score: 0.77\n",
      "Test score: 0.57\n"
     ]
    }
   ],
   "source": [
    "#evaluate the r2_score on the train and test dataset \n",
    "from sklearn.metrics import r2_score, recall_score, precision_score\n",
    "\n",
    "y_train_predict = model.predict(X_train)\n",
    "y_test_predict = model.predict(X_test)\n",
    "\n",
    "print('Train score: {:.2f}'.format(r2_score(y_train, y_train_predict)))\n",
    "print('Test score: {:.2f}'.format(r2_score(y_test, y_test_predict)))"
   ]
  },
  {
   "cell_type": "code",
   "execution_count": 102,
   "metadata": {},
   "outputs": [
    {
     "name": "stdout",
     "output_type": "stream",
     "text": [
      "1198/1198 [==============================] - 0s 37us/step\n",
      "\n",
      "mse: 18.64%\n"
     ]
    }
   ],
   "source": [
    "# evaluate the model\n",
    "scores = model.evaluate(X_test, y_test)\n",
    "print(\"\\n%s: %.2f%%\" % (model.metrics_names[1], scores[1]*100))"
   ]
  },
  {
   "cell_type": "markdown",
   "metadata": {},
   "source": [
    "# Classification"
   ]
  },
  {
   "cell_type": "markdown",
   "metadata": {
    "colab_type": "text",
    "id": "2sIZow32ptp2"
   },
   "source": [
    "# INCOME CLASSIFICATION\n",
    "Attribute Information:\n",
    "Variable Definition Key Age Age\n",
    "Workplace Workplace Private, Self-emp-not-inc, Self-emp-inc, Federal-gov, Local-gov, State-gov, Without-pay, Never-worked fnlwgt fnlwgt\n",
    "education education Bachelors, Some-college, 11th, HS-grad, Prof-school, Assoc-acdm, Assoc-voc, 9th, 7th-8th, 12th, Masters, 1st-4th, 10th, Doctorate, 5th-6th, Preschool education-num equivalent numeric representation for education 10th Standard- 6, 11th Standard - 7, 12th Standard - 8, 1st-4th standard- 2, 5th-6th standard - 3, 7th-8th standard- 4, 9th Standard - 5, Assoc-acdm-12, Assoc-voc-11,Bachelors -13, Doctorate - 16, HS-grad -9, some-college-10,Prof-scgool-15, Masters -14, Preschool-1, marital-status Married-civ-spouse, Divorced, Never-married, Separated, Widowed, Married-spouse-absent, Married-AF-spouse relationship Wife, Own-child, Husband, Not-in-family, Other-relative, Unmarried race White, Asian-Pac-Islander, Amer-Indian-Eskimo, Other, Black. sex Female, Male hours-per-week number of hours worked in a week\n",
    "native-country country to which the person belongs\n",
    "income if income is above 50K or below 50K income>50K - 1, income<= 50K - 0"
   ]
  },
  {
   "cell_type": "code",
   "execution_count": 103,
   "metadata": {
    "colab": {
     "base_uri": "https://localhost:8080/",
     "height": 71
    },
    "colab_type": "code",
    "id": "91pzCCs4ptp4",
    "outputId": "0c9deb52-81ea-411f-aab6-da8ae4f25771"
   },
   "outputs": [],
   "source": [
    "import numpy as np\n",
    "import pandas as pd\n",
    "import seaborn as sns\n",
    "import matplotlib.pyplot as plt\n",
    "np.random.seed(0)\n",
    "%matplotlib inline\n",
    "import warnings\n",
    "warnings.filterwarnings(\"ignore\")\n",
    "from pandas.plotting import scatter_matrix\n"
   ]
  },
  {
   "cell_type": "code",
   "execution_count": 108,
   "metadata": {
    "colab": {},
    "colab_type": "code",
    "id": "kfAn0tYyptqL"
   },
   "outputs": [],
   "source": [
    "#read the csv file in a variable named income_data\n",
    "income_data = pd.read_csv('income_evaluation.csv')"
   ]
  },
  {
   "cell_type": "code",
   "execution_count": 109,
   "metadata": {
    "colab": {
     "base_uri": "https://localhost:8080/",
     "height": 476
    },
    "colab_type": "code",
    "id": "15afNEX9ptqa",
    "outputId": "b34b353c-67ef-4545-8025-2f70d6285b1a"
   },
   "outputs": [
    {
     "name": "stdout",
     "output_type": "stream",
     "text": [
      "<class 'pandas.core.frame.DataFrame'>\n",
      "RangeIndex: 1508 entries, 0 to 1507\n",
      "Data columns (total 15 columns):\n",
      "age               1501 non-null float64\n",
      "workclass         1495 non-null object\n",
      "fnlwgt            1499 non-null float64\n",
      "education         1491 non-null object\n",
      "education-num     1483 non-null float64\n",
      "marital-status    1493 non-null object\n",
      "occupation        1492 non-null object\n",
      "relationship      1494 non-null object\n",
      "race              1492 non-null object\n",
      "sex               1498 non-null object\n",
      "capital-gain      1490 non-null float64\n",
      "capital-loss      1498 non-null float64\n",
      "hours-per-week    1491 non-null float64\n",
      "native-country    1491 non-null object\n",
      "income            1508 non-null int64\n",
      "dtypes: float64(6), int64(1), object(8)\n",
      "memory usage: 176.8+ KB\n"
     ]
    },
    {
     "data": {
      "text/plain": [
       "Index(['age', 'workclass', 'fnlwgt', 'education', 'education-num',\n",
       "       'marital-status', 'occupation', 'relationship', 'race', 'sex',\n",
       "       'capital-gain', 'capital-loss', 'hours-per-week', 'native-country',\n",
       "       'income'],\n",
       "      dtype='object')"
      ]
     },
     "execution_count": 109,
     "metadata": {},
     "output_type": "execute_result"
    }
   ],
   "source": [
    "#get a concise summary of the dataframe column\n",
    "income_data.info()\n",
    "income_data.columns"
   ]
  },
  {
   "cell_type": "code",
   "execution_count": 110,
   "metadata": {
    "colab": {
     "base_uri": "https://localhost:8080/",
     "height": 289
    },
    "colab_type": "code",
    "id": "Xa26QH5Nptqe",
    "outputId": "136042b0-7f02-4b5e-81ff-24a58eb8f4f0"
   },
   "outputs": [
    {
     "data": {
      "text/plain": [
       "age                7\n",
       "workclass         13\n",
       "fnlwgt             9\n",
       "education         17\n",
       "education-num     25\n",
       "marital-status    15\n",
       "occupation        16\n",
       "relationship      14\n",
       "race              16\n",
       "sex               10\n",
       "capital-gain      18\n",
       "capital-loss      10\n",
       "hours-per-week    17\n",
       "native-country    17\n",
       "income             0\n",
       "dtype: int64"
      ]
     },
     "execution_count": 110,
     "metadata": {},
     "output_type": "execute_result"
    }
   ],
   "source": [
    "#get a sum of the null values in the dataframe column\n",
    "income_data.isnull().sum()"
   ]
  },
  {
   "cell_type": "code",
   "execution_count": 111,
   "metadata": {
    "colab": {
     "base_uri": "https://localhost:8080/",
     "height": 297
    },
    "colab_type": "code",
    "id": "oekDZYp8ptql",
    "outputId": "e33ef166-d8e8-4b4f-8490-f1c3468dbde5"
   },
   "outputs": [
    {
     "data": {
      "text/html": [
       "<div>\n",
       "<style scoped>\n",
       "    .dataframe tbody tr th:only-of-type {\n",
       "        vertical-align: middle;\n",
       "    }\n",
       "\n",
       "    .dataframe tbody tr th {\n",
       "        vertical-align: top;\n",
       "    }\n",
       "\n",
       "    .dataframe thead th {\n",
       "        text-align: right;\n",
       "    }\n",
       "</style>\n",
       "<table border=\"1\" class=\"dataframe\">\n",
       "  <thead>\n",
       "    <tr style=\"text-align: right;\">\n",
       "      <th></th>\n",
       "      <th>age</th>\n",
       "      <th>fnlwgt</th>\n",
       "      <th>education-num</th>\n",
       "      <th>capital-gain</th>\n",
       "      <th>capital-loss</th>\n",
       "      <th>hours-per-week</th>\n",
       "      <th>income</th>\n",
       "    </tr>\n",
       "  </thead>\n",
       "  <tbody>\n",
       "    <tr>\n",
       "      <td>count</td>\n",
       "      <td>1501.000000</td>\n",
       "      <td>1.499000e+03</td>\n",
       "      <td>1483.00000</td>\n",
       "      <td>1490.000000</td>\n",
       "      <td>1498.000000</td>\n",
       "      <td>1491.00000</td>\n",
       "      <td>1508.000000</td>\n",
       "    </tr>\n",
       "    <tr>\n",
       "      <td>mean</td>\n",
       "      <td>39.072618</td>\n",
       "      <td>1.908296e+05</td>\n",
       "      <td>10.08766</td>\n",
       "      <td>812.157718</td>\n",
       "      <td>80.324433</td>\n",
       "      <td>40.90275</td>\n",
       "      <td>0.253316</td>\n",
       "    </tr>\n",
       "    <tr>\n",
       "      <td>std</td>\n",
       "      <td>13.277929</td>\n",
       "      <td>1.065347e+05</td>\n",
       "      <td>2.57893</td>\n",
       "      <td>5114.319920</td>\n",
       "      <td>383.091092</td>\n",
       "      <td>11.52473</td>\n",
       "      <td>0.435054</td>\n",
       "    </tr>\n",
       "    <tr>\n",
       "      <td>min</td>\n",
       "      <td>17.000000</td>\n",
       "      <td>1.882700e+04</td>\n",
       "      <td>1.00000</td>\n",
       "      <td>0.000000</td>\n",
       "      <td>0.000000</td>\n",
       "      <td>1.00000</td>\n",
       "      <td>0.000000</td>\n",
       "    </tr>\n",
       "    <tr>\n",
       "      <td>25%</td>\n",
       "      <td>29.000000</td>\n",
       "      <td>1.169095e+05</td>\n",
       "      <td>9.00000</td>\n",
       "      <td>0.000000</td>\n",
       "      <td>0.000000</td>\n",
       "      <td>40.00000</td>\n",
       "      <td>0.000000</td>\n",
       "    </tr>\n",
       "    <tr>\n",
       "      <td>50%</td>\n",
       "      <td>38.000000</td>\n",
       "      <td>1.785300e+05</td>\n",
       "      <td>10.00000</td>\n",
       "      <td>0.000000</td>\n",
       "      <td>0.000000</td>\n",
       "      <td>40.00000</td>\n",
       "      <td>0.000000</td>\n",
       "    </tr>\n",
       "    <tr>\n",
       "      <td>75%</td>\n",
       "      <td>48.000000</td>\n",
       "      <td>2.392015e+05</td>\n",
       "      <td>13.00000</td>\n",
       "      <td>0.000000</td>\n",
       "      <td>0.000000</td>\n",
       "      <td>45.00000</td>\n",
       "      <td>1.000000</td>\n",
       "    </tr>\n",
       "    <tr>\n",
       "      <td>max</td>\n",
       "      <td>90.000000</td>\n",
       "      <td>1.085515e+06</td>\n",
       "      <td>16.00000</td>\n",
       "      <td>99999.000000</td>\n",
       "      <td>2754.000000</td>\n",
       "      <td>99.00000</td>\n",
       "      <td>1.000000</td>\n",
       "    </tr>\n",
       "  </tbody>\n",
       "</table>\n",
       "</div>"
      ],
      "text/plain": [
       "               age        fnlwgt  education-num  capital-gain  capital-loss  \\\n",
       "count  1501.000000  1.499000e+03     1483.00000   1490.000000   1498.000000   \n",
       "mean     39.072618  1.908296e+05       10.08766    812.157718     80.324433   \n",
       "std      13.277929  1.065347e+05        2.57893   5114.319920    383.091092   \n",
       "min      17.000000  1.882700e+04        1.00000      0.000000      0.000000   \n",
       "25%      29.000000  1.169095e+05        9.00000      0.000000      0.000000   \n",
       "50%      38.000000  1.785300e+05       10.00000      0.000000      0.000000   \n",
       "75%      48.000000  2.392015e+05       13.00000      0.000000      0.000000   \n",
       "max      90.000000  1.085515e+06       16.00000  99999.000000   2754.000000   \n",
       "\n",
       "       hours-per-week       income  \n",
       "count      1491.00000  1508.000000  \n",
       "mean         40.90275     0.253316  \n",
       "std          11.52473     0.435054  \n",
       "min           1.00000     0.000000  \n",
       "25%          40.00000     0.000000  \n",
       "50%          40.00000     0.000000  \n",
       "75%          45.00000     1.000000  \n",
       "max          99.00000     1.000000  "
      ]
     },
     "execution_count": 111,
     "metadata": {},
     "output_type": "execute_result"
    }
   ],
   "source": [
    "#computes a summary of statistics pertaining to the DataFrame numeric columns\n",
    "income_data.describe()"
   ]
  },
  {
   "cell_type": "code",
   "execution_count": 112,
   "metadata": {
    "colab": {
     "base_uri": "https://localhost:8080/",
     "height": 173
    },
    "colab_type": "code",
    "id": "0niLsTzEptqr",
    "outputId": "85f2e240-f06e-48b4-9386-b610a79d8957"
   },
   "outputs": [
    {
     "data": {
      "text/html": [
       "<div>\n",
       "<style scoped>\n",
       "    .dataframe tbody tr th:only-of-type {\n",
       "        vertical-align: middle;\n",
       "    }\n",
       "\n",
       "    .dataframe tbody tr th {\n",
       "        vertical-align: top;\n",
       "    }\n",
       "\n",
       "    .dataframe thead th {\n",
       "        text-align: right;\n",
       "    }\n",
       "</style>\n",
       "<table border=\"1\" class=\"dataframe\">\n",
       "  <thead>\n",
       "    <tr style=\"text-align: right;\">\n",
       "      <th></th>\n",
       "      <th>workclass</th>\n",
       "      <th>education</th>\n",
       "      <th>marital-status</th>\n",
       "      <th>occupation</th>\n",
       "      <th>relationship</th>\n",
       "      <th>race</th>\n",
       "      <th>sex</th>\n",
       "      <th>native-country</th>\n",
       "    </tr>\n",
       "  </thead>\n",
       "  <tbody>\n",
       "    <tr>\n",
       "      <td>count</td>\n",
       "      <td>1495</td>\n",
       "      <td>1491</td>\n",
       "      <td>1493</td>\n",
       "      <td>1492</td>\n",
       "      <td>1494</td>\n",
       "      <td>1492</td>\n",
       "      <td>1498</td>\n",
       "      <td>1491</td>\n",
       "    </tr>\n",
       "    <tr>\n",
       "      <td>unique</td>\n",
       "      <td>6</td>\n",
       "      <td>16</td>\n",
       "      <td>7</td>\n",
       "      <td>13</td>\n",
       "      <td>6</td>\n",
       "      <td>5</td>\n",
       "      <td>2</td>\n",
       "      <td>31</td>\n",
       "    </tr>\n",
       "    <tr>\n",
       "      <td>top</td>\n",
       "      <td>Private</td>\n",
       "      <td>HS-grad</td>\n",
       "      <td>Married-civ-spouse</td>\n",
       "      <td>Craft-repair</td>\n",
       "      <td>Husband</td>\n",
       "      <td>White</td>\n",
       "      <td>Male</td>\n",
       "      <td>United-States</td>\n",
       "    </tr>\n",
       "    <tr>\n",
       "      <td>freq</td>\n",
       "      <td>1087</td>\n",
       "      <td>498</td>\n",
       "      <td>711</td>\n",
       "      <td>205</td>\n",
       "      <td>628</td>\n",
       "      <td>1256</td>\n",
       "      <td>1016</td>\n",
       "      <td>1342</td>\n",
       "    </tr>\n",
       "  </tbody>\n",
       "</table>\n",
       "</div>"
      ],
      "text/plain": [
       "       workclass education       marital-status     occupation relationship  \\\n",
       "count       1495      1491                 1493           1492         1494   \n",
       "unique         6        16                    7             13            6   \n",
       "top      Private   HS-grad   Married-civ-spouse   Craft-repair      Husband   \n",
       "freq        1087       498                  711            205          628   \n",
       "\n",
       "          race    sex  native-country  \n",
       "count     1492   1498            1491  \n",
       "unique       5      2              31  \n",
       "top      White   Male   United-States  \n",
       "freq      1256   1016            1342  "
      ]
     },
     "execution_count": 112,
     "metadata": {},
     "output_type": "execute_result"
    }
   ],
   "source": [
    "#computes a summary of statistics pertaining to the DataFrame object columns\n",
    "income_data.describe(include='O')"
   ]
  },
  {
   "cell_type": "code",
   "execution_count": 113,
   "metadata": {
    "colab": {
     "base_uri": "https://localhost:8080/",
     "height": 667
    },
    "colab_type": "code",
    "id": "i-9GHesDptqv",
    "outputId": "2368f44e-2845-46cb-89f8-ef81b7c3d1dd"
   },
   "outputs": [
    {
     "data": {
      "text/plain": [
       "<matplotlib.axes._subplots.AxesSubplot at 0x25767b13988>"
      ]
     },
     "execution_count": 113,
     "metadata": {},
     "output_type": "execute_result"
    },
    {
     "data": {
      "image/png": "[encoded data removed]",
      "text/plain": [
       "<Figure size 792x792 with 2 Axes>"
      ]
     },
     "metadata": {
      "needs_background": "light"
     },
     "output_type": "display_data"
    }
   ],
   "source": [
    "plt.figure(figsize=(11,11)) \n",
    "sns.heatmap(income_data.corr(), annot=True, cmap=\"YlGnBu\")"
   ]
  },
  {
   "cell_type": "markdown",
   "metadata": {
    "colab_type": "text",
    "id": "NWz0y6mZptqy"
   },
   "source": [
    "# Feature Scaling\n",
    "We are verifying the ditribution of data, whether the data is normally distributed or not."
   ]
  },
  {
   "cell_type": "markdown",
   "metadata": {
    "colab_type": "text",
    "id": "U9B8mc3sptq0"
   },
   "source": [
    "Encoding the categorical data"
   ]
  },
  {
   "cell_type": "code",
   "execution_count": 114,
   "metadata": {
    "colab": {},
    "colab_type": "code",
    "id": "3EtO5B-Aptq1"
   },
   "outputs": [],
   "source": [
    "#creates a new dataframe which consists of zeros and ones for categorical columns in the data frame\n",
    "income_data=pd.concat((income_data,pd.get_dummies(income_data['workclass'])),axis=1)\n",
    "income_data=pd.concat((income_data,pd.get_dummies(income_data['marital-status'])),axis=1)\n",
    "income_data=pd.concat((income_data,pd.get_dummies(income_data['occupation'])),axis=1)\n",
    "income_data=pd.concat((income_data,pd.get_dummies(income_data['relationship'])),axis=1)\n",
    "income_data=pd.concat((income_data,pd.get_dummies(income_data['race'])),axis=1)\n",
    "income_data=pd.concat((income_data,pd.get_dummies(income_data['sex'])),axis=1)"
   ]
  },
  {
   "cell_type": "code",
   "execution_count": 115,
   "metadata": {
    "colab": {
     "base_uri": "https://localhost:8080/",
     "height": 1000
    },
    "colab_type": "code",
    "id": "hTPDlcEYptq8",
    "outputId": "a7aa342c-782c-4a55-c2a2-707b0d56029a"
   },
   "outputs": [
    {
     "name": "stdout",
     "output_type": "stream",
     "text": [
      "<class 'pandas.core.frame.DataFrame'>\n",
      "RangeIndex: 1508 entries, 0 to 1507\n",
      "Data columns (total 54 columns):\n",
      "age                       1501 non-null float64\n",
      "workclass                 1495 non-null object\n",
      "fnlwgt                    1499 non-null float64\n",
      "education                 1491 non-null object\n",
      "education-num             1483 non-null float64\n",
      "marital-status            1493 non-null object\n",
      "occupation                1492 non-null object\n",
      "relationship              1494 non-null object\n",
      "race                      1492 non-null object\n",
      "sex                       1498 non-null object\n",
      "capital-gain              1490 non-null float64\n",
      "capital-loss              1498 non-null float64\n",
      "hours-per-week            1491 non-null float64\n",
      "native-country            1491 non-null object\n",
      "income                    1508 non-null int64\n",
      " Federal-gov              1508 non-null uint8\n",
      " Local-gov                1508 non-null uint8\n",
      " Private                  1508 non-null uint8\n",
      " Self-emp-inc             1508 non-null uint8\n",
      " Self-emp-not-inc         1508 non-null uint8\n",
      " State-gov                1508 non-null uint8\n",
      " Divorced                 1508 non-null uint8\n",
      " Married-AF-spouse        1508 non-null uint8\n",
      " Married-civ-spouse       1508 non-null uint8\n",
      " Married-spouse-absent    1508 non-null uint8\n",
      " Never-married            1508 non-null uint8\n",
      " Separated                1508 non-null uint8\n",
      " Widowed                  1508 non-null uint8\n",
      " Adm-clerical             1508 non-null uint8\n",
      " Craft-repair             1508 non-null uint8\n",
      " Exec-managerial          1508 non-null uint8\n",
      " Farming-fishing          1508 non-null uint8\n",
      " Handlers-cleaners        1508 non-null uint8\n",
      " Machine-op-inspct        1508 non-null uint8\n",
      " Other-service            1508 non-null uint8\n",
      " Priv-house-serv          1508 non-null uint8\n",
      " Prof-specialty           1508 non-null uint8\n",
      " Protective-serv          1508 non-null uint8\n",
      " Sales                    1508 non-null uint8\n",
      " Tech-support             1508 non-null uint8\n",
      " Transport-moving         1508 non-null uint8\n",
      " Husband                  1508 non-null uint8\n",
      " Not-in-family            1508 non-null uint8\n",
      " Other-relative           1508 non-null uint8\n",
      " Own-child                1508 non-null uint8\n",
      " Unmarried                1508 non-null uint8\n",
      " Wife                     1508 non-null uint8\n",
      " Amer-Indian-Eskimo       1508 non-null uint8\n",
      " Asian-Pac-Islander       1508 non-null uint8\n",
      " Black                    1508 non-null uint8\n",
      " Other                    1508 non-null uint8\n",
      " White                    1508 non-null uint8\n",
      " Female                   1508 non-null uint8\n",
      " Male                     1508 non-null uint8\n",
      "dtypes: float64(6), int64(1), object(8), uint8(39)\n",
      "memory usage: 234.3+ KB\n"
     ]
    }
   ],
   "source": [
    "#removes the duplicate columns from the data frame\n",
    "income_data = income_data.loc[:,~income_data.columns.duplicated()]\n",
    "income_data.info()"
   ]
  },
  {
   "cell_type": "code",
   "execution_count": 116,
   "metadata": {
    "colab": {},
    "colab_type": "code",
    "id": "McTon9mnptrB"
   },
   "outputs": [],
   "source": [
    "#drop the categorical and unwanted columns \n",
    "income_data=income_data.drop(['fnlwgt','capital-gain','capital-loss','workclass','marital-status','occupation','relationship',\n",
    "                  'race','sex','education','native-country'],axis=1)"
   ]
  },
  {
   "cell_type": "code",
   "execution_count": 117,
   "metadata": {
    "colab": {
     "base_uri": "https://localhost:8080/",
     "height": 765
    },
    "colab_type": "code",
    "id": "Kao_rTVoptrF",
    "outputId": "835bfa34-0760-4654-808d-11c8410262a9"
   },
   "outputs": [
    {
     "data": {
      "text/plain": [
       "age                        7\n",
       "education-num             25\n",
       "hours-per-week            17\n",
       "income                     0\n",
       " Federal-gov               0\n",
       " Local-gov                 0\n",
       " Private                   0\n",
       " Self-emp-inc              0\n",
       " Self-emp-not-inc          0\n",
       " State-gov                 0\n",
       " Divorced                  0\n",
       " Married-AF-spouse         0\n",
       " Married-civ-spouse        0\n",
       " Married-spouse-absent     0\n",
       " Never-married             0\n",
       " Separated                 0\n",
       " Widowed                   0\n",
       " Adm-clerical              0\n",
       " Craft-repair              0\n",
       " Exec-managerial           0\n",
       " Farming-fishing           0\n",
       " Handlers-cleaners         0\n",
       " Machine-op-inspct         0\n",
       " Other-service             0\n",
       " Priv-house-serv           0\n",
       " Prof-specialty            0\n",
       " Protective-serv           0\n",
       " Sales                     0\n",
       " Tech-support              0\n",
       " Transport-moving          0\n",
       " Husband                   0\n",
       " Not-in-family             0\n",
       " Other-relative            0\n",
       " Own-child                 0\n",
       " Unmarried                 0\n",
       " Wife                      0\n",
       " Amer-Indian-Eskimo        0\n",
       " Asian-Pac-Islander        0\n",
       " Black                     0\n",
       " Other                     0\n",
       " White                     0\n",
       " Female                    0\n",
       " Male                      0\n",
       "dtype: int64"
      ]
     },
     "execution_count": 117,
     "metadata": {},
     "output_type": "execute_result"
    }
   ],
   "source": [
    "income_data.isnull().sum()"
   ]
  },
  {
   "cell_type": "code",
   "execution_count": 118,
   "metadata": {
    "colab": {},
    "colab_type": "code",
    "id": "QlCaYSFvptrJ"
   },
   "outputs": [],
   "source": [
    "#data imputation of the missing values by the column median, mean and mode \n",
    "income_data['age'].fillna(income_data['age'].median(),inplace=True)\n",
    "income_data['hours-per-week'].fillna(income_data['hours-per-week'].mean(),inplace=True)\n",
    "income_data['education-num'].fillna(income_data['education-num'].mode()[0],inplace=True,axis = 0)"
   ]
  },
  {
   "cell_type": "code",
   "execution_count": 119,
   "metadata": {
    "colab": {
     "base_uri": "https://localhost:8080/",
     "height": 867
    },
    "colab_type": "code",
    "id": "879XJ9RkptrM",
    "outputId": "3a347a8f-624f-437b-a559-232516638fa4"
   },
   "outputs": [
    {
     "name": "stdout",
     "output_type": "stream",
     "text": [
      "<class 'pandas.core.frame.DataFrame'>\n",
      "RangeIndex: 1508 entries, 0 to 1507\n",
      "Data columns (total 43 columns):\n",
      "age                       1508 non-null float64\n",
      "education-num             1508 non-null float64\n",
      "hours-per-week            1508 non-null float64\n",
      "income                    1508 non-null int64\n",
      " Federal-gov              1508 non-null uint8\n",
      " Local-gov                1508 non-null uint8\n",
      " Private                  1508 non-null uint8\n",
      " Self-emp-inc             1508 non-null uint8\n",
      " Self-emp-not-inc         1508 non-null uint8\n",
      " State-gov                1508 non-null uint8\n",
      " Divorced                 1508 non-null uint8\n",
      " Married-AF-spouse        1508 non-null uint8\n",
      " Married-civ-spouse       1508 non-null uint8\n",
      " Married-spouse-absent    1508 non-null uint8\n",
      " Never-married            1508 non-null uint8\n",
      " Separated                1508 non-null uint8\n",
      " Widowed                  1508 non-null uint8\n",
      " Adm-clerical             1508 non-null uint8\n",
      " Craft-repair             1508 non-null uint8\n",
      " Exec-managerial          1508 non-null uint8\n",
      " Farming-fishing          1508 non-null uint8\n",
      " Handlers-cleaners        1508 non-null uint8\n",
      " Machine-op-inspct        1508 non-null uint8\n",
      " Other-service            1508 non-null uint8\n",
      " Priv-house-serv          1508 non-null uint8\n",
      " Prof-specialty           1508 non-null uint8\n",
      " Protective-serv          1508 non-null uint8\n",
      " Sales                    1508 non-null uint8\n",
      " Tech-support             1508 non-null uint8\n",
      " Transport-moving         1508 non-null uint8\n",
      " Husband                  1508 non-null uint8\n",
      " Not-in-family            1508 non-null uint8\n",
      " Other-relative           1508 non-null uint8\n",
      " Own-child                1508 non-null uint8\n",
      " Unmarried                1508 non-null uint8\n",
      " Wife                     1508 non-null uint8\n",
      " Amer-Indian-Eskimo       1508 non-null uint8\n",
      " Asian-Pac-Islander       1508 non-null uint8\n",
      " Black                    1508 non-null uint8\n",
      " Other                    1508 non-null uint8\n",
      " White                    1508 non-null uint8\n",
      " Female                   1508 non-null uint8\n",
      " Male                     1508 non-null uint8\n",
      "dtypes: float64(3), int64(1), uint8(39)\n",
      "memory usage: 104.7 KB\n"
     ]
    }
   ],
   "source": [
    "#get a concise summary of the dataframe column\n",
    "income_data.info()"
   ]
  },
  {
   "cell_type": "code",
   "execution_count": 120,
   "metadata": {
    "colab": {
     "base_uri": "https://localhost:8080/",
     "height": 419
    },
    "colab_type": "code",
    "id": "5I649edEptrS",
    "outputId": "1b503163-e5e1-478a-a3f8-0114863b6efc"
   },
   "outputs": [
    {
     "data": {
      "text/html": [
       "<div>\n",
       "<style scoped>\n",
       "    .dataframe tbody tr th:only-of-type {\n",
       "        vertical-align: middle;\n",
       "    }\n",
       "\n",
       "    .dataframe tbody tr th {\n",
       "        vertical-align: top;\n",
       "    }\n",
       "\n",
       "    .dataframe thead th {\n",
       "        text-align: right;\n",
       "    }\n",
       "</style>\n",
       "<table border=\"1\" class=\"dataframe\">\n",
       "  <thead>\n",
       "    <tr style=\"text-align: right;\">\n",
       "      <th></th>\n",
       "      <th>income</th>\n",
       "    </tr>\n",
       "  </thead>\n",
       "  <tbody>\n",
       "    <tr>\n",
       "      <td>0</td>\n",
       "      <td>1</td>\n",
       "    </tr>\n",
       "    <tr>\n",
       "      <td>1</td>\n",
       "      <td>0</td>\n",
       "    </tr>\n",
       "    <tr>\n",
       "      <td>2</td>\n",
       "      <td>0</td>\n",
       "    </tr>\n",
       "    <tr>\n",
       "      <td>3</td>\n",
       "      <td>0</td>\n",
       "    </tr>\n",
       "    <tr>\n",
       "      <td>4</td>\n",
       "      <td>0</td>\n",
       "    </tr>\n",
       "    <tr>\n",
       "      <td>...</td>\n",
       "      <td>...</td>\n",
       "    </tr>\n",
       "    <tr>\n",
       "      <td>1503</td>\n",
       "      <td>0</td>\n",
       "    </tr>\n",
       "    <tr>\n",
       "      <td>1504</td>\n",
       "      <td>1</td>\n",
       "    </tr>\n",
       "    <tr>\n",
       "      <td>1505</td>\n",
       "      <td>0</td>\n",
       "    </tr>\n",
       "    <tr>\n",
       "      <td>1506</td>\n",
       "      <td>1</td>\n",
       "    </tr>\n",
       "    <tr>\n",
       "      <td>1507</td>\n",
       "      <td>0</td>\n",
       "    </tr>\n",
       "  </tbody>\n",
       "</table>\n",
       "<p>1508 rows × 1 columns</p>\n",
       "</div>"
      ],
      "text/plain": [
       "      income\n",
       "0          1\n",
       "1          0\n",
       "2          0\n",
       "3          0\n",
       "4          0\n",
       "...      ...\n",
       "1503       0\n",
       "1504       1\n",
       "1505       0\n",
       "1506       1\n",
       "1507       0\n",
       "\n",
       "[1508 rows x 1 columns]"
      ]
     },
     "execution_count": 120,
     "metadata": {},
     "output_type": "execute_result"
    }
   ],
   "source": [
    "#forming income as the target variable\n",
    "target = income_data['income']\n",
    "target_df = pd.DataFrame(target)\n",
    "target_df"
   ]
  },
  {
   "cell_type": "code",
   "execution_count": 121,
   "metadata": {
    "colab": {
     "base_uri": "https://localhost:8080/",
     "height": 490
    },
    "colab_type": "code",
    "id": "1MA0-HM3ptrY",
    "outputId": "5cefa193-8052-4b8d-b887-6bd3d99b532b"
   },
   "outputs": [
    {
     "data": {
      "text/html": [
       "<div>\n",
       "<style scoped>\n",
       "    .dataframe tbody tr th:only-of-type {\n",
       "        vertical-align: middle;\n",
       "    }\n",
       "\n",
       "    .dataframe tbody tr th {\n",
       "        vertical-align: top;\n",
       "    }\n",
       "\n",
       "    .dataframe thead th {\n",
       "        text-align: right;\n",
       "    }\n",
       "</style>\n",
       "<table border=\"1\" class=\"dataframe\">\n",
       "  <thead>\n",
       "    <tr style=\"text-align: right;\">\n",
       "      <th></th>\n",
       "      <th>age</th>\n",
       "      <th>education-num</th>\n",
       "      <th>hours-per-week</th>\n",
       "      <th>Federal-gov</th>\n",
       "      <th>Local-gov</th>\n",
       "      <th>Private</th>\n",
       "      <th>Self-emp-inc</th>\n",
       "      <th>Self-emp-not-inc</th>\n",
       "      <th>State-gov</th>\n",
       "      <th>Divorced</th>\n",
       "      <th>...</th>\n",
       "      <th>Own-child</th>\n",
       "      <th>Unmarried</th>\n",
       "      <th>Wife</th>\n",
       "      <th>Amer-Indian-Eskimo</th>\n",
       "      <th>Asian-Pac-Islander</th>\n",
       "      <th>Black</th>\n",
       "      <th>Other</th>\n",
       "      <th>White</th>\n",
       "      <th>Female</th>\n",
       "      <th>Male</th>\n",
       "    </tr>\n",
       "  </thead>\n",
       "  <tbody>\n",
       "    <tr>\n",
       "      <td>0</td>\n",
       "      <td>39.0</td>\n",
       "      <td>14.0</td>\n",
       "      <td>24.0</td>\n",
       "      <td>0</td>\n",
       "      <td>0</td>\n",
       "      <td>1</td>\n",
       "      <td>0</td>\n",
       "      <td>0</td>\n",
       "      <td>0</td>\n",
       "      <td>0</td>\n",
       "      <td>...</td>\n",
       "      <td>0</td>\n",
       "      <td>0</td>\n",
       "      <td>1</td>\n",
       "      <td>0</td>\n",
       "      <td>0</td>\n",
       "      <td>0</td>\n",
       "      <td>0</td>\n",
       "      <td>1</td>\n",
       "      <td>1</td>\n",
       "      <td>0</td>\n",
       "    </tr>\n",
       "    <tr>\n",
       "      <td>1</td>\n",
       "      <td>43.0</td>\n",
       "      <td>9.0</td>\n",
       "      <td>44.0</td>\n",
       "      <td>0</td>\n",
       "      <td>0</td>\n",
       "      <td>1</td>\n",
       "      <td>0</td>\n",
       "      <td>0</td>\n",
       "      <td>0</td>\n",
       "      <td>0</td>\n",
       "      <td>...</td>\n",
       "      <td>0</td>\n",
       "      <td>0</td>\n",
       "      <td>0</td>\n",
       "      <td>0</td>\n",
       "      <td>0</td>\n",
       "      <td>0</td>\n",
       "      <td>0</td>\n",
       "      <td>1</td>\n",
       "      <td>0</td>\n",
       "      <td>1</td>\n",
       "    </tr>\n",
       "    <tr>\n",
       "      <td>2</td>\n",
       "      <td>32.0</td>\n",
       "      <td>13.0</td>\n",
       "      <td>40.0</td>\n",
       "      <td>0</td>\n",
       "      <td>0</td>\n",
       "      <td>1</td>\n",
       "      <td>0</td>\n",
       "      <td>0</td>\n",
       "      <td>0</td>\n",
       "      <td>0</td>\n",
       "      <td>...</td>\n",
       "      <td>0</td>\n",
       "      <td>0</td>\n",
       "      <td>0</td>\n",
       "      <td>0</td>\n",
       "      <td>1</td>\n",
       "      <td>0</td>\n",
       "      <td>0</td>\n",
       "      <td>0</td>\n",
       "      <td>0</td>\n",
       "      <td>1</td>\n",
       "    </tr>\n",
       "    <tr>\n",
       "      <td>3</td>\n",
       "      <td>28.0</td>\n",
       "      <td>10.0</td>\n",
       "      <td>40.0</td>\n",
       "      <td>0</td>\n",
       "      <td>0</td>\n",
       "      <td>0</td>\n",
       "      <td>0</td>\n",
       "      <td>0</td>\n",
       "      <td>1</td>\n",
       "      <td>0</td>\n",
       "      <td>...</td>\n",
       "      <td>0</td>\n",
       "      <td>0</td>\n",
       "      <td>0</td>\n",
       "      <td>0</td>\n",
       "      <td>0</td>\n",
       "      <td>0</td>\n",
       "      <td>0</td>\n",
       "      <td>1</td>\n",
       "      <td>0</td>\n",
       "      <td>1</td>\n",
       "    </tr>\n",
       "    <tr>\n",
       "      <td>4</td>\n",
       "      <td>39.0</td>\n",
       "      <td>13.0</td>\n",
       "      <td>40.0</td>\n",
       "      <td>0</td>\n",
       "      <td>0</td>\n",
       "      <td>0</td>\n",
       "      <td>1</td>\n",
       "      <td>0</td>\n",
       "      <td>0</td>\n",
       "      <td>0</td>\n",
       "      <td>...</td>\n",
       "      <td>0</td>\n",
       "      <td>0</td>\n",
       "      <td>1</td>\n",
       "      <td>0</td>\n",
       "      <td>0</td>\n",
       "      <td>0</td>\n",
       "      <td>0</td>\n",
       "      <td>1</td>\n",
       "      <td>1</td>\n",
       "      <td>0</td>\n",
       "    </tr>\n",
       "    <tr>\n",
       "      <td>...</td>\n",
       "      <td>...</td>\n",
       "      <td>...</td>\n",
       "      <td>...</td>\n",
       "      <td>...</td>\n",
       "      <td>...</td>\n",
       "      <td>...</td>\n",
       "      <td>...</td>\n",
       "      <td>...</td>\n",
       "      <td>...</td>\n",
       "      <td>...</td>\n",
       "      <td>...</td>\n",
       "      <td>...</td>\n",
       "      <td>...</td>\n",
       "      <td>...</td>\n",
       "      <td>...</td>\n",
       "      <td>...</td>\n",
       "      <td>...</td>\n",
       "      <td>...</td>\n",
       "      <td>...</td>\n",
       "      <td>...</td>\n",
       "      <td>...</td>\n",
       "    </tr>\n",
       "    <tr>\n",
       "      <td>1503</td>\n",
       "      <td>25.0</td>\n",
       "      <td>13.0</td>\n",
       "      <td>15.0</td>\n",
       "      <td>0</td>\n",
       "      <td>0</td>\n",
       "      <td>1</td>\n",
       "      <td>0</td>\n",
       "      <td>0</td>\n",
       "      <td>0</td>\n",
       "      <td>0</td>\n",
       "      <td>...</td>\n",
       "      <td>1</td>\n",
       "      <td>0</td>\n",
       "      <td>0</td>\n",
       "      <td>0</td>\n",
       "      <td>0</td>\n",
       "      <td>0</td>\n",
       "      <td>0</td>\n",
       "      <td>1</td>\n",
       "      <td>1</td>\n",
       "      <td>0</td>\n",
       "    </tr>\n",
       "    <tr>\n",
       "      <td>1504</td>\n",
       "      <td>84.0</td>\n",
       "      <td>9.0</td>\n",
       "      <td>13.0</td>\n",
       "      <td>0</td>\n",
       "      <td>0</td>\n",
       "      <td>1</td>\n",
       "      <td>0</td>\n",
       "      <td>0</td>\n",
       "      <td>0</td>\n",
       "      <td>0</td>\n",
       "      <td>...</td>\n",
       "      <td>0</td>\n",
       "      <td>0</td>\n",
       "      <td>0</td>\n",
       "      <td>0</td>\n",
       "      <td>0</td>\n",
       "      <td>0</td>\n",
       "      <td>0</td>\n",
       "      <td>1</td>\n",
       "      <td>1</td>\n",
       "      <td>0</td>\n",
       "    </tr>\n",
       "    <tr>\n",
       "      <td>1505</td>\n",
       "      <td>37.0</td>\n",
       "      <td>9.0</td>\n",
       "      <td>72.0</td>\n",
       "      <td>0</td>\n",
       "      <td>0</td>\n",
       "      <td>0</td>\n",
       "      <td>0</td>\n",
       "      <td>1</td>\n",
       "      <td>0</td>\n",
       "      <td>0</td>\n",
       "      <td>...</td>\n",
       "      <td>0</td>\n",
       "      <td>0</td>\n",
       "      <td>0</td>\n",
       "      <td>0</td>\n",
       "      <td>0</td>\n",
       "      <td>0</td>\n",
       "      <td>0</td>\n",
       "      <td>1</td>\n",
       "      <td>0</td>\n",
       "      <td>1</td>\n",
       "    </tr>\n",
       "    <tr>\n",
       "      <td>1506</td>\n",
       "      <td>52.0</td>\n",
       "      <td>16.0</td>\n",
       "      <td>40.0</td>\n",
       "      <td>0</td>\n",
       "      <td>0</td>\n",
       "      <td>1</td>\n",
       "      <td>0</td>\n",
       "      <td>0</td>\n",
       "      <td>0</td>\n",
       "      <td>0</td>\n",
       "      <td>...</td>\n",
       "      <td>0</td>\n",
       "      <td>0</td>\n",
       "      <td>0</td>\n",
       "      <td>0</td>\n",
       "      <td>0</td>\n",
       "      <td>0</td>\n",
       "      <td>0</td>\n",
       "      <td>1</td>\n",
       "      <td>0</td>\n",
       "      <td>1</td>\n",
       "    </tr>\n",
       "    <tr>\n",
       "      <td>1507</td>\n",
       "      <td>35.0</td>\n",
       "      <td>14.0</td>\n",
       "      <td>40.0</td>\n",
       "      <td>0</td>\n",
       "      <td>0</td>\n",
       "      <td>1</td>\n",
       "      <td>0</td>\n",
       "      <td>0</td>\n",
       "      <td>0</td>\n",
       "      <td>0</td>\n",
       "      <td>...</td>\n",
       "      <td>0</td>\n",
       "      <td>0</td>\n",
       "      <td>0</td>\n",
       "      <td>0</td>\n",
       "      <td>1</td>\n",
       "      <td>0</td>\n",
       "      <td>0</td>\n",
       "      <td>0</td>\n",
       "      <td>0</td>\n",
       "      <td>1</td>\n",
       "    </tr>\n",
       "  </tbody>\n",
       "</table>\n",
       "<p>1508 rows × 42 columns</p>\n",
       "</div>"
      ],
      "text/plain": [
       "       age  education-num  hours-per-week   Federal-gov   Local-gov   Private  \\\n",
       "0     39.0           14.0            24.0             0           0         1   \n",
       "1     43.0            9.0            44.0             0           0         1   \n",
       "2     32.0           13.0            40.0             0           0         1   \n",
       "3     28.0           10.0            40.0             0           0         0   \n",
       "4     39.0           13.0            40.0             0           0         0   \n",
       "...    ...            ...             ...           ...         ...       ...   \n",
       "1503  25.0           13.0            15.0             0           0         1   \n",
       "1504  84.0            9.0            13.0             0           0         1   \n",
       "1505  37.0            9.0            72.0             0           0         0   \n",
       "1506  52.0           16.0            40.0             0           0         1   \n",
       "1507  35.0           14.0            40.0             0           0         1   \n",
       "\n",
       "       Self-emp-inc   Self-emp-not-inc   State-gov   Divorced  ...  \\\n",
       "0                 0                  0           0          0  ...   \n",
       "1                 0                  0           0          0  ...   \n",
       "2                 0                  0           0          0  ...   \n",
       "3                 0                  0           1          0  ...   \n",
       "4                 1                  0           0          0  ...   \n",
       "...             ...                ...         ...        ...  ...   \n",
       "1503              0                  0           0          0  ...   \n",
       "1504              0                  0           0          0  ...   \n",
       "1505              0                  1           0          0  ...   \n",
       "1506              0                  0           0          0  ...   \n",
       "1507              0                  0           0          0  ...   \n",
       "\n",
       "       Own-child   Unmarried   Wife   Amer-Indian-Eskimo   Asian-Pac-Islander  \\\n",
       "0              0           0      1                    0                    0   \n",
       "1              0           0      0                    0                    0   \n",
       "2              0           0      0                    0                    1   \n",
       "3              0           0      0                    0                    0   \n",
       "4              0           0      1                    0                    0   \n",
       "...          ...         ...    ...                  ...                  ...   \n",
       "1503           1           0      0                    0                    0   \n",
       "1504           0           0      0                    0                    0   \n",
       "1505           0           0      0                    0                    0   \n",
       "1506           0           0      0                    0                    0   \n",
       "1507           0           0      0                    0                    1   \n",
       "\n",
       "       Black   Other   White   Female   Male  \n",
       "0          0       0       1        1      0  \n",
       "1          0       0       1        0      1  \n",
       "2          0       0       0        0      1  \n",
       "3          0       0       1        0      1  \n",
       "4          0       0       1        1      0  \n",
       "...      ...     ...     ...      ...    ...  \n",
       "1503       0       0       1        1      0  \n",
       "1504       0       0       1        1      0  \n",
       "1505       0       0       1        0      1  \n",
       "1506       0       0       1        0      1  \n",
       "1507       0       0       0        0      1  \n",
       "\n",
       "[1508 rows x 42 columns]"
      ]
     },
     "execution_count": 121,
     "metadata": {},
     "output_type": "execute_result"
    }
   ],
   "source": [
    "#variables other than income are \n",
    "features_df=income_data.drop(['income'],axis=1)\n",
    "features_df"
   ]
  },
  {
   "cell_type": "markdown",
   "metadata": {
    "colab_type": "text",
    "id": "LSCa5LXUUefg"
   },
   "source": [
    "### Data Scaling\n"
   ]
  },
  {
   "cell_type": "code",
   "execution_count": 122,
   "metadata": {
    "colab": {
     "base_uri": "https://localhost:8080/",
     "height": 85
    },
    "colab_type": "code",
    "id": "GJXVyXciptrg",
    "outputId": "6203c28b-d4b6-4b2d-fe02-15053b167d6b"
   },
   "outputs": [
    {
     "name": "stdout",
     "output_type": "stream",
     "text": [
      "Train dataset dimensionality: (1131, 42)\n",
      "Train dataset dimensionality: (1131, 1)\n",
      "Test dataset dimensionality: (377, 42)\n",
      "Train dataset dimensionality: (377, 1)\n"
     ]
    }
   ],
   "source": [
    "#preprocessing steps: spliting the dataset\n",
    "#scaling train and test datasets\n",
    "\n",
    "from sklearn.preprocessing import MinMaxScaler\n",
    "from sklearn.model_selection import train_test_split\n",
    "\n",
    "X_train_org, X_test_org, y_train, y_test = train_test_split(features_df,target_df,random_state=0)\n",
    "\n",
    "mn = MinMaxScaler()\n",
    "X_train = mn.fit_transform(X_train_org)\n",
    "X_test = mn.transform(X_test_org)\n",
    "print('Train dataset dimensionality:' , X_train.shape)\n",
    "print('Train dataset dimensionality:' , y_train.shape)\n",
    "print('Test dataset dimensionality:' , X_test.shape)\n",
    "print('Train dataset dimensionality:' , y_test.shape)"
   ]
  },
  {
   "cell_type": "markdown",
   "metadata": {
    "colab_type": "text",
    "id": "D_7CzTN_ptrk"
   },
   "source": [
    "## Classification"
   ]
  },
  {
   "cell_type": "markdown",
   "metadata": {
    "colab_type": "text",
    "id": "j5KJ7qSeptrl"
   },
   "source": [
    "For small datasets, ‘liblinear’ is a good choice"
   ]
  },
  {
   "cell_type": "markdown",
   "metadata": {
    "colab_type": "text",
    "id": "0fFD-yYaptrm"
   },
   "source": [
    "### Voting Classifier\n",
    "We are going to apply voting classifier for two models - \n",
    "1.Logistics Regression\n",
    "2.Decision Tree Classifier\n",
    "We will be applying two voting methods - Hard and Soft."
   ]
  },
  {
   "cell_type": "markdown",
   "metadata": {
    "colab_type": "text",
    "id": "H1IylrCKptrm"
   },
   "source": [
    "### Grid search to find the best parameters for Logistic Regression"
   ]
  },
  {
   "cell_type": "code",
   "execution_count": 123,
   "metadata": {
    "colab": {
     "base_uri": "https://localhost:8080/",
     "height": 51
    },
    "colab_type": "code",
    "id": "_enFAPE1ptrn",
    "outputId": "d03d4096-525c-4a67-fa7f-a8a38417bcf6"
   },
   "outputs": [
    {
     "name": "stdout",
     "output_type": "stream",
     "text": [
      "Best parameters are: {'C': 1, 'penalty': 'l1', 'solver': 'liblinear'}\n",
      "Best cross-validation score is: 0.811671\n"
     ]
    }
   ],
   "source": [
    "from sklearn.linear_model import LogisticRegression\n",
    "from sklearn.model_selection import GridSearchCV\n",
    "\n",
    "param_grid_svm = {'C': [0.001, 0.01, 0.1, 1, 10, 100], 'penalty':['l1','l2'], 'solver':['liblinear']}\n",
    "\n",
    "logisticModel = LogisticRegression()\n",
    "grid_search_logit = GridSearchCV(logisticModel, param_grid_svm, cv=10, return_train_score=True)\n",
    "grid_search_logit.fit(X_train, y_train)\n",
    "\n",
    "print(\"Best parameters are: {}\".format(grid_search_logit.best_params_))\n",
    "print(\"Best cross-validation score is: {:.6f}\".format(grid_search_logit.best_score_))"
   ]
  },
  {
   "cell_type": "markdown",
   "metadata": {
    "colab_type": "text",
    "id": "YgMSrRXiptrq"
   },
   "source": [
    "### Grid search to find the best parameters for Decision Tree Classifier"
   ]
  },
  {
   "cell_type": "code",
   "execution_count": 124,
   "metadata": {
    "colab": {
     "base_uri": "https://localhost:8080/",
     "height": 51
    },
    "colab_type": "code",
    "id": "51IEqIBtptrr",
    "outputId": "9efb55a9-751a-4778-c8ce-d1a9b15fe6ef"
   },
   "outputs": [
    {
     "name": "stdout",
     "output_type": "stream",
     "text": [
      "Best parameter is: {'max_depth': 5}\n",
      "Best cross-validation score is: 0.810787\n"
     ]
    }
   ],
   "source": [
    "# Grid search to find the best parameter for the model\n",
    "from sklearn.tree import DecisionTreeClassifier\n",
    "from sklearn.model_selection import GridSearchCV\n",
    "\n",
    "param_grid = {'max_depth': np.arange(1, 10)}\n",
    "decisiontreeModel=DecisionTreeClassifier(random_state=0)\n",
    "grid_search_dtc = GridSearchCV(decisiontreeModel, param_grid, cv=10, return_train_score=True)\n",
    "grid_search_dtc.fit(X_train, y_train)\n",
    "print(\"Best parameter is: {}\".format(grid_search_dtc.best_params_))\n",
    "print(\"Best cross-validation score is: {:.6f}\".format(grid_search_dtc.best_score_))"
   ]
  },
  {
   "cell_type": "markdown",
   "metadata": {
    "colab_type": "text",
    "id": "hex-CFBpptru"
   },
   "source": [
    "## Voting Classifier - Hard\n",
    "#### Applying voting classifier :\"voting=hard\""
   ]
  },
  {
   "cell_type": "code",
   "execution_count": 125,
   "metadata": {
    "colab": {
     "base_uri": "https://localhost:8080/",
     "height": 68
    },
    "colab_type": "code",
    "id": "t1i29J9Aptrv",
    "outputId": "b10e203e-91eb-4852-c9c5-d1a5c5a429a8"
   },
   "outputs": [
    {
     "name": "stdout",
     "output_type": "stream",
     "text": [
      "LogisticRegression 0.836\n",
      "DecisionTreeClassifier 0.751\n",
      "VotingClassifier 0.828\n"
     ]
    }
   ],
   "source": [
    "from sklearn.linear_model import LogisticRegression\n",
    "from sklearn.ensemble import VotingClassifier\n",
    "\n",
    "logistic_clf = LogisticRegression()\n",
    "logistic_clf.fit(X_train, y_train)\n",
    "decisiontree_clf = DecisionTreeClassifier()\n",
    "decisiontree_clf.fit(X_train, y_train)\n",
    "\n",
    "voting_clf = VotingClassifier(estimators=[('lr', logistic_clf), ('dt_clf', decisiontree_clf)], voting='hard')\n",
    "voting_clf.fit(X_train, y_train)\n",
    "\n",
    "from sklearn.metrics import accuracy_score\n",
    "for classifier in (logistic_clf, decisiontree_clf, voting_clf):\n",
    "    classifier.fit(X_train, y_train)\n",
    "    y_pred = classifier.predict(X_test)\n",
    "    print(classifier.__class__.__name__, accuracy_score(y_test, y_pred).round(3))"
   ]
  },
  {
   "cell_type": "markdown",
   "metadata": {
    "colab_type": "text",
    "id": "L1ZGa85bptr0"
   },
   "source": [
    "### Voting Classifier - Soft\n",
    "#### Applying voting classifier: \"voting=soft\""
   ]
  },
  {
   "cell_type": "code",
   "execution_count": 126,
   "metadata": {
    "colab": {
     "base_uri": "https://localhost:8080/",
     "height": 68
    },
    "colab_type": "code",
    "id": "Y0FoFhqOptr1",
    "outputId": "9d31d955-3db8-4c02-b65b-2949ff4ed68c"
   },
   "outputs": [
    {
     "name": "stdout",
     "output_type": "stream",
     "text": [
      "LogisticRegression 0.836\n",
      "DecisionTreeClassifier 0.737\n",
      "VotingClassifier 0.745\n"
     ]
    }
   ],
   "source": [
    "logistic_clf = LogisticRegression()\n",
    "logistic_clf.fit(X_train, y_train)\n",
    "decisiontree_clf = DecisionTreeClassifier()\n",
    "decisiontree_clf.fit(X_train, y_train)\n",
    "\n",
    "voting_clf = VotingClassifier(estimators=[('lr', logistic_clf), ('dt_clf', decisiontree_clf)], voting='soft')\n",
    "voting_clf.fit(X_train, y_train)\n",
    "\n",
    "from sklearn.metrics import accuracy_score\n",
    "for classifier in (logistic_clf, decisiontree_clf, voting_clf):\n",
    "    classifier.fit(X_train, y_train)\n",
    "    y_pred = classifier.predict(X_test)\n",
    "    print(classifier.__class__.__name__, accuracy_score(y_test, y_pred).round(3))"
   ]
  },
  {
   "cell_type": "markdown",
   "metadata": {
    "colab_type": "text",
    "id": "rZBHL0VXptsA"
   },
   "source": [
    "### Bagging\n",
    "Bagging allows training instances to be sampled several times for the same predictor. To perform bagging, we have the hyper parameter 'bootstrap' which is responsible for aggregation and is set to True while building the model.\n",
    "\n",
    "### Model 1 - Decision Tree Classifier\n",
    "#### Grid Search to find best parameter for Bagging Classifier"
   ]
  },
  {
   "cell_type": "code",
   "execution_count": 127,
   "metadata": {
    "colab": {
     "base_uri": "https://localhost:8080/",
     "height": 51
    },
    "colab_type": "code",
    "id": "WMRw1xkoptsB",
    "outputId": "266ce6e6-e126-4064-eeb0-cdf40929e25b"
   },
   "outputs": [
    {
     "name": "stdout",
     "output_type": "stream",
     "text": [
      "Best parameters: {'max_samples': 100, 'n_estimators': 100}\n",
      "Best cross-validation score: 0.81\n"
     ]
    }
   ],
   "source": [
    "# Grid search to find the best parameter for bagging\n",
    "from sklearn.model_selection import GridSearchCV\n",
    "from sklearn.ensemble import BaggingClassifier\n",
    "\n",
    "param_grid = {'n_estimators': [100,150,200],\n",
    "              'max_samples': [50,100,150]}\n",
    "\n",
    "grid_search_bagging = GridSearchCV(BaggingClassifier(random_state = 0), param_grid, cv=10, return_train_score=True)\n",
    "grid_search_bagging.fit(X_train, y_train)\n",
    "print(\"Best parameters: {}\".format(grid_search_bagging.best_params_))\n",
    "print(\"Best cross-validation score: {:.2f}\".format(grid_search_bagging.best_score_))"
   ]
  },
  {
   "cell_type": "markdown",
   "metadata": {
    "colab_type": "text",
    "id": "l_egEUr9ptsH"
   },
   "source": [
    "#### Grid Search to find best parameter for Decision Tree Classifier"
   ]
  },
  {
   "cell_type": "code",
   "execution_count": 128,
   "metadata": {
    "colab": {
     "base_uri": "https://localhost:8080/",
     "height": 51
    },
    "colab_type": "code",
    "id": "CX6OTadZptsI",
    "outputId": "2eccad54-2472-43c1-eae4-43d1b508c7da"
   },
   "outputs": [
    {
     "name": "stdout",
     "output_type": "stream",
     "text": [
      "Best parameters: {'max_depth': 5}\n",
      "Best cross-validation score: 0.81\n"
     ]
    }
   ],
   "source": [
    "# Grid search to find the best parameter for the model\n",
    "from sklearn.tree import DecisionTreeClassifier\n",
    "from sklearn.model_selection import GridSearchCV\n",
    "\n",
    "param_grid = {'max_depth': np.arange(1, 10)}\n",
    "decisiontree_clf=DecisionTreeClassifier(random_state=0)\n",
    "grid_search_dtc = GridSearchCV(decisiontree_clf, param_grid, cv=10, return_train_score=True)\n",
    "grid_search_dtc.fit(X_train, y_train)\n",
    "print(\"Best parameters: {}\".format(grid_search_dtc.best_params_))\n",
    "print(\"Best cross-validation score: {:.2f}\".format(grid_search_dtc.best_score_))"
   ]
  },
  {
   "cell_type": "markdown",
   "metadata": {
    "colab_type": "text",
    "id": "Str8nEo0ptsN"
   },
   "source": [
    "### Rebuilding the model with best parameters"
   ]
  },
  {
   "cell_type": "code",
   "execution_count": 129,
   "metadata": {
    "colab": {
     "base_uri": "https://localhost:8080/",
     "height": 68
    },
    "colab_type": "code",
    "id": "c17a5Qm-ptsO",
    "outputId": "7181eb97-0144-47ee-c6c9-3c071f7ddd59"
   },
   "outputs": [
    {
     "name": "stdout",
     "output_type": "stream",
     "text": [
      "Score after Bagging on Decision Tree Classifier on Train Set: 0.83\n",
      "Score after Bagging on Decision Tree Classifier on Test Set: 0.84\n",
      "Accuracy of the Classifier :  0.8355\n"
     ]
    }
   ],
   "source": [
    "from sklearn.ensemble import BaggingClassifier\n",
    "from sklearn.tree import DecisionTreeClassifier\n",
    "from  sklearn.metrics import accuracy_score\n",
    "\n",
    "decisiontree_clf = DecisionTreeClassifier(max_depth = 5, random_state=0)\n",
    "bagging_clf = BaggingClassifier(decisiontree_clf, n_estimators=150, max_samples=100, bootstrap=True, n_jobs=-1, random_state=0)\n",
    "\n",
    "bagging_clf.fit(X_train, y_train)\n",
    "y_pred = bagging_clf.predict(X_test)\n",
    "\n",
    "print('Score after Bagging on Decision Tree Classifier on Train Set: {:.2f}'.format(bagging_clf.score(X_train, y_train)))\n",
    "print('Score after Bagging on Decision Tree Classifier on Test Set: {:.2f}'.format(bagging_clf.score(X_test, y_test)))\n",
    "print(\"Accuracy of the Classifier : \", accuracy_score(y_test, y_pred).round(4))"
   ]
  },
  {
   "cell_type": "markdown",
   "metadata": {
    "colab_type": "text",
    "id": "ZbJqncAnptsU"
   },
   "source": [
    "#### Confusion matrix for the model"
   ]
  },
  {
   "cell_type": "code",
   "execution_count": 130,
   "metadata": {
    "colab": {
     "base_uri": "https://localhost:8080/",
     "height": 119
    },
    "colab_type": "code",
    "id": "QhsRN9eAptsW",
    "outputId": "56ae3ad1-4a26-47a9-cf5d-2c7f137fc808"
   },
   "outputs": [
    {
     "name": "stdout",
     "output_type": "stream",
     "text": [
      "Confusion matrix for test:\n",
      "[[259  24]\n",
      " [ 38  56]]\n",
      "Confusion matrix for train:\n",
      "[[794  49]\n",
      " [139 149]]\n"
     ]
    }
   ],
   "source": [
    "from sklearn.metrics import confusion_matrix\n",
    "\n",
    "pred_test = bagging_clf.predict(X_test)\n",
    "pred_train = bagging_clf.predict(X_train)\n",
    "confusion_test = confusion_matrix(y_test, pred_test)\n",
    "confusion_train = confusion_matrix(y_train, pred_train)\n",
    "print(\"Confusion matrix for test:\\n{}\".format(confusion_test))\n",
    "print(\"Confusion matrix for train:\\n{}\".format(confusion_train))"
   ]
  },
  {
   "cell_type": "markdown",
   "metadata": {
    "colab_type": "text",
    "id": "8R4ImyGEptsc"
   },
   "source": [
    "### Model 2 - RandomForest\n",
    "#### Grid Search to find best parameter for RandomForest Classifier"
   ]
  },
  {
   "cell_type": "code",
   "execution_count": 131,
   "metadata": {
    "colab": {
     "base_uri": "https://localhost:8080/",
     "height": 51
    },
    "colab_type": "code",
    "id": "5q6eyA88ptsd",
    "outputId": "e773e213-b2ea-484d-9d8d-f07c3fdae347"
   },
   "outputs": [
    {
     "name": "stdout",
     "output_type": "stream",
     "text": [
      "Best parameters: {'max_depth': 8, 'n_estimators': 50}\n",
      "Best cross-validation score: 0.82\n"
     ]
    }
   ],
   "source": [
    "# Grid search to find the best parameter for bagging\n",
    "from sklearn.model_selection import GridSearchCV\n",
    "from sklearn.ensemble import RandomForestClassifier\n",
    "\n",
    "param_grid = {'n_estimators': [50,100,150,200],\n",
    "              'max_depth': np.arange(1, 10)}\n",
    "\n",
    "grid_search = GridSearchCV(RandomForestClassifier(random_state=0), param_grid, cv=10, return_train_score=True)\n",
    "grid_search.fit(X_train, y_train)\n",
    "print(\"Best parameters: {}\".format(grid_search.best_params_))\n",
    "print(\"Best cross-validation score: {:.2f}\".format(grid_search.best_score_))"
   ]
  },
  {
   "cell_type": "markdown",
   "metadata": {
    "colab_type": "text",
    "id": "oSNOBtcuptsh"
   },
   "source": [
    "#### Building the RandomForest Classifier model with the best parameters"
   ]
  },
  {
   "cell_type": "code",
   "execution_count": 132,
   "metadata": {
    "colab": {
     "base_uri": "https://localhost:8080/",
     "height": 51
    },
    "colab_type": "code",
    "id": "UYyIECHpptsh",
    "outputId": "5ee12bef-a28a-43a2-d624-e287d46061aa"
   },
   "outputs": [
    {
     "name": "stdout",
     "output_type": "stream",
     "text": [
      "Bagging on Decision tree classifier on train set: 0.90\n",
      "Bagging on Decision tree classifier on test set: 0.83\n"
     ]
    }
   ],
   "source": [
    "random_clf = RandomForestClassifier(n_estimators=100, max_depth = 9, bootstrap=True, n_jobs=-1, random_state=0)\n",
    "random_clf.fit(X_train, y_train)\n",
    "\n",
    "y_pred_rf = random_clf.predict(X_test)\n",
    "\n",
    "print('Bagging on Decision tree classifier on train set: {:.2f}'.format(random_clf.score(X_train, y_train)))\n",
    "print('Bagging on Decision tree classifier on test set: {:.2f}'.format(random_clf.score(X_test, y_test)))"
   ]
  },
  {
   "cell_type": "markdown",
   "metadata": {
    "colab_type": "text",
    "id": "rgqcQo8kptsn"
   },
   "source": [
    "#### Accuracy of the model"
   ]
  },
  {
   "cell_type": "code",
   "execution_count": 133,
   "metadata": {
    "colab": {
     "base_uri": "https://localhost:8080/",
     "height": 34
    },
    "colab_type": "code",
    "id": "lGj5dPK9ptso",
    "outputId": "c5862e89-86d2-4d95-d872-8a42e99a4204"
   },
   "outputs": [
    {
     "name": "stdout",
     "output_type": "stream",
     "text": [
      "Accuracy of the Classifier :  0.8355\n"
     ]
    }
   ],
   "source": [
    "from  sklearn.metrics import accuracy_score\n",
    "print(\"Accuracy of the Classifier : \", accuracy_score(y_test, y_pred).round(4))"
   ]
  },
  {
   "cell_type": "markdown",
   "metadata": {
    "colab_type": "text",
    "id": "yhW_yMm4ptss"
   },
   "source": [
    "#### Confusion matrix for the model"
   ]
  },
  {
   "cell_type": "code",
   "execution_count": 134,
   "metadata": {
    "colab": {
     "base_uri": "https://localhost:8080/",
     "height": 119
    },
    "colab_type": "code",
    "id": "XVUi1WVbptst",
    "outputId": "f26b9f99-4448-4d48-8541-f84b5e9e9996"
   },
   "outputs": [
    {
     "name": "stdout",
     "output_type": "stream",
     "text": [
      "Confusion matrix for test:\n",
      "[[260  23]\n",
      " [ 42  52]]\n",
      "Confusion matrix for train:\n",
      "[[825  18]\n",
      " [100 188]]\n"
     ]
    }
   ],
   "source": [
    "from sklearn.metrics import confusion_matrix\n",
    "\n",
    "pred_test = random_clf.predict(X_test)\n",
    "pred_train = random_clf.predict(X_train)\n",
    "confusion_test = confusion_matrix(y_test, pred_test)\n",
    "confusion_train = confusion_matrix(y_train, pred_train)\n",
    "print(\"Confusion matrix for test:\\n{}\".format(confusion_test))\n",
    "print(\"Confusion matrix for train:\\n{}\".format(confusion_train))"
   ]
  },
  {
   "cell_type": "markdown",
   "metadata": {
    "colab_type": "text",
    "id": "caLVSXurptsy"
   },
   "source": [
    "## Pasting\n",
    "When sampling is performed without replacement, it is called pasting. To perform pasting, we have the hyper parameter 'bootstrap' which is responsible for aggregation set to False while building the model.\n",
    "\n",
    "### Model 1 - Decision Tree\n",
    "#### Grid Search to find best parameter for Bagging Classifier"
   ]
  },
  {
   "cell_type": "code",
   "execution_count": 135,
   "metadata": {
    "colab": {
     "base_uri": "https://localhost:8080/",
     "height": 51
    },
    "colab_type": "code",
    "id": "34i5yjfrptsz",
    "outputId": "6bcaad60-24a6-4cb1-cc26-bdfb163911df"
   },
   "outputs": [
    {
     "name": "stdout",
     "output_type": "stream",
     "text": [
      "Best parameters: {'max_samples': 100, 'n_estimators': 100}\n",
      "Best cross-validation score: 0.81\n"
     ]
    }
   ],
   "source": [
    "# Grid search to find the best parameter for bagging\n",
    "from sklearn.model_selection import GridSearchCV\n",
    "from sklearn.ensemble import BaggingClassifier\n",
    "\n",
    "param_grid = {'n_estimators': [50,100,150,200],\n",
    "              'max_samples': [50,100,150]}\n",
    "\n",
    "grid_search_bag = GridSearchCV(BaggingClassifier(random_state = 0), param_grid, cv=10, return_train_score=True)\n",
    "grid_search_bag.fit(X_train, y_train)\n",
    "print(\"Best parameters: {}\".format(grid_search_bag.best_params_))\n",
    "print(\"Best cross-validation score: {:.2f}\".format(grid_search_bag.best_score_))"
   ]
  },
  {
   "cell_type": "markdown",
   "metadata": {
    "colab_type": "text",
    "id": "CbETcK8Npts4"
   },
   "source": [
    "#### Grid Search to find best parameter for Decision Tree Classifier"
   ]
  },
  {
   "cell_type": "code",
   "execution_count": 136,
   "metadata": {
    "colab": {
     "base_uri": "https://localhost:8080/",
     "height": 51
    },
    "colab_type": "code",
    "id": "24ig-wPQpts5",
    "outputId": "3e4db82a-2ae1-4906-9bdc-3505540205b7"
   },
   "outputs": [
    {
     "name": "stdout",
     "output_type": "stream",
     "text": [
      "Best parameters: {'max_depth': 5}\n",
      "Best cross-validation score: 0.81\n"
     ]
    }
   ],
   "source": [
    "# Grid search to find the best parameter for the model\n",
    "from sklearn.tree import DecisionTreeClassifier\n",
    "from sklearn.model_selection import GridSearchCV\n",
    "\n",
    "param_grid = {'max_depth': np.arange(1, 10)}\n",
    "grid_search_dt = GridSearchCV(DecisionTreeClassifier(random_state=0), param_grid, cv=10, return_train_score=True)\n",
    "grid_search_dt.fit(X_train, y_train)\n",
    "print(\"Best parameters: {}\".format(grid_search_dt.best_params_))\n",
    "print(\"Best cross-validation score: {:.2f}\".format(grid_search_dt.best_score_))"
   ]
  },
  {
   "cell_type": "markdown",
   "metadata": {
    "colab_type": "text",
    "id": "E5SI2qvApts-"
   },
   "source": [
    "#### Rebuilding the model with best parameters"
   ]
  },
  {
   "cell_type": "code",
   "execution_count": 137,
   "metadata": {
    "colab": {
     "base_uri": "https://localhost:8080/",
     "height": 51
    },
    "colab_type": "code",
    "id": "33w7ha99pts_",
    "outputId": "3d024a6c-ae3e-470a-d3a9-c419bb7e9f9b"
   },
   "outputs": [
    {
     "name": "stdout",
     "output_type": "stream",
     "text": [
      "Score after Bagging on Decision Tree Classifier on Train Set: 0.83\n",
      "Score after Bagging on Decision Tree Classifier on Test Set: 0.84\n"
     ]
    }
   ],
   "source": [
    "from sklearn.ensemble import BaggingClassifier\n",
    "from sklearn.tree import DecisionTreeClassifier\n",
    "\n",
    "decisiontree_clf = DecisionTreeClassifier(max_depth = 5, random_state=0)\n",
    "bagging_clf = BaggingClassifier(decisiontree_clf, n_estimators=150, max_samples=100, bootstrap=False, n_jobs=-1, random_state=0)\n",
    "\n",
    "bagging_clf.fit(X_train, y_train)\n",
    "y_pred = bagging_clf.predict(X_test)\n",
    "\n",
    "print('Score after Bagging on Decision Tree Classifier on Train Set: {:.2f}'.format(bagging_clf.score(X_train, y_train)))\n",
    "print('Score after Bagging on Decision Tree Classifier on Test Set: {:.2f}'.format(bagging_clf.score(X_test, y_test)))"
   ]
  },
  {
   "cell_type": "markdown",
   "metadata": {
    "colab_type": "text",
    "id": "HWQdeEnepttB"
   },
   "source": [
    "#### Accuracy of the model"
   ]
  },
  {
   "cell_type": "code",
   "execution_count": 138,
   "metadata": {
    "colab": {
     "base_uri": "https://localhost:8080/",
     "height": 34
    },
    "colab_type": "code",
    "id": "XGuF3htCpttC",
    "outputId": "2920f4f7-6cbb-4275-c98a-848a4e6688e0"
   },
   "outputs": [
    {
     "name": "stdout",
     "output_type": "stream",
     "text": [
      "Accuracy  of the model :  0.8382\n"
     ]
    }
   ],
   "source": [
    "from  sklearn.metrics import accuracy_score\n",
    "print(\"Accuracy  of the model : \", accuracy_score(y_test, y_pred).round(4))"
   ]
  },
  {
   "cell_type": "markdown",
   "metadata": {
    "colab_type": "text",
    "id": "PwE1-ErepttG"
   },
   "source": [
    "#### Confusion matrix for the model"
   ]
  },
  {
   "cell_type": "code",
   "execution_count": 139,
   "metadata": {
    "colab": {
     "base_uri": "https://localhost:8080/",
     "height": 119
    },
    "colab_type": "code",
    "id": "B_BVFdoTpttH",
    "outputId": "61436ab0-0661-47be-a692-c2f7cd99e5cb"
   },
   "outputs": [
    {
     "name": "stdout",
     "output_type": "stream",
     "text": [
      "Confusion matrix for test:\n",
      "[[259  24]\n",
      " [ 37  57]]\n",
      "Confusion matrix for train:\n",
      "[[796  47]\n",
      " [150 138]]\n"
     ]
    }
   ],
   "source": [
    "from sklearn.metrics import confusion_matrix\n",
    "\n",
    "pred_test = bagging_clf.predict(X_test)\n",
    "pred_train = bagging_clf.predict(X_train)\n",
    "confusion_test = confusion_matrix(y_test, pred_test)\n",
    "confusion_train = confusion_matrix(y_train, pred_train)\n",
    "print(\"Confusion matrix for test:\\n{}\".format(confusion_test))\n",
    "print(\"Confusion matrix for train:\\n{}\".format(confusion_train))"
   ]
  },
  {
   "cell_type": "markdown",
   "metadata": {
    "colab_type": "text",
    "id": "3rZKw3AupttL"
   },
   "source": [
    "### Model 2 - Random Forest\n",
    "#### Grid Search to find best parameter for RandomForest Classifier"
   ]
  },
  {
   "cell_type": "code",
   "execution_count": 140,
   "metadata": {
    "colab": {
     "base_uri": "https://localhost:8080/",
     "height": 51
    },
    "colab_type": "code",
    "id": "plo6RxrOpttO",
    "outputId": "aa2aa93f-3628-4056-b9cd-bc9e8420743a"
   },
   "outputs": [
    {
     "name": "stdout",
     "output_type": "stream",
     "text": [
      "Best parameters: {'max_depth': 8, 'n_estimators': 50}\n",
      "Best cross-validation score: 0.82\n"
     ]
    }
   ],
   "source": [
    "# Grid search to find the best parameter\n",
    "from sklearn.model_selection import GridSearchCV\n",
    "from sklearn.ensemble import RandomForestClassifier\n",
    "\n",
    "param_grid = {'n_estimators': [50,100,150],\n",
    "              'max_depth': np.arange(1, 10)}\n",
    "\n",
    "grid_search_random = GridSearchCV(RandomForestClassifier(random_state=0), param_grid, cv=10, return_train_score=True)\n",
    "grid_search_random.fit(X_train, y_train)\n",
    "print(\"Best parameters: {}\".format(grid_search_random.best_params_))\n",
    "print(\"Best cross-validation score: {:.2f}\".format(grid_search_random.best_score_))"
   ]
  },
  {
   "cell_type": "markdown",
   "metadata": {
    "colab_type": "text",
    "id": "7whuS40YpttS"
   },
   "source": [
    "#### Building the RandomForest Classifier model with the best parameters"
   ]
  },
  {
   "cell_type": "code",
   "execution_count": 141,
   "metadata": {
    "colab": {
     "base_uri": "https://localhost:8080/",
     "height": 51
    },
    "colab_type": "code",
    "id": "Mm4P8Xn0pttT",
    "outputId": "f513e7c4-5954-4326-a536-c41b071ce8a4"
   },
   "outputs": [
    {
     "name": "stdout",
     "output_type": "stream",
     "text": [
      "Score after Bagging on Decision Tree Classifier on Train Set: 0.90\n",
      "Score after Bagging on Decision Tree Classifier on Test Set: 0.83\n"
     ]
    }
   ],
   "source": [
    "random_classifier = RandomForestClassifier(n_estimators=100, max_depth = 9, bootstrap=False, n_jobs=-1, random_state=0)\n",
    "random_classifier.fit(X_train, y_train)\n",
    "\n",
    "y_pred_rf = random_classifier.predict(X_test)\n",
    "\n",
    "print('Score after Bagging on Decision Tree Classifier on Train Set: {:.2f}'.format(random_classifier.score(X_train, y_train)))\n",
    "print('Score after Bagging on Decision Tree Classifier on Test Set: {:.2f}'.format(random_classifier.score(X_test, y_test)))"
   ]
  },
  {
   "cell_type": "markdown",
   "metadata": {
    "colab_type": "text",
    "id": "C1e79D9Nptta"
   },
   "source": [
    "#### Accuracy of the model"
   ]
  },
  {
   "cell_type": "code",
   "execution_count": 142,
   "metadata": {
    "colab": {
     "base_uri": "https://localhost:8080/",
     "height": 34
    },
    "colab_type": "code",
    "id": "hov5tqc9pttc",
    "outputId": "9b332281-217e-411b-adb5-f42eee6b61ac"
   },
   "outputs": [
    {
     "name": "stdout",
     "output_type": "stream",
     "text": [
      "Accuracy of the model :  0.8382\n"
     ]
    }
   ],
   "source": [
    "from  sklearn.metrics import accuracy_score\n",
    "print(\"Accuracy of the model : \", accuracy_score(y_test, y_pred).round(4))"
   ]
  },
  {
   "cell_type": "markdown",
   "metadata": {
    "colab_type": "text",
    "id": "P5VT12D8ptth"
   },
   "source": [
    "#### Confusion matrix created by the model"
   ]
  },
  {
   "cell_type": "code",
   "execution_count": 143,
   "metadata": {
    "colab": {
     "base_uri": "https://localhost:8080/",
     "height": 119
    },
    "colab_type": "code",
    "id": "jITt8S9yptti",
    "outputId": "876a21cf-6bb8-43e6-8b3a-69b60cc57170"
   },
   "outputs": [
    {
     "name": "stdout",
     "output_type": "stream",
     "text": [
      "Confusion matrix for test:\n",
      "[[259  24]\n",
      " [ 39  55]]\n",
      "Confusion matrix for train:\n",
      "[[827  16]\n",
      " [ 92 196]]\n"
     ]
    }
   ],
   "source": [
    "from sklearn.metrics import confusion_matrix\n",
    "\n",
    "pred_test = random_classifier.predict(X_test)\n",
    "pred_train = random_classifier.predict(X_train)\n",
    "confusion_test = confusion_matrix(y_test, pred_test)\n",
    "confusion_train = confusion_matrix(y_train, pred_train)\n",
    "print(\"Confusion matrix for test:\\n{}\".format(confusion_test))\n",
    "print(\"Confusion matrix for train:\\n{}\".format(confusion_train))"
   ]
  },
  {
   "cell_type": "markdown",
   "metadata": {
    "colab_type": "text",
    "id": "uAuoazYXpttk"
   },
   "source": [
    "## AdaBoost Boosting\n",
    "Adaboost helps you combine multiple “weak classifiers” into a single “strong classifier”.\n",
    "### Model 1 - Decision Tree Classifier (max_depth = 1) with AdaBoosting\n",
    "#### Grid search to find best parameters for adaboost boosting for Decision Tree Classifier"
   ]
  },
  {
   "cell_type": "code",
   "execution_count": 144,
   "metadata": {
    "colab": {
     "base_uri": "https://localhost:8080/",
     "height": 51
    },
    "colab_type": "code",
    "id": "O37o5YF1pttl",
    "outputId": "6c68bc28-b001-4d3b-d5e4-1abbbb960b88"
   },
   "outputs": [
    {
     "name": "stdout",
     "output_type": "stream",
     "text": [
      "Best parameters: {'learning_rate': 0.1, 'n_estimators': 500}\n",
      "Best cross-validation score: 0.81\n"
     ]
    }
   ],
   "source": [
    "# Grid search to find the best parameters for adaboost\n",
    "from sklearn.model_selection import GridSearchCV\n",
    "from sklearn.ensemble import AdaBoostClassifier\n",
    "\n",
    "param_grid = {'n_estimators': [400,500,600],\n",
    "              'learning_rate': [.01, .05, .1]}\n",
    "DecisionTree=DecisionTreeClassifier(max_depth=1)\n",
    "grid_search_adab = GridSearchCV(AdaBoostClassifier(DecisionTree,random_state = 0),param_grid, cv=10, return_train_score=True)\n",
    "grid_search_adab.fit(X_train, y_train)\n",
    "print(\"Best parameters: {}\".format(grid_search_adab.best_params_))\n",
    "print(\"Best cross-validation score: {:.2f}\".format(grid_search_adab.best_score_))"
   ]
  },
  {
   "cell_type": "markdown",
   "metadata": {
    "colab_type": "text",
    "id": "D0jb6Ql7pttr"
   },
   "source": [
    "#### Decision Tree with maxdepth 1 on the dataset before adaboost boosting"
   ]
  },
  {
   "cell_type": "code",
   "execution_count": 145,
   "metadata": {
    "colab": {
     "base_uri": "https://localhost:8080/",
     "height": 34
    },
    "colab_type": "code",
    "id": "JlVUcWeyptts",
    "outputId": "374c0267-655d-4af2-ac91-d035bc57dab7"
   },
   "outputs": [
    {
     "name": "stdout",
     "output_type": "stream",
     "text": [
      "Accuracy of the decision tree classifier  0.7507\n"
     ]
    }
   ],
   "source": [
    "decisiontree_clf = DecisionTreeClassifier(max_depth = 1, random_state=0)\n",
    "decisiontree_clf.fit(X_train, y_train)\n",
    "y_pred = decisiontree_clf.predict(X_test)\n",
    "\n",
    "print(\"Accuracy of the decision tree classifier \", accuracy_score(y_test, y_pred).round(4))"
   ]
  },
  {
   "cell_type": "markdown",
   "metadata": {
    "colab_type": "text",
    "id": "OI3zGTvqpttw"
   },
   "source": [
    "### Applying AdaBoost Boosting on the decision tree classifier with max_depth 1\n",
    "##### AdaBoost SAMME.R is a variant that works with classifiers that can output prediction probabilities."
   ]
  },
  {
   "cell_type": "code",
   "execution_count": 146,
   "metadata": {
    "colab": {
     "base_uri": "https://localhost:8080/",
     "height": 34
    },
    "colab_type": "code",
    "id": "JDBV_CQIpttx",
    "outputId": "02ba0e97-ad47-4823-c0cd-ab0476cc6524"
   },
   "outputs": [
    {
     "name": "stdout",
     "output_type": "stream",
     "text": [
      "Accuracy of the decision tree classifier after adaboost boosting 0.8408\n"
     ]
    }
   ],
   "source": [
    "from sklearn.ensemble import AdaBoostClassifier\n",
    "\n",
    "adaboost_clf = AdaBoostClassifier(DecisionTreeClassifier(max_depth=1), n_estimators=500, algorithm=\"SAMME.R\", learning_rate=0.1, random_state=0)\n",
    "adaboost_clf.fit(X_train, y_train)\n",
    "y_pred = adaboost_clf.predict(X_test)\n",
    "from  sklearn.metrics import accuracy_score\n",
    "print(\"Accuracy of the decision tree classifier after adaboost boosting\",accuracy_score(y_test, y_pred).round(4))"
   ]
  },
  {
   "cell_type": "markdown",
   "metadata": {
    "colab_type": "text",
    "id": "M9N9HyOwW1WU"
   },
   "source": [
    "#### Observation : We can see that adaboost boosting has significantly improving the result of Decision Tree, by almost 10% on the dataset.\n",
    "\n"
   ]
  },
  {
   "cell_type": "markdown",
   "metadata": {
    "colab_type": "text",
    "id": "xydkZaI8pttz"
   },
   "source": [
    "### Model 2 - Logistic Regression with AdaBoost\n",
    "#### Grid search to find best parameters for Adaboost boosting for logistic regression"
   ]
  },
  {
   "cell_type": "code",
   "execution_count": 147,
   "metadata": {
    "colab": {
     "base_uri": "https://localhost:8080/",
     "height": 51
    },
    "colab_type": "code",
    "id": "ZGe71Fv3pttz",
    "outputId": "7dd498a7-0bd6-444c-81c4-bc9fa463e294"
   },
   "outputs": [
    {
     "name": "stdout",
     "output_type": "stream",
     "text": [
      "Best parameters: {'learning_rate': 0.1, 'n_estimators': 300}\n",
      "Best cross-validation score: 0.81\n"
     ]
    }
   ],
   "source": [
    "\n",
    "# Grid search to find the best parameters for adaboost\n",
    "from sklearn.model_selection import GridSearchCV\n",
    "from sklearn.ensemble import AdaBoostClassifier\n",
    "param_grid = {'n_estimators': [200,300,500],\n",
    "              'learning_rate': [.01, .05, .1, 1]}\n",
    "\n",
    "grid_search = GridSearchCV(AdaBoostClassifier(LogisticRegression(solver = 'liblinear'),random_state = 0), param_grid, cv=10, return_train_score=True)\n",
    "grid_search.fit(X_train, y_train)\n",
    "print(\"Best parameters: {}\".format(grid_search.best_params_))\n",
    "print(\"Best cross-validation score: {:.2f}\".format(grid_search.best_score_))"
   ]
  },
  {
   "cell_type": "markdown",
   "metadata": {
    "colab_type": "text",
    "id": "VCBGwA0Uptt2"
   },
   "source": [
    "#### Applying logistic regression on the dataset"
   ]
  },
  {
   "cell_type": "code",
   "execution_count": 148,
   "metadata": {
    "colab": {
     "base_uri": "https://localhost:8080/",
     "height": 34
    },
    "colab_type": "code",
    "id": "JOtCCGgyptt2",
    "outputId": "fff87e5d-9e93-427a-a785-3a14ce9d942f"
   },
   "outputs": [
    {
     "name": "stdout",
     "output_type": "stream",
     "text": [
      "Accuracy for logistic regression model : 0.8355\n"
     ]
    }
   ],
   "source": [
    "from sklearn.linear_model import LogisticRegression\n",
    "\n",
    "lreg = LogisticRegression(solver = 'liblinear')\n",
    "lreg.fit(X_train,y_train)\n",
    "y_pred = lreg.predict(X_test)\n",
    "from  sklearn.metrics import accuracy_score\n",
    "print(\"Accuracy for logistic regression model :\", accuracy_score(y_test, y_pred).round(4))"
   ]
  },
  {
   "cell_type": "markdown",
   "metadata": {
    "colab_type": "text",
    "id": "dNMOlyvqptt-"
   },
   "source": [
    "#### Applying Adaboost boosting on Logistic Regression"
   ]
  },
  {
   "cell_type": "code",
   "execution_count": 149,
   "metadata": {
    "colab": {
     "base_uri": "https://localhost:8080/",
     "height": 34
    },
    "colab_type": "code",
    "id": "MnUENL57ptt_",
    "outputId": "2b4344d2-75bd-484c-bf8d-8195b0b83c0a"
   },
   "outputs": [
    {
     "name": "stdout",
     "output_type": "stream",
     "text": [
      "Accuracy after applying adaboost on logistic regression model: 0.8223\n"
     ]
    }
   ],
   "source": [
    "ada_clf1 = AdaBoostClassifier(LogisticRegression(solver = 'liblinear'), n_estimators=300, algorithm=\"SAMME.R\", learning_rate= 0.1, random_state=0)\n",
    "ada_clf1.fit(X_train, y_train)\n",
    "y_pred = ada_clf1.predict(X_test)\n",
    "from  sklearn.metrics import accuracy_score\n",
    "print(\"Accuracy after applying adaboost on logistic regression model:\",accuracy_score(y_test, y_pred).round(4))"
   ]
  },
  {
   "cell_type": "markdown",
   "metadata": {
    "colab_type": "text",
    "id": "u7MMM-ibptuF"
   },
   "source": [
    "#### Observation : We can see that Adaboost boosting didn't do much improvement as shown in the result of Logistic Regression"
   ]
  },
  {
   "cell_type": "markdown",
   "metadata": {
    "colab_type": "text",
    "id": "jQB6QhvdptuH"
   },
   "source": [
    "# Gradient Boosting\n",
    "Gradient boosting is a machine learning technique for regression and classification problems, which produces a prediction model in the form of an ensemble of weak prediction models, typically decision trees. \n",
    "#### Grid search to find best parameters for gradient boosting."
   ]
  },
  {
   "cell_type": "code",
   "execution_count": 150,
   "metadata": {
    "colab": {
     "base_uri": "https://localhost:8080/",
     "height": 51
    },
    "colab_type": "code",
    "id": "G-sTL6wXptuI",
    "outputId": "dca2aa3f-8900-4de5-8b8d-b8e4e479b4f4"
   },
   "outputs": [
    {
     "name": "stdout",
     "output_type": "stream",
     "text": [
      "Best parameters: {'learning_rate': 0.01, 'max_depth': 3, 'n_estimators': 350}\n",
      "Best cross-validation score: 0.82\n"
     ]
    }
   ],
   "source": [
    "# grid search for finding the best parameters for gradient boosting\n",
    "from sklearn.model_selection import GridSearchCV\n",
    "from sklearn.ensemble import GradientBoostingClassifier\n",
    "\n",
    "param_grid = {'n_estimators': [300,350,400],\n",
    "              'learning_rate': [.01, .05, .1, 1], 'max_depth': np.arange(1, 10)}\n",
    "\n",
    "grid_search_gradient = GridSearchCV(GradientBoostingClassifier(random_state = 0), param_grid, cv=10, return_train_score=True)\n",
    "grid_search_gradient.fit(X_train, y_train)\n",
    "print(\"Best parameters: {}\".format(grid_search_gradient.best_params_))\n",
    "print(\"Best cross-validation score: {:.2f}\".format(grid_search_gradient.best_score_))"
   ]
  },
  {
   "cell_type": "markdown",
   "metadata": {
    "colab_type": "text",
    "id": "FcPZdQ5_ptuO"
   },
   "source": [
    "#### Building the Gradient Boosting model with best parameters found by grid search"
   ]
  },
  {
   "cell_type": "code",
   "execution_count": 151,
   "metadata": {
    "colab": {},
    "colab_type": "code",
    "id": "l1gf9h8AptuR"
   },
   "outputs": [],
   "source": [
    "# building the model with best parameters\n",
    "gradientboost = GradientBoostingClassifier(random_state=0, learning_rate= 0.01, max_depth = 5, n_estimators=350)\n",
    "gradientboost.fit(X_train, y_train)\n",
    "y_pred = gradientboost.predict(X_test)"
   ]
  },
  {
   "cell_type": "markdown",
   "metadata": {
    "colab_type": "text",
    "id": "9L5S4MEUptuV"
   },
   "source": [
    "#### Accuracy of the model"
   ]
  },
  {
   "cell_type": "code",
   "execution_count": 152,
   "metadata": {
    "colab": {
     "base_uri": "https://localhost:8080/",
     "height": 34
    },
    "colab_type": "code",
    "id": "lf_CeOlUptuW",
    "outputId": "b781fafa-2d8f-4e38-c343-fe49ddbcb6bd"
   },
   "outputs": [
    {
     "name": "stdout",
     "output_type": "stream",
     "text": [
      "Accuracy of the model after gradient boosting 0.8276\n"
     ]
    }
   ],
   "source": [
    "from  sklearn.metrics import accuracy_score\n",
    "print(\"Accuracy of the model after gradient boosting\",accuracy_score(y_test, y_pred).round(4))"
   ]
  },
  {
   "cell_type": "markdown",
   "metadata": {
    "colab_type": "text",
    "id": "npyt7ropptua"
   },
   "source": [
    "#### Confusion matrix of the model:"
   ]
  },
  {
   "cell_type": "code",
   "execution_count": 153,
   "metadata": {
    "colab": {
     "base_uri": "https://localhost:8080/",
     "height": 119
    },
    "colab_type": "code",
    "id": "38ORosbrptub",
    "outputId": "6d3b076c-db27-42b6-978f-d9d10b1f2c86"
   },
   "outputs": [
    {
     "name": "stdout",
     "output_type": "stream",
     "text": [
      "Confusion matrix for test:\n",
      "[[257  26]\n",
      " [ 39  55]]\n",
      "Confusion matrix for train:\n",
      "[[825  18]\n",
      " [ 83 205]]\n"
     ]
    }
   ],
   "source": [
    "from sklearn.metrics import confusion_matrix\n",
    "\n",
    "pred_test = gradientboost.predict(X_test)\n",
    "pred_train = gradientboost.predict(X_train)\n",
    "confusion_test = confusion_matrix(y_test, pred_test)\n",
    "confusion_train = confusion_matrix(y_train, pred_train)\n",
    "print(\"Confusion matrix for test:\\n{}\".format(confusion_test))\n",
    "print(\"Confusion matrix for train:\\n{}\".format(confusion_train))"
   ]
  },
  {
   "cell_type": "markdown",
   "metadata": {
    "colab_type": "text",
    "id": "Y3_lgd63ptue"
   },
   "source": [
    "### PCA for Classification"
   ]
  },
  {
   "cell_type": "code",
   "execution_count": 154,
   "metadata": {
    "colab": {},
    "colab_type": "code",
    "id": "TbwhObGZptuf"
   },
   "outputs": [],
   "source": [
    "from sklearn.decomposition import PCA\n",
    "from sklearn.model_selection import GridSearchCV\n",
    "pca_classification = PCA(n_components = .95)\n",
    "X_train_class = pca_classification.fit_transform(X_train)\n",
    "X_test_class = pca_classification.transform(X_test)"
   ]
  },
  {
   "cell_type": "code",
   "execution_count": 155,
   "metadata": {
    "colab": {
     "base_uri": "https://localhost:8080/",
     "height": 34
    },
    "colab_type": "code",
    "id": "was3Cb2Bptuj",
    "outputId": "62b74ffa-4f2f-41ca-8318-c3284afdc02b"
   },
   "outputs": [
    {
     "data": {
      "text/plain": [
       "25"
      ]
     },
     "execution_count": 155,
     "metadata": {},
     "output_type": "execute_result"
    }
   ],
   "source": [
    "pca_classification.n_components_"
   ]
  },
  {
   "cell_type": "markdown",
   "metadata": {
    "colab_type": "text",
    "id": "mBx37kQQptur"
   },
   "source": [
    "### Model 1 - KNN Classifier"
   ]
  },
  {
   "cell_type": "code",
   "execution_count": 156,
   "metadata": {
    "colab": {
     "base_uri": "https://localhost:8080/",
     "height": 51
    },
    "colab_type": "code",
    "id": "UxJMiDqqptus",
    "outputId": "b4a6cd8f-885e-409b-9731-a8dcada6fa08"
   },
   "outputs": [
    {
     "name": "stdout",
     "output_type": "stream",
     "text": [
      "Best parameters: {'n_neighbors': 8}\n",
      "Best cross-validation score: 0.81\n"
     ]
    }
   ],
   "source": [
    "from sklearn.neighbors import KNeighborsClassifier\n",
    "param_grid = {'n_neighbors': range(1,10)}\n",
    "grid_search = GridSearchCV(KNeighborsClassifier(), param_grid, cv=10, return_train_score=True)\n",
    "grid_search.fit(X_train_class, y_train)\n",
    "print(\"Best parameters: {}\".format(grid_search.best_params_))\n",
    "print(\"Best cross-validation score: {:.2f}\".format(grid_search.best_score_))"
   ]
  },
  {
   "cell_type": "code",
   "execution_count": 157,
   "metadata": {
    "colab": {
     "base_uri": "https://localhost:8080/",
     "height": 312
    },
    "colab_type": "code",
    "id": "Ye51Yv08ptuw",
    "outputId": "bd5d5602-22bc-47af-e4b3-6bab1da5e50b"
   },
   "outputs": [
    {
     "data": {
      "text/plain": [
       "<matplotlib.legend.Legend at 0x25763c98148>"
      ]
     },
     "execution_count": 157,
     "metadata": {},
     "output_type": "execute_result"
    },
    {
     "data": {
      "image/png": "[encoded data removed]",
      "text/plain": [
       "<Figure size 432x288 with 1 Axes>"
      ]
     },
     "metadata": {
      "needs_background": "light"
     },
     "output_type": "display_data"
    }
   ],
   "source": [
    "results = pd.DataFrame(grid_search.cv_results_)\n",
    "plt.plot(results['param_n_neighbors'],results['mean_test_score'],marker='o',c='r',label='Validation Test score')\n",
    "plt.plot(results['param_n_neighbors'],results['mean_train_score'],marker='*',c='g',label='Validation Train score')\n",
    "plt.title('Number of Neighbors Vs. Mean Train/Validation Accuracy')\n",
    "plt.xlabel('Number of Neighbors in KNN regressor')\n",
    "plt.ylabel('Accuracy')\n",
    "plt.legend()"
   ]
  },
  {
   "cell_type": "code",
   "execution_count": 158,
   "metadata": {
    "colab": {
     "base_uri": "https://localhost:8080/",
     "height": 51
    },
    "colab_type": "code",
    "id": "lURe0bo9ptu0",
    "outputId": "e56096a5-1264-4245-9b70-eccd1ff8d186"
   },
   "outputs": [
    {
     "name": "stdout",
     "output_type": "stream",
     "text": [
      "Train score on best parameters 0.8311229000884174\n",
      "Test score on best parameters 0.8116710875331565\n"
     ]
    }
   ],
   "source": [
    "knn = KNeighborsClassifier(n_neighbors=8)\n",
    "knn.fit(X_train_class, y_train)\n",
    "print('Train score on best parameters {}'.format(knn.score(X_train_class,y_train)))\n",
    "print('Test score on best parameters {}'.format(knn.score(X_test_class,y_test)))"
   ]
  },
  {
   "cell_type": "markdown",
   "metadata": {
    "colab_type": "text",
    "id": "feaGO8RVptu3"
   },
   "source": [
    "### Model 2 - Logistic Regression\n",
    "#### Grid search to find the best parameters for the model"
   ]
  },
  {
   "cell_type": "code",
   "execution_count": 159,
   "metadata": {
    "colab": {
     "base_uri": "https://localhost:8080/",
     "height": 51
    },
    "colab_type": "code",
    "id": "k8USd8rnptu3",
    "outputId": "68f6d481-d62e-4ec1-98e5-54c00a37217e"
   },
   "outputs": [
    {
     "name": "stdout",
     "output_type": "stream",
     "text": [
      "Best parameters: {'C': 1, 'penalty': 'l2'}\n",
      "Best cross-validation score: 0.804598\n"
     ]
    }
   ],
   "source": [
    "from sklearn.linear_model import LogisticRegression\n",
    "param_grid_svm = {'C': [0.001, 0.01, 0.1, 1, 10, 100], 'penalty':['l1','l2']}\n",
    "grid_search = GridSearchCV(LogisticRegression(solver = 'liblinear'), param_grid_svm, cv=5, return_train_score=True)\n",
    "grid_search.fit(X_train_class, y_train)\n",
    "print(\"Best parameters: {}\".format(grid_search.best_params_))\n",
    "print(\"Best cross-validation score: {:.6f}\".format(grid_search.best_score_))"
   ]
  },
  {
   "cell_type": "markdown",
   "metadata": {
    "colab_type": "text",
    "id": "K1LuatTwptu7"
   },
   "source": [
    "#### Building the model on the best parameter"
   ]
  },
  {
   "cell_type": "code",
   "execution_count": 160,
   "metadata": {
    "colab": {
     "base_uri": "https://localhost:8080/",
     "height": 51
    },
    "colab_type": "code",
    "id": "oGDuTEaaptu7",
    "outputId": "a72006ca-e30e-42a3-e0f3-b3f34c80e322"
   },
   "outputs": [
    {
     "name": "stdout",
     "output_type": "stream",
     "text": [
      "Train score on best parameters for Logistic Regression model 0.814\n",
      "Test score on best parameters for Logistic Regression model 0.822\n"
     ]
    }
   ],
   "source": [
    "lg = LogisticRegression(C=1,penalty='l2', solver = 'liblinear').fit(X_train_class, y_train)\n",
    "print('Train score on best parameters for Logistic Regression model {:.3f}'.format(lg.score(X_train_class,y_train)))\n",
    "print('Test score on best parameters for Logistic Regression model {:.3f}'.format(lg.score(X_test_class,y_test)))"
   ]
  },
  {
   "cell_type": "markdown",
   "metadata": {
    "colab_type": "text",
    "id": "OOI6xAMYptu9"
   },
   "source": [
    "#### Confusion matrix for the model"
   ]
  },
  {
   "cell_type": "code",
   "execution_count": 161,
   "metadata": {
    "colab": {
     "base_uri": "https://localhost:8080/",
     "height": 119
    },
    "colab_type": "code",
    "id": "0WP3_Ssvptu-",
    "outputId": "2b3b0f46-e0be-4b9e-ad2c-9d2761b561b4"
   },
   "outputs": [
    {
     "name": "stdout",
     "output_type": "stream",
     "text": [
      "Confusion matrix for test:\n",
      "[[256  27]\n",
      " [ 40  54]]\n",
      "Confusion matrix for train:\n",
      "[[791  52]\n",
      " [158 130]]\n"
     ]
    }
   ],
   "source": [
    "from sklearn.metrics import confusion_matrix\n",
    "\n",
    "pred_logreg_test = lg.predict(X_test_class)\n",
    "pred_logreg_train = lg.predict(X_train_class)\n",
    "confusion_test = confusion_matrix(y_test, pred_logreg_test)\n",
    "confusion_train = confusion_matrix(y_train, pred_logreg_train)\n",
    "print(\"Confusion matrix for test:\\n{}\".format(confusion_test))\n",
    "print(\"Confusion matrix for train:\\n{}\".format(confusion_train))"
   ]
  },
  {
   "cell_type": "markdown",
   "metadata": {
    "colab_type": "text",
    "id": "uKX-5H8aptvE"
   },
   "source": [
    "### Model 3 - Support Vector Machine Classifier\n",
    "#### Grid Search to find the best parameters"
   ]
  },
  {
   "cell_type": "code",
   "execution_count": 162,
   "metadata": {
    "colab": {
     "base_uri": "https://localhost:8080/",
     "height": 68
    },
    "colab_type": "code",
    "id": "4iUEW2goptvE",
    "outputId": "599376ee-d6e2-40dd-994d-ba52fee08307"
   },
   "outputs": [
    {
     "name": "stdout",
     "output_type": "stream",
     "text": [
      "Best parameters: {'C': 100, 'degree': 1, 'gamma': 0.01}\n",
      "Best cross-validation score: 0.80\n",
      "Test set score: 0.82\n"
     ]
    }
   ],
   "source": [
    "from sklearn.svm import SVC\n",
    "from sklearn.svm import LinearSVC\n",
    "\n",
    "param_grid = {'C': [0.001, 0.01, 0.1, 1, 10, 100],\n",
    "              'gamma': [0.001, 0.01, 0.1, 1, 10, 100], 'degree':[1,2,3,4,5,6,7,8,9,10]}\n",
    "\n",
    "grid_search = GridSearchCV(SVC(), param_grid, cv=10, return_train_score=True)\n",
    "grid_search.fit(X_train_class, y_train)\n",
    "\n",
    "print(\"Best parameters: {}\".format(grid_search.best_params_))\n",
    "print(\"Best cross-validation score: {:.2f}\".format(grid_search.best_score_))\n",
    "print(\"Test set score: {:.2f}\".format(grid_search.score(X_test_class, y_test)))"
   ]
  },
  {
   "cell_type": "code",
   "execution_count": 163,
   "metadata": {
    "colab": {
     "base_uri": "https://localhost:8080/",
     "height": 153
    },
    "colab_type": "code",
    "id": "G_fLiJrLptvG",
    "outputId": "7e112830-c197-4790-99c9-742678dd009f"
   },
   "outputs": [
    {
     "name": "stdout",
     "output_type": "stream",
     "text": [
      "Train score on best parameters for LinearSVC - 0.7789566755083996\n",
      "Test score on best parameters ffor LinearSVC - 0.7771883289124668\n",
      "Train score on best parameters for SVC kernel - Linear :0.8037135278514589\n",
      "Test score on best parameters for SVC kernel - Linear :0.8222811671087533\n",
      "Train score on best parameters for SVC kernel - rbf :0.8169761273209549\n",
      "Test score on best parameters for SVC kernel - rbf :0.8249336870026526\n",
      "Train score on best parameters for SVC kernel - poly :0.8045977011494253\n",
      "Test score on best parameters for SVC kernel - poly :0.8222811671087533\n"
     ]
    }
   ],
   "source": [
    "clf1 = LinearSVC(C=100).fit(X_train_class, y_train)\n",
    "clf2 = SVC(kernel='linear', C=100).fit(X_train_class, y_train)\n",
    "clf3 = SVC(kernel='rbf', gamma=0.01, C=100).fit(X_train_class, y_train)\n",
    "clf4 = SVC(kernel='poly', degree=1, C=100).fit(X_train_class, y_train)\n",
    "print('Train score on best parameters for LinearSVC - {}'.format(clf1.score(X_train_class, y_train)))\n",
    "print('Test score on best parameters ffor LinearSVC - {}'.format(clf1.score(X_test_class,y_test)))\n",
    "print('Train score on best parameters for SVC kernel - Linear :{}'.format(clf2.score(X_train_class,y_train)))\n",
    "print('Test score on best parameters for SVC kernel - Linear :{}'.format(clf2.score(X_test_class,y_test)))\n",
    "print('Train score on best parameters for SVC kernel - rbf :{}'.format(clf3.score(X_train_class,y_train)))\n",
    "print('Test score on best parameters for SVC kernel - rbf :{}'.format(clf3.score(X_test_class,y_test)))\n",
    "print('Train score on best parameters for SVC kernel - poly :{}'.format(clf4.score(X_train_class,y_train)))\n",
    "print('Test score on best parameters for SVC kernel - poly :{}'.format(clf4.score(X_test_class,y_test)))"
   ]
  },
  {
   "cell_type": "markdown",
   "metadata": {
    "colab_type": "text",
    "id": "hRBZbl43ptvJ"
   },
   "source": [
    "### Model 4 - Decision Tree Classifier\n",
    "#### Grid search to find best parameters for the model"
   ]
  },
  {
   "cell_type": "code",
   "execution_count": 164,
   "metadata": {
    "colab": {
     "base_uri": "https://localhost:8080/",
     "height": 51
    },
    "colab_type": "code",
    "id": "6a1IOQ-dptvJ",
    "outputId": "c08691e0-dfa9-4149-ef0d-69a42a465646"
   },
   "outputs": [
    {
     "name": "stdout",
     "output_type": "stream",
     "text": [
      "Best parameters: {'max_depth': 4}\n",
      "Best cross-validation score: 0.76\n"
     ]
    }
   ],
   "source": [
    "param_grid = {'max_depth': np.arange(1, 10)}\n",
    "\n",
    "grid_search.fit(X_train_class, y_train)\n",
    "grid_search = GridSearchCV(DecisionTreeClassifier(), param_grid, cv=10, return_train_score=True)\n",
    "grid_search.fit(X_train_class, y_train)\n",
    "print(\"Best parameters: {}\".format(grid_search.best_params_))\n",
    "print(\"Best cross-validation score: {:.2f}\".format(grid_search.best_score_))"
   ]
  },
  {
   "cell_type": "markdown",
   "metadata": {
    "colab_type": "text",
    "id": "pGLk_HUTptvQ"
   },
   "source": [
    "#### Building the model on best parameters"
   ]
  },
  {
   "cell_type": "code",
   "execution_count": 165,
   "metadata": {
    "colab": {
     "base_uri": "https://localhost:8080/",
     "height": 51
    },
    "colab_type": "code",
    "id": "f9KMid6uptvR",
    "outputId": "624cf0b8-60bd-496e-b75b-4de158067cc6"
   },
   "outputs": [
    {
     "name": "stdout",
     "output_type": "stream",
     "text": [
      "Accuracy on training set: 0.822281\n",
      "Accuracy on test set: 0.827586\n"
     ]
    }
   ],
   "source": [
    "dtree = DecisionTreeClassifier(max_depth=4, random_state=0)\n",
    "dtree.fit(X_train_class, y_train)\n",
    "\n",
    "print(\"Accuracy on training set: {:.6f}\".format(dtree.score(X_train_class, y_train)))\n",
    "print(\"Accuracy on test set: {:.6f}\".format(dtree.score(X_test_class, y_test)))"
   ]
  },
  {
   "cell_type": "markdown",
   "metadata": {
    "colab_type": "text",
    "id": "Eyd0M8TqptvU"
   },
   "source": [
    "### Comparing accuracies for Classification models before and after PCA"
   ]
  },
  {
   "cell_type": "code",
   "execution_count": 166,
   "metadata": {
    "colab": {},
    "colab_type": "code",
    "id": "MGcfSsyUptvV"
   },
   "outputs": [],
   "source": [
    "# Index Levels\n",
    "outside = ['Before PCA','Before PCA','After PCA','After PCA']\n",
    "inside = ['Training Accuracy','Test Accuracy','Training Accuracy','Test Accuracy']\n",
    "hier_index = list(zip(outside,inside))\n",
    "hier_index = pd.MultiIndex.from_tuples(hier_index)"
   ]
  },
  {
   "cell_type": "code",
   "execution_count": 167,
   "metadata": {
    "colab": {},
    "colab_type": "code",
    "id": "8lSplTz2ptvY"
   },
   "outputs": [],
   "source": [
    "data_class = np.array([(0.820,0.824,0.810,0.803,0.881,0.828,0.854),\n",
    "                     (0.824,0.824,0.827,0.822,0.816,0.835,0.809),\n",
    "                     (0.831,0.814,0.795,0.803,0.816,0.803,0.822),\n",
    "                     (0.811,0.822,0.824,0.822,0.824,0.822,0.827)])"
   ]
  },
  {
   "cell_type": "code",
   "execution_count": 168,
   "metadata": {
    "colab": {},
    "colab_type": "code",
    "id": "p0Bdagjnptvd"
   },
   "outputs": [],
   "source": [
    "df = pd.DataFrame(data_class,index=hier_index,columns=['KNN','Logistic','LinearSVC','SVC kernel - Linear','SVC kernel - rbf','SVC kernel - poly','Decision Tree'])"
   ]
  },
  {
   "cell_type": "code",
   "execution_count": 169,
   "metadata": {
    "colab": {
     "base_uri": "https://localhost:8080/",
     "height": 124
    },
    "colab_type": "code",
    "id": "fy82UYUIptvh",
    "outputId": "b6590802-6dac-4797-91dc-17de158c07cd"
   },
   "outputs": [
    {
     "data": {
      "text/html": [
       "<style  type=\"text/css\" >\n",
       "    #T_5d413e46_8dbc_11ea_baea_10e7c6f2b1bdrow0_col0 {\n",
       "            background-color:  #fd9c42;\n",
       "            color:  #000000;\n",
       "        }    #T_5d413e46_8dbc_11ea_baea_10e7c6f2b1bdrow0_col1 {\n",
       "            background-color:  #800026;\n",
       "            color:  #f1f1f1;\n",
       "        }    #T_5d413e46_8dbc_11ea_baea_10e7c6f2b1bdrow0_col2 {\n",
       "            background-color:  #fd9640;\n",
       "            color:  #000000;\n",
       "        }    #T_5d413e46_8dbc_11ea_baea_10e7c6f2b1bdrow0_col3 {\n",
       "            background-color:  #ffffcc;\n",
       "            color:  #000000;\n",
       "        }    #T_5d413e46_8dbc_11ea_baea_10e7c6f2b1bdrow0_col4 {\n",
       "            background-color:  #800026;\n",
       "            color:  #f1f1f1;\n",
       "        }    #T_5d413e46_8dbc_11ea_baea_10e7c6f2b1bdrow0_col5 {\n",
       "            background-color:  #da141e;\n",
       "            color:  #f1f1f1;\n",
       "        }    #T_5d413e46_8dbc_11ea_baea_10e7c6f2b1bdrow0_col6 {\n",
       "            background-color:  #800026;\n",
       "            color:  #f1f1f1;\n",
       "        }    #T_5d413e46_8dbc_11ea_baea_10e7c6f2b1bdrow1_col0 {\n",
       "            background-color:  #f74327;\n",
       "            color:  #f1f1f1;\n",
       "        }    #T_5d413e46_8dbc_11ea_baea_10e7c6f2b1bdrow1_col1 {\n",
       "            background-color:  #800026;\n",
       "            color:  #f1f1f1;\n",
       "        }    #T_5d413e46_8dbc_11ea_baea_10e7c6f2b1bdrow1_col2 {\n",
       "            background-color:  #800026;\n",
       "            color:  #f1f1f1;\n",
       "        }    #T_5d413e46_8dbc_11ea_baea_10e7c6f2b1bdrow1_col3 {\n",
       "            background-color:  #800026;\n",
       "            color:  #f1f1f1;\n",
       "        }    #T_5d413e46_8dbc_11ea_baea_10e7c6f2b1bdrow1_col4 {\n",
       "            background-color:  #ffffcc;\n",
       "            color:  #000000;\n",
       "        }    #T_5d413e46_8dbc_11ea_baea_10e7c6f2b1bdrow1_col5 {\n",
       "            background-color:  #800026;\n",
       "            color:  #f1f1f1;\n",
       "        }    #T_5d413e46_8dbc_11ea_baea_10e7c6f2b1bdrow1_col6 {\n",
       "            background-color:  #ffffcc;\n",
       "            color:  #000000;\n",
       "        }    #T_5d413e46_8dbc_11ea_baea_10e7c6f2b1bdrow2_col0 {\n",
       "            background-color:  #800026;\n",
       "            color:  #f1f1f1;\n",
       "        }    #T_5d413e46_8dbc_11ea_baea_10e7c6f2b1bdrow2_col1 {\n",
       "            background-color:  #ffffcc;\n",
       "            color:  #000000;\n",
       "        }    #T_5d413e46_8dbc_11ea_baea_10e7c6f2b1bdrow2_col2 {\n",
       "            background-color:  #ffffcc;\n",
       "            color:  #000000;\n",
       "        }    #T_5d413e46_8dbc_11ea_baea_10e7c6f2b1bdrow2_col3 {\n",
       "            background-color:  #ffffcc;\n",
       "            color:  #000000;\n",
       "        }    #T_5d413e46_8dbc_11ea_baea_10e7c6f2b1bdrow2_col4 {\n",
       "            background-color:  #ffffcc;\n",
       "            color:  #000000;\n",
       "        }    #T_5d413e46_8dbc_11ea_baea_10e7c6f2b1bdrow2_col5 {\n",
       "            background-color:  #ffffcc;\n",
       "            color:  #000000;\n",
       "        }    #T_5d413e46_8dbc_11ea_baea_10e7c6f2b1bdrow2_col6 {\n",
       "            background-color:  #fece6a;\n",
       "            color:  #000000;\n",
       "        }    #T_5d413e46_8dbc_11ea_baea_10e7c6f2b1bdrow3_col0 {\n",
       "            background-color:  #ffffcc;\n",
       "            color:  #000000;\n",
       "        }    #T_5d413e46_8dbc_11ea_baea_10e7c6f2b1bdrow3_col1 {\n",
       "            background-color:  #d41020;\n",
       "            color:  #f1f1f1;\n",
       "        }    #T_5d413e46_8dbc_11ea_baea_10e7c6f2b1bdrow3_col2 {\n",
       "            background-color:  #ae0026;\n",
       "            color:  #f1f1f1;\n",
       "        }    #T_5d413e46_8dbc_11ea_baea_10e7c6f2b1bdrow3_col3 {\n",
       "            background-color:  #800026;\n",
       "            color:  #f1f1f1;\n",
       "        }    #T_5d413e46_8dbc_11ea_baea_10e7c6f2b1bdrow3_col4 {\n",
       "            background-color:  #ffeda1;\n",
       "            color:  #000000;\n",
       "        }    #T_5d413e46_8dbc_11ea_baea_10e7c6f2b1bdrow3_col5 {\n",
       "            background-color:  #fc5f2f;\n",
       "            color:  #000000;\n",
       "        }    #T_5d413e46_8dbc_11ea_baea_10e7c6f2b1bdrow3_col6 {\n",
       "            background-color:  #feab49;\n",
       "            color:  #000000;\n",
       "        }</style><table id=\"T_5d413e46_8dbc_11ea_baea_10e7c6f2b1bd\" ><thead>    <tr>        <th class=\"blank\" ></th>        <th class=\"blank level0\" ></th>        <th class=\"col_heading level0 col0\" >KNN</th>        <th class=\"col_heading level0 col1\" >Logistic</th>        <th class=\"col_heading level0 col2\" >LinearSVC</th>        <th class=\"col_heading level0 col3\" >SVC kernel - Linear</th>        <th class=\"col_heading level0 col4\" >SVC kernel - rbf</th>        <th class=\"col_heading level0 col5\" >SVC kernel - poly</th>        <th class=\"col_heading level0 col6\" >Decision Tree</th>    </tr></thead><tbody>\n",
       "                <tr>\n",
       "                        <th id=\"T_5d413e46_8dbc_11ea_baea_10e7c6f2b1bdlevel0_row0\" class=\"row_heading level0 row0\" rowspan=2>Before PCA</th>\n",
       "                        <th id=\"T_5d413e46_8dbc_11ea_baea_10e7c6f2b1bdlevel1_row0\" class=\"row_heading level1 row0\" >Training Accuracy</th>\n",
       "                        <td id=\"T_5d413e46_8dbc_11ea_baea_10e7c6f2b1bdrow0_col0\" class=\"data row0 col0\" >0.82</td>\n",
       "                        <td id=\"T_5d413e46_8dbc_11ea_baea_10e7c6f2b1bdrow0_col1\" class=\"data row0 col1\" >0.824</td>\n",
       "                        <td id=\"T_5d413e46_8dbc_11ea_baea_10e7c6f2b1bdrow0_col2\" class=\"data row0 col2\" >0.81</td>\n",
       "                        <td id=\"T_5d413e46_8dbc_11ea_baea_10e7c6f2b1bdrow0_col3\" class=\"data row0 col3\" >0.803</td>\n",
       "                        <td id=\"T_5d413e46_8dbc_11ea_baea_10e7c6f2b1bdrow0_col4\" class=\"data row0 col4\" >0.881</td>\n",
       "                        <td id=\"T_5d413e46_8dbc_11ea_baea_10e7c6f2b1bdrow0_col5\" class=\"data row0 col5\" >0.828</td>\n",
       "                        <td id=\"T_5d413e46_8dbc_11ea_baea_10e7c6f2b1bdrow0_col6\" class=\"data row0 col6\" >0.854</td>\n",
       "            </tr>\n",
       "            <tr>\n",
       "                                <th id=\"T_5d413e46_8dbc_11ea_baea_10e7c6f2b1bdlevel1_row1\" class=\"row_heading level1 row1\" >Test Accuracy</th>\n",
       "                        <td id=\"T_5d413e46_8dbc_11ea_baea_10e7c6f2b1bdrow1_col0\" class=\"data row1 col0\" >0.824</td>\n",
       "                        <td id=\"T_5d413e46_8dbc_11ea_baea_10e7c6f2b1bdrow1_col1\" class=\"data row1 col1\" >0.824</td>\n",
       "                        <td id=\"T_5d413e46_8dbc_11ea_baea_10e7c6f2b1bdrow1_col2\" class=\"data row1 col2\" >0.827</td>\n",
       "                        <td id=\"T_5d413e46_8dbc_11ea_baea_10e7c6f2b1bdrow1_col3\" class=\"data row1 col3\" >0.822</td>\n",
       "                        <td id=\"T_5d413e46_8dbc_11ea_baea_10e7c6f2b1bdrow1_col4\" class=\"data row1 col4\" >0.816</td>\n",
       "                        <td id=\"T_5d413e46_8dbc_11ea_baea_10e7c6f2b1bdrow1_col5\" class=\"data row1 col5\" >0.835</td>\n",
       "                        <td id=\"T_5d413e46_8dbc_11ea_baea_10e7c6f2b1bdrow1_col6\" class=\"data row1 col6\" >0.809</td>\n",
       "            </tr>\n",
       "            <tr>\n",
       "                        <th id=\"T_5d413e46_8dbc_11ea_baea_10e7c6f2b1bdlevel0_row2\" class=\"row_heading level0 row2\" rowspan=2>After PCA</th>\n",
       "                        <th id=\"T_5d413e46_8dbc_11ea_baea_10e7c6f2b1bdlevel1_row2\" class=\"row_heading level1 row2\" >Training Accuracy</th>\n",
       "                        <td id=\"T_5d413e46_8dbc_11ea_baea_10e7c6f2b1bdrow2_col0\" class=\"data row2 col0\" >0.831</td>\n",
       "                        <td id=\"T_5d413e46_8dbc_11ea_baea_10e7c6f2b1bdrow2_col1\" class=\"data row2 col1\" >0.814</td>\n",
       "                        <td id=\"T_5d413e46_8dbc_11ea_baea_10e7c6f2b1bdrow2_col2\" class=\"data row2 col2\" >0.795</td>\n",
       "                        <td id=\"T_5d413e46_8dbc_11ea_baea_10e7c6f2b1bdrow2_col3\" class=\"data row2 col3\" >0.803</td>\n",
       "                        <td id=\"T_5d413e46_8dbc_11ea_baea_10e7c6f2b1bdrow2_col4\" class=\"data row2 col4\" >0.816</td>\n",
       "                        <td id=\"T_5d413e46_8dbc_11ea_baea_10e7c6f2b1bdrow2_col5\" class=\"data row2 col5\" >0.803</td>\n",
       "                        <td id=\"T_5d413e46_8dbc_11ea_baea_10e7c6f2b1bdrow2_col6\" class=\"data row2 col6\" >0.822</td>\n",
       "            </tr>\n",
       "            <tr>\n",
       "                                <th id=\"T_5d413e46_8dbc_11ea_baea_10e7c6f2b1bdlevel1_row3\" class=\"row_heading level1 row3\" >Test Accuracy</th>\n",
       "                        <td id=\"T_5d413e46_8dbc_11ea_baea_10e7c6f2b1bdrow3_col0\" class=\"data row3 col0\" >0.811</td>\n",
       "                        <td id=\"T_5d413e46_8dbc_11ea_baea_10e7c6f2b1bdrow3_col1\" class=\"data row3 col1\" >0.822</td>\n",
       "                        <td id=\"T_5d413e46_8dbc_11ea_baea_10e7c6f2b1bdrow3_col2\" class=\"data row3 col2\" >0.824</td>\n",
       "                        <td id=\"T_5d413e46_8dbc_11ea_baea_10e7c6f2b1bdrow3_col3\" class=\"data row3 col3\" >0.822</td>\n",
       "                        <td id=\"T_5d413e46_8dbc_11ea_baea_10e7c6f2b1bdrow3_col4\" class=\"data row3 col4\" >0.824</td>\n",
       "                        <td id=\"T_5d413e46_8dbc_11ea_baea_10e7c6f2b1bdrow3_col5\" class=\"data row3 col5\" >0.822</td>\n",
       "                        <td id=\"T_5d413e46_8dbc_11ea_baea_10e7c6f2b1bdrow3_col6\" class=\"data row3 col6\" >0.827</td>\n",
       "            </tr>\n",
       "    </tbody></table>"
      ],
      "text/plain": [
       "<pandas.io.formats.style.Styler at 0x2576ac5ab88>"
      ]
     },
     "execution_count": 169,
     "metadata": {},
     "output_type": "execute_result"
    }
   ],
   "source": [
    "import seaborn as sns\n",
    "\n",
    "cm = sns.light_palette(\"#2ecc71\", as_cmap=True)\n",
    "\n",
    "s = df.style.background_gradient(cmap='YlOrRd')\n",
    "s"
   ]
  },
  {
   "cell_type": "markdown",
   "metadata": {
    "colab_type": "text",
    "id": "I-tMyyQPmzoX"
   },
   "source": [
    "# **Observation**\n",
    "### It shows that PCA didn't help us improve accuracy but it has definitely reduced the computation as it has brought down the number of features from 42 to 25, so we would go ahead with models on which PCA is applied\n"
   ]
  },
  {
   "cell_type": "markdown",
   "metadata": {
    "colab_type": "text",
    "id": "s_WeZ-5GbmXV"
   },
   "source": [
    "### Deep Learning Classification"
   ]
  },
  {
   "cell_type": "code",
   "execution_count": 170,
   "metadata": {
    "colab": {
     "base_uri": "https://localhost:8080/",
     "height": 34
    },
    "colab_type": "code",
    "id": "cJjmmZnJ397U",
    "outputId": "636e5ac7-53a7-40b0-beea-0185258bbfe8"
   },
   "outputs": [],
   "source": [
    "from keras.models import Sequential\n",
    "from keras.layers import Dense\n",
    "from keras.wrappers.scikit_learn import KerasClassifier"
   ]
  },
  {
   "cell_type": "code",
   "execution_count": 171,
   "metadata": {
    "colab": {},
    "colab_type": "code",
    "id": "lXkyZfOw4BIn"
   },
   "outputs": [],
   "source": [
    "def create_model():\n",
    "    #create model\n",
    "    model = Sequential()\n",
    "    model.add(Dense(42, input_dim=42, activation='relu'))\n",
    "    model.add(Dense(11, activation='relu'))\n",
    "    model.add(Dense(3, activation='relu'))\n",
    "    model.add(Dense(1, activation='sigmoid'))\n",
    "    #compile model\n",
    "    model.compile(loss='binary_crossentropy', optimizer='adam', metrics=['accuracy'])\n",
    "    return model"
   ]
  },
  {
   "cell_type": "code",
   "execution_count": 172,
   "metadata": {
    "colab": {},
    "colab_type": "code",
    "id": "donLCPOE4PMk"
   },
   "outputs": [],
   "source": [
    "seed = 10\n",
    "np.random.seed(10)"
   ]
  },
  {
   "cell_type": "code",
   "execution_count": 173,
   "metadata": {
    "colab": {},
    "colab_type": "code",
    "id": "HCzbH98J4V3P"
   },
   "outputs": [],
   "source": [
    "model = KerasClassifier(build_fn = create_model, verbose = 0)\n",
    "\n",
    "param_grid = {'batch_size':[10,20,25,30,35,40] , 'epochs':[10, 50,60,70, 100]}\n",
    "grid_search = GridSearchCV(estimator= model, param_grid = param_grid, cv = 10)"
   ]
  },
  {
   "cell_type": "code",
   "execution_count": 174,
   "metadata": {
    "colab": {},
    "colab_type": "code",
    "id": "kSfz57nK4azl"
   },
   "outputs": [],
   "source": [
    "grid_search_result = grid_search.fit(X_train, y_train)\n"
   ]
  },
  {
   "cell_type": "code",
   "execution_count": 175,
   "metadata": {
    "colab": {},
    "colab_type": "code",
    "id": "ES3XxbAEAOA5"
   },
   "outputs": [
    {
     "name": "stdout",
     "output_type": "stream",
     "text": [
      "Best parameters: {'batch_size': 30, 'epochs': 50}\n",
      "Best cross-validation score: 0.80\n"
     ]
    }
   ],
   "source": [
    "print(\"Best parameters: {}\".format(grid_search.best_params_))\n",
    "print(\"Best cross-validation score: {:.2f}\".format(grid_search.best_score_))"
   ]
  },
  {
   "cell_type": "code",
   "execution_count": 176,
   "metadata": {
    "colab": {},
    "colab_type": "code",
    "id": "_SEnLRORAZj4"
   },
   "outputs": [],
   "source": [
    "# create model\n",
    "model = Sequential()\n",
    "\n",
    "model.add(Dense(42, input_dim=42, activation='relu'))\n",
    "model.add(Dense(11, activation='relu'))\n",
    "model.add(Dense(3, activation='relu'))\n",
    "model.add(Dense(1, activation='sigmoid'))"
   ]
  },
  {
   "cell_type": "code",
   "execution_count": 177,
   "metadata": {
    "colab": {},
    "colab_type": "code",
    "id": "y_c3FpMDAirD"
   },
   "outputs": [],
   "source": [
    "# Compile model\n",
    "model.compile(loss='binary_crossentropy', optimizer='adam', metrics=['accuracy'])"
   ]
  },
  {
   "cell_type": "code",
   "execution_count": 178,
   "metadata": {
    "colab": {},
    "colab_type": "code",
    "id": "PgcuVXCpAmNq"
   },
   "outputs": [
    {
     "name": "stdout",
     "output_type": "stream",
     "text": [
      "Epoch 1/50\n",
      "1131/1131 [==============================] - 0s 140us/step - loss: 0.6277 - accuracy: 0.7392\n",
      "Epoch 2/50\n",
      "1131/1131 [==============================] - 0s 43us/step - loss: 0.5422 - accuracy: 0.7454\n",
      "Epoch 3/50\n",
      "1131/1131 [==============================] - 0s 34us/step - loss: 0.4877 - accuracy: 0.7524\n",
      "Epoch 4/50\n",
      "1131/1131 [==============================] - 0s 42us/step - loss: 0.4582 - accuracy: 0.7966\n",
      "Epoch 5/50\n",
      "1131/1131 [==============================] - 0s 49us/step - loss: 0.4371 - accuracy: 0.8064\n",
      "Epoch 6/50\n",
      "1131/1131 [==============================] - 0s 41us/step - loss: 0.4227 - accuracy: 0.8090\n",
      "Epoch 7/50\n",
      "1131/1131 [==============================] - 0s 41us/step - loss: 0.4131 - accuracy: 0.8108\n",
      "Epoch 8/50\n",
      "1131/1131 [==============================] - 0s 42us/step - loss: 0.4052 - accuracy: 0.8081\n",
      "Epoch 9/50\n",
      "1131/1131 [==============================] - 0s 44us/step - loss: 0.3998 - accuracy: 0.8143\n",
      "Epoch 10/50\n",
      "1131/1131 [==============================] - 0s 39us/step - loss: 0.3952 - accuracy: 0.8161\n",
      "Epoch 11/50\n",
      "1131/1131 [==============================] - 0s 41us/step - loss: 0.3915 - accuracy: 0.8249\n",
      "Epoch 12/50\n",
      "1131/1131 [==============================] - 0s 39us/step - loss: 0.3953 - accuracy: 0.8143\n",
      "Epoch 13/50\n",
      "1131/1131 [==============================] - 0s 33us/step - loss: 0.3857 - accuracy: 0.8232\n",
      "Epoch 14/50\n",
      "1131/1131 [==============================] - 0s 35us/step - loss: 0.3835 - accuracy: 0.8205\n",
      "Epoch 15/50\n",
      "1131/1131 [==============================] - 0s 36us/step - loss: 0.3820 - accuracy: 0.8249\n",
      "Epoch 16/50\n",
      "1131/1131 [==============================] - 0s 34us/step - loss: 0.3809 - accuracy: 0.8276\n",
      "Epoch 17/50\n",
      "1131/1131 [==============================] - 0s 44us/step - loss: 0.3794 - accuracy: 0.8294\n",
      "Epoch 18/50\n",
      "1131/1131 [==============================] - 0s 39us/step - loss: 0.3743 - accuracy: 0.8232\n",
      "Epoch 19/50\n",
      "1131/1131 [==============================] - 0s 38us/step - loss: 0.3737 - accuracy: 0.8276\n",
      "Epoch 20/50\n",
      "1131/1131 [==============================] - 0s 39us/step - loss: 0.3695 - accuracy: 0.8294\n",
      "Epoch 21/50\n",
      "1131/1131 [==============================] - 0s 41us/step - loss: 0.3668 - accuracy: 0.8294\n",
      "Epoch 22/50\n",
      "1131/1131 [==============================] - 0s 41us/step - loss: 0.3652 - accuracy: 0.8347\n",
      "Epoch 23/50\n",
      "1131/1131 [==============================] - 0s 36us/step - loss: 0.3649 - accuracy: 0.8338\n",
      "Epoch 24/50\n",
      "1131/1131 [==============================] - 0s 38us/step - loss: 0.3664 - accuracy: 0.8329\n",
      "Epoch 25/50\n",
      "1131/1131 [==============================] - 0s 39us/step - loss: 0.3657 - accuracy: 0.8294\n",
      "Epoch 26/50\n",
      "1131/1131 [==============================] - 0s 36us/step - loss: 0.3576 - accuracy: 0.8311\n",
      "Epoch 27/50\n",
      "1131/1131 [==============================] - 0s 41us/step - loss: 0.3571 - accuracy: 0.8311\n",
      "Epoch 28/50\n",
      "1131/1131 [==============================] - 0s 39us/step - loss: 0.3582 - accuracy: 0.8311\n",
      "Epoch 29/50\n",
      "1131/1131 [==============================] - 0s 33us/step - loss: 0.3537 - accuracy: 0.8355\n",
      "Epoch 30/50\n",
      "1131/1131 [==============================] - 0s 34us/step - loss: 0.3495 - accuracy: 0.8426\n",
      "Epoch 31/50\n",
      "1131/1131 [==============================] - 0s 34us/step - loss: 0.3516 - accuracy: 0.8347\n",
      "Epoch 32/50\n",
      "1131/1131 [==============================] - 0s 34us/step - loss: 0.3465 - accuracy: 0.8408\n",
      "Epoch 33/50\n",
      "1131/1131 [==============================] - 0s 34us/step - loss: 0.3502 - accuracy: 0.8426\n",
      "Epoch 34/50\n",
      "1131/1131 [==============================] - 0s 33us/step - loss: 0.3415 - accuracy: 0.8435\n",
      "Epoch 35/50\n",
      "1131/1131 [==============================] - 0s 36us/step - loss: 0.3406 - accuracy: 0.8426\n",
      "Epoch 36/50\n",
      "1131/1131 [==============================] - 0s 33us/step - loss: 0.3402 - accuracy: 0.8479\n",
      "Epoch 37/50\n",
      "1131/1131 [==============================] - 0s 35us/step - loss: 0.3344 - accuracy: 0.8497\n",
      "Epoch 38/50\n",
      "1131/1131 [==============================] - 0s 34us/step - loss: 0.3339 - accuracy: 0.8497\n",
      "Epoch 39/50\n",
      "1131/1131 [==============================] - 0s 32us/step - loss: 0.3313 - accuracy: 0.8479\n",
      "Epoch 40/50\n",
      "1131/1131 [==============================] - 0s 33us/step - loss: 0.3335 - accuracy: 0.8488\n",
      "Epoch 41/50\n",
      "1131/1131 [==============================] - 0s 35us/step - loss: 0.3286 - accuracy: 0.8532\n",
      "Epoch 42/50\n",
      "1131/1131 [==============================] - 0s 41us/step - loss: 0.3268 - accuracy: 0.8488\n",
      "Epoch 43/50\n",
      "1131/1131 [==============================] - 0s 34us/step - loss: 0.3296 - accuracy: 0.8576\n",
      "Epoch 44/50\n",
      "1131/1131 [==============================] - 0s 35us/step - loss: 0.3227 - accuracy: 0.8568\n",
      "Epoch 45/50\n",
      "1131/1131 [==============================] - 0s 34us/step - loss: 0.3209 - accuracy: 0.8541\n",
      "Epoch 46/50\n",
      "1131/1131 [==============================] - 0s 33us/step - loss: 0.3223 - accuracy: 0.8532\n",
      "Epoch 47/50\n",
      "1131/1131 [==============================] - 0s 37us/step - loss: 0.3185 - accuracy: 0.8603\n",
      "Epoch 48/50\n",
      "1131/1131 [==============================] - 0s 33us/step - loss: 0.3175 - accuracy: 0.8532\n",
      "Epoch 49/50\n",
      "1131/1131 [==============================] - 0s 33us/step - loss: 0.3195 - accuracy: 0.8603\n",
      "Epoch 50/50\n",
      "1131/1131 [==============================] - 0s 32us/step - loss: 0.3138 - accuracy: 0.8594\n"
     ]
    },
    {
     "data": {
      "text/plain": [
       "<keras.callbacks.callbacks.History at 0x2570bb59d48>"
      ]
     },
     "execution_count": 178,
     "metadata": {},
     "output_type": "execute_result"
    }
   ],
   "source": [
    "# Fit the model\n",
    "model.fit(X_train, y_train, epochs=50, batch_size=30)"
   ]
  },
  {
   "cell_type": "code",
   "execution_count": 179,
   "metadata": {
    "colab": {},
    "colab_type": "code",
    "id": "zf1RnaEqAsAB"
   },
   "outputs": [
    {
     "name": "stdout",
     "output_type": "stream",
     "text": [
      "377/377 [==============================] - 0s 63us/step\n",
      "\n",
      "accuracy: 83.02%\n"
     ]
    }
   ],
   "source": [
    "# evaluate the model\n",
    "scores = model.evaluate(X_test, y_test)\n",
    "print(\"\\n%s: %.2f%%\" % (model.metrics_names[1], scores[1]*100))"
   ]
  },
  {
   "cell_type": "code",
   "execution_count": 180,
   "metadata": {
    "colab": {},
    "colab_type": "code",
    "id": "a8oRStxOA2wf"
   },
   "outputs": [
    {
     "data": {
      "text/plain": [
       "array([[0.00356565],\n",
       "       [0.00923516],\n",
       "       [0.0604303 ],\n",
       "       [0.20634992],\n",
       "       [0.4062492 ],\n",
       "       [0.6019307 ],\n",
       "       [0.11961535],\n",
       "       [0.38759807],\n",
       "       [0.01877691],\n",
       "       [0.00610666],\n",
       "       [0.21447356],\n",
       "       [0.01489556],\n",
       "       [0.01269318],\n",
       "       [0.0177662 ],\n",
       "       [0.00730917],\n",
       "       [0.01713536],\n",
       "       [0.37388852],\n",
       "       [0.00702633],\n",
       "       [0.01176758],\n",
       "       [0.00583481],\n",
       "       [0.17822142],\n",
       "       [0.59653056],\n",
       "       [0.00552942],\n",
       "       [0.88029504],\n",
       "       [0.03829678],\n",
       "       [0.10237647],\n",
       "       [0.3646513 ],\n",
       "       [0.0561085 ],\n",
       "       [0.01035379],\n",
       "       [0.00811786],\n",
       "       [0.02760966],\n",
       "       [0.00720369],\n",
       "       [0.0107087 ],\n",
       "       [0.00366899],\n",
       "       [0.01085952],\n",
       "       [0.3796273 ],\n",
       "       [0.00524406],\n",
       "       [0.08172024],\n",
       "       [0.29370555],\n",
       "       [0.01417484],\n",
       "       [0.51302236],\n",
       "       [0.0117491 ],\n",
       "       [0.53462887],\n",
       "       [0.3753242 ],\n",
       "       [0.01548271],\n",
       "       [0.14467663],\n",
       "       [0.5489324 ],\n",
       "       [0.08369184],\n",
       "       [0.01130877],\n",
       "       [0.00714529],\n",
       "       [0.6514392 ],\n",
       "       [0.7027397 ],\n",
       "       [0.41548085],\n",
       "       [0.82825714],\n",
       "       [0.42258307],\n",
       "       [0.05165264],\n",
       "       [0.00674015],\n",
       "       [0.05129534],\n",
       "       [0.32445937],\n",
       "       [0.15132938],\n",
       "       [0.01838176],\n",
       "       [0.06616586],\n",
       "       [0.5051301 ],\n",
       "       [0.83887833],\n",
       "       [0.00562391],\n",
       "       [0.00431786],\n",
       "       [0.00653495],\n",
       "       [0.5758747 ],\n",
       "       [0.12473906],\n",
       "       [0.03653188],\n",
       "       [0.3984462 ],\n",
       "       [0.00346163],\n",
       "       [0.04371763],\n",
       "       [0.8236522 ],\n",
       "       [0.17545864],\n",
       "       [0.37005803],\n",
       "       [0.8880338 ],\n",
       "       [0.00477717],\n",
       "       [0.041634  ],\n",
       "       [0.02722909],\n",
       "       [0.0245748 ],\n",
       "       [0.00673088],\n",
       "       [0.02321261],\n",
       "       [0.00741669],\n",
       "       [0.5581908 ],\n",
       "       [0.05315941],\n",
       "       [0.8362973 ],\n",
       "       [0.7950805 ],\n",
       "       [0.18735893],\n",
       "       [0.01748062],\n",
       "       [0.01351768],\n",
       "       [0.00456081],\n",
       "       [0.78024536],\n",
       "       [0.00839362],\n",
       "       [0.00917533],\n",
       "       [0.53152025],\n",
       "       [0.01465563],\n",
       "       [0.10371241],\n",
       "       [0.00924973],\n",
       "       [0.26392955],\n",
       "       [0.01738884],\n",
       "       [0.01163973],\n",
       "       [0.00686943],\n",
       "       [0.10475434],\n",
       "       [0.0080989 ],\n",
       "       [0.01721471],\n",
       "       [0.92985845],\n",
       "       [0.63157517],\n",
       "       [0.01407494],\n",
       "       [0.00402255],\n",
       "       [0.00636499],\n",
       "       [0.6522682 ],\n",
       "       [0.01273914],\n",
       "       [0.13755426],\n",
       "       [0.17919026],\n",
       "       [0.00680842],\n",
       "       [0.33180812],\n",
       "       [0.00317895],\n",
       "       [0.07904112],\n",
       "       [0.0020432 ],\n",
       "       [0.8396202 ],\n",
       "       [0.6163175 ],\n",
       "       [0.30944332],\n",
       "       [0.18096289],\n",
       "       [0.6898803 ],\n",
       "       [0.34633785],\n",
       "       [0.00730122],\n",
       "       [0.0687649 ],\n",
       "       [0.12587969],\n",
       "       [0.01341809],\n",
       "       [0.02505348],\n",
       "       [0.08961475],\n",
       "       [0.03346844],\n",
       "       [0.034961  ],\n",
       "       [0.0807071 ],\n",
       "       [0.83272827],\n",
       "       [0.60466796],\n",
       "       [0.8752111 ],\n",
       "       [0.00546107],\n",
       "       [0.02197528],\n",
       "       [0.0117668 ],\n",
       "       [0.02068714],\n",
       "       [0.17701243],\n",
       "       [0.5812172 ],\n",
       "       [0.15361458],\n",
       "       [0.06908318],\n",
       "       [0.8820289 ],\n",
       "       [0.01421028],\n",
       "       [0.10207371],\n",
       "       [0.3371332 ],\n",
       "       [0.04943793],\n",
       "       [0.12014481],\n",
       "       [0.13034643],\n",
       "       [0.42053118],\n",
       "       [0.02503929],\n",
       "       [0.17929041],\n",
       "       [0.21109776],\n",
       "       [0.21672152],\n",
       "       [0.01856717],\n",
       "       [0.33743107],\n",
       "       [0.00741717],\n",
       "       [0.01488799],\n",
       "       [0.78256655],\n",
       "       [0.6548457 ],\n",
       "       [0.27699468],\n",
       "       [0.5769824 ],\n",
       "       [0.06690041],\n",
       "       [0.00860245],\n",
       "       [0.5616459 ],\n",
       "       [0.0076068 ],\n",
       "       [0.00997639],\n",
       "       [0.8806108 ],\n",
       "       [0.01522984],\n",
       "       [0.43726787],\n",
       "       [0.07469167],\n",
       "       [0.8628598 ],\n",
       "       [0.00705715],\n",
       "       [0.10252581],\n",
       "       [0.01550332],\n",
       "       [0.00773843],\n",
       "       [0.00850835],\n",
       "       [0.8536497 ],\n",
       "       [0.08496182],\n",
       "       [0.03047155],\n",
       "       [0.01109672],\n",
       "       [0.00523396],\n",
       "       [0.20491713],\n",
       "       [0.8461375 ],\n",
       "       [0.13832311],\n",
       "       [0.0246395 ],\n",
       "       [0.0076649 ],\n",
       "       [0.8846352 ],\n",
       "       [0.15994836],\n",
       "       [0.03317899],\n",
       "       [0.03749329],\n",
       "       [0.00986896],\n",
       "       [0.8505722 ],\n",
       "       [0.5886863 ],\n",
       "       [0.17797622],\n",
       "       [0.00968574],\n",
       "       [0.8415596 ],\n",
       "       [0.01164362],\n",
       "       [0.14516114],\n",
       "       [0.0967175 ],\n",
       "       [0.09956786],\n",
       "       [0.70329493],\n",
       "       [0.01246168],\n",
       "       [0.01680962],\n",
       "       [0.31848487],\n",
       "       [0.37937146],\n",
       "       [0.00744625],\n",
       "       [0.74299836],\n",
       "       [0.18304968],\n",
       "       [0.05169883],\n",
       "       [0.01433099],\n",
       "       [0.7360416 ],\n",
       "       [0.00176033],\n",
       "       [0.3666424 ],\n",
       "       [0.91654575],\n",
       "       [0.35397515],\n",
       "       [0.01179754],\n",
       "       [0.18794723],\n",
       "       [0.02358746],\n",
       "       [0.6467178 ],\n",
       "       [0.64726686],\n",
       "       [0.08811316],\n",
       "       [0.20852137],\n",
       "       [0.27673733],\n",
       "       [0.08311588],\n",
       "       [0.02632527],\n",
       "       [0.38959438],\n",
       "       [0.69085765],\n",
       "       [0.81596816],\n",
       "       [0.20786689],\n",
       "       [0.06005299],\n",
       "       [0.03044988],\n",
       "       [0.8244077 ],\n",
       "       [0.02194779],\n",
       "       [0.01276688],\n",
       "       [0.8869028 ],\n",
       "       [0.52371234],\n",
       "       [0.40136182],\n",
       "       [0.7533072 ],\n",
       "       [0.6144445 ],\n",
       "       [0.14160955],\n",
       "       [0.54248196],\n",
       "       [0.01284335],\n",
       "       [0.29134023],\n",
       "       [0.28367475],\n",
       "       [0.04410562],\n",
       "       [0.7310003 ],\n",
       "       [0.02520377],\n",
       "       [0.02080151],\n",
       "       [0.33150482],\n",
       "       [0.65903807],\n",
       "       [0.1864744 ],\n",
       "       [0.6024171 ],\n",
       "       [0.90749246],\n",
       "       [0.66698426],\n",
       "       [0.1350615 ],\n",
       "       [0.7446888 ],\n",
       "       [0.90000206],\n",
       "       [0.01750756],\n",
       "       [0.00713052],\n",
       "       [0.9518792 ],\n",
       "       [0.68785644],\n",
       "       [0.01352558],\n",
       "       [0.28417036],\n",
       "       [0.212847  ],\n",
       "       [0.00843603],\n",
       "       [0.03021174],\n",
       "       [0.09335478],\n",
       "       [0.32889336],\n",
       "       [0.52732635],\n",
       "       [0.01061   ],\n",
       "       [0.13508429],\n",
       "       [0.12978794],\n",
       "       [0.77022344],\n",
       "       [0.07183352],\n",
       "       [0.008742  ],\n",
       "       [0.0035542 ],\n",
       "       [0.02361624],\n",
       "       [0.03688685],\n",
       "       [0.0137815 ],\n",
       "       [0.00922527],\n",
       "       [0.06161921],\n",
       "       [0.0146238 ],\n",
       "       [0.7290888 ],\n",
       "       [0.11681778],\n",
       "       [0.01498392],\n",
       "       [0.68652314],\n",
       "       [0.01128731],\n",
       "       [0.9056886 ],\n",
       "       [0.00707315],\n",
       "       [0.00946718],\n",
       "       [0.0999181 ],\n",
       "       [0.793088  ],\n",
       "       [0.7201258 ],\n",
       "       [0.06395251],\n",
       "       [0.7635013 ],\n",
       "       [0.12281042],\n",
       "       [0.15771784],\n",
       "       [0.05212419],\n",
       "       [0.03086805],\n",
       "       [0.0088649 ],\n",
       "       [0.01221249],\n",
       "       [0.11667778],\n",
       "       [0.0061503 ],\n",
       "       [0.1620013 ],\n",
       "       [0.7469602 ],\n",
       "       [0.47245145],\n",
       "       [0.02085703],\n",
       "       [0.04094696],\n",
       "       [0.18623894],\n",
       "       [0.1078826 ],\n",
       "       [0.02067136],\n",
       "       [0.10712104],\n",
       "       [0.0328903 ],\n",
       "       [0.00175016],\n",
       "       [0.0335358 ],\n",
       "       [0.00411175],\n",
       "       [0.00611306],\n",
       "       [0.01284148],\n",
       "       [0.86486024],\n",
       "       [0.70798415],\n",
       "       [0.11869037],\n",
       "       [0.08305822],\n",
       "       [0.02480977],\n",
       "       [0.6647083 ],\n",
       "       [0.01489493],\n",
       "       [0.22603765],\n",
       "       [0.00996344],\n",
       "       [0.2939415 ],\n",
       "       [0.10586543],\n",
       "       [0.21502653],\n",
       "       [0.66097015],\n",
       "       [0.00185686],\n",
       "       [0.39050084],\n",
       "       [0.00282252],\n",
       "       [0.03272028],\n",
       "       [0.7921136 ],\n",
       "       [0.41004682],\n",
       "       [0.00645579],\n",
       "       [0.05504091],\n",
       "       [0.37646863],\n",
       "       [0.03726116],\n",
       "       [0.1771009 ],\n",
       "       [0.58295625],\n",
       "       [0.38543913],\n",
       "       [0.1976578 ],\n",
       "       [0.20727684],\n",
       "       [0.7652899 ],\n",
       "       [0.26392955],\n",
       "       [0.01308305],\n",
       "       [0.05238957],\n",
       "       [0.07179542],\n",
       "       [0.00538564],\n",
       "       [0.78834045],\n",
       "       [0.14942203],\n",
       "       [0.598684  ],\n",
       "       [0.00568628],\n",
       "       [0.15618514],\n",
       "       [0.18136899],\n",
       "       [0.02549487],\n",
       "       [0.80686086],\n",
       "       [0.9227342 ],\n",
       "       [0.02993479],\n",
       "       [0.01668556],\n",
       "       [0.31848487],\n",
       "       [0.00397334],\n",
       "       [0.03983929],\n",
       "       [0.11393048],\n",
       "       [0.1295027 ],\n",
       "       [0.51802814],\n",
       "       [0.14515935],\n",
       "       [0.02136309],\n",
       "       [0.04208413]], dtype=float32)"
      ]
     },
     "execution_count": 180,
     "metadata": {},
     "output_type": "execute_result"
    }
   ],
   "source": [
    "y_predict = model.predict(X_test)\n",
    "y_predict "
   ]
  }
 ],
 "metadata": {
  "accelerator": "GPU",
  "colab": {
   "collapsed_sections": [
    "0fFD-yYaptrm",
    "u7MMM-ibptuF"
   ],
   "name": "Classification.ipynb",
   "provenance": []
  },
  "kernelspec": {
   "display_name": "Python 3",
   "language": "python",
   "name": "python3"
  },
  "language_info": {
   "codemirror_mode": {
    "name": "ipython",
    "version": 3
   },
   "file_extension": ".py",
   "mimetype": "text/x-python",
   "name": "python",
   "nbconvert_exporter": "python",
   "pygments_lexer": "ipython3",
   "version": "3.8.3"
  }
 },
 "nbformat": 4,
 "nbformat_minor": 4
}
